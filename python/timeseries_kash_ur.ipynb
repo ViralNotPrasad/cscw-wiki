{
 "cells": [
  {
   "cell_type": "code",
   "execution_count": 21,
   "metadata": {},
   "outputs": [],
   "source": [
    "from os import listdir\n",
    "from os.path import isfile, join\n",
    "import json\n",
    "import pandas as pd\n",
    "import datetime\n",
    "import seaborn as sns\n",
    "sns.set(rc={'figure.figsize':(13, 6)})"
   ]
  },
  {
   "cell_type": "code",
   "execution_count": 2,
   "metadata": {},
   "outputs": [],
   "source": [
    "mypath = \"../data/revisions/\"\n",
    "file = \"rev_kash_ur_21-10-2019 12-30-37.json\"\n",
    "\n",
    "with open(mypath + file) as thefile:\n",
    "        data = json.load(thefile)\n",
    "        df = pd.DataFrame(data)"
   ]
  },
  {
   "cell_type": "code",
   "execution_count": 3,
   "metadata": {},
   "outputs": [
    {
     "name": "stdout",
     "output_type": "stream",
     "text": [
      "           user  anon            timestamp  size  \\\n",
      "0  103.255.6.68  True  2019-09-01 06:05:52  7199   \n",
      "1     امین اکبر   NaN  2019-08-22 12:42:15  7196   \n",
      "2   103.7.77.73  True  2019-08-14 12:02:55  7056   \n",
      "\n",
      "                                               slots  \\\n",
      "0  {'main': {'contentmodel': 'wikitext', 'content...   \n",
      "1  {'main': {'contentmodel': 'wikitext', 'content...   \n",
      "2  {'main': {'contentmodel': 'wikitext', 'content...   \n",
      "\n",
      "                                             comment  \n",
      "0  /* مئلہ کشمیر پر اقوام متحدہ کی ثالثی */ Fixed...  \n",
      "1                                                     \n",
      "2                          1971 کی جنگ کا زکر نہ تھا  \n"
     ]
    }
   ],
   "source": [
    "df['timestamp'] = df['timestamp'].astype(str)\n",
    "df.timestamp=df.timestamp.str.replace(\"T\",\" \")\n",
    "df.timestamp=df.timestamp.str.replace(\"Z\",\"\")\n",
    "# df.to_csv(r'kash_hi.csv')\n",
    "print(df[:3])"
   ]
  },
  {
   "cell_type": "code",
   "execution_count": 4,
   "metadata": {
    "scrolled": true
   },
   "outputs": [],
   "source": [
    "df['timestamp'] = pd.to_datetime(df['timestamp'])\n",
    "df['size'] = pd.to_numeric(df['size'])\n",
    "df.dtypes\n",
    "df = df.set_index('timestamp')"
   ]
  },
  {
   "cell_type": "code",
   "execution_count": 5,
   "metadata": {
    "scrolled": true
   },
   "outputs": [
    {
     "data": {
      "text/html": [
       "<div>\n",
       "<style scoped>\n",
       "    .dataframe tbody tr th:only-of-type {\n",
       "        vertical-align: middle;\n",
       "    }\n",
       "\n",
       "    .dataframe tbody tr th {\n",
       "        vertical-align: top;\n",
       "    }\n",
       "\n",
       "    .dataframe thead th {\n",
       "        text-align: right;\n",
       "    }\n",
       "</style>\n",
       "<table border=\"1\" class=\"dataframe\">\n",
       "  <thead>\n",
       "    <tr style=\"text-align: right;\">\n",
       "      <th></th>\n",
       "      <th>user</th>\n",
       "      <th>anon</th>\n",
       "      <th>size</th>\n",
       "      <th>slots</th>\n",
       "      <th>comment</th>\n",
       "      <th>year</th>\n",
       "      <th>month</th>\n",
       "      <th>day</th>\n",
       "    </tr>\n",
       "    <tr>\n",
       "      <th>timestamp</th>\n",
       "      <th></th>\n",
       "      <th></th>\n",
       "      <th></th>\n",
       "      <th></th>\n",
       "      <th></th>\n",
       "      <th></th>\n",
       "      <th></th>\n",
       "      <th></th>\n",
       "    </tr>\n",
       "  </thead>\n",
       "  <tbody>\n",
       "    <tr>\n",
       "      <th>2019-09-01 06:05:52</th>\n",
       "      <td>103.255.6.68</td>\n",
       "      <td>True</td>\n",
       "      <td>7199</td>\n",
       "      <td>{'main': {'contentmodel': 'wikitext', 'content...</td>\n",
       "      <td>/* مئلہ کشمیر پر اقوام متحدہ کی ثالثی */ Fixed...</td>\n",
       "      <td>2019</td>\n",
       "      <td>9</td>\n",
       "      <td>Sunday</td>\n",
       "    </tr>\n",
       "    <tr>\n",
       "      <th>2019-08-22 12:42:15</th>\n",
       "      <td>امین اکبر</td>\n",
       "      <td>NaN</td>\n",
       "      <td>7196</td>\n",
       "      <td>{'main': {'contentmodel': 'wikitext', 'content...</td>\n",
       "      <td></td>\n",
       "      <td>2019</td>\n",
       "      <td>8</td>\n",
       "      <td>Thursday</td>\n",
       "    </tr>\n",
       "    <tr>\n",
       "      <th>2019-08-14 12:02:55</th>\n",
       "      <td>103.7.77.73</td>\n",
       "      <td>True</td>\n",
       "      <td>7056</td>\n",
       "      <td>{'main': {'contentmodel': 'wikitext', 'content...</td>\n",
       "      <td>1971 کی جنگ کا زکر نہ تھا</td>\n",
       "      <td>2019</td>\n",
       "      <td>8</td>\n",
       "      <td>Wednesday</td>\n",
       "    </tr>\n",
       "  </tbody>\n",
       "</table>\n",
       "</div>"
      ],
      "text/plain": [
       "                             user  anon  size  \\\n",
       "timestamp                                       \n",
       "2019-09-01 06:05:52  103.255.6.68  True  7199   \n",
       "2019-08-22 12:42:15     امین اکبر   NaN  7196   \n",
       "2019-08-14 12:02:55   103.7.77.73  True  7056   \n",
       "\n",
       "                                                                 slots  \\\n",
       "timestamp                                                                \n",
       "2019-09-01 06:05:52  {'main': {'contentmodel': 'wikitext', 'content...   \n",
       "2019-08-22 12:42:15  {'main': {'contentmodel': 'wikitext', 'content...   \n",
       "2019-08-14 12:02:55  {'main': {'contentmodel': 'wikitext', 'content...   \n",
       "\n",
       "                                                               comment  year  \\\n",
       "timestamp                                                                      \n",
       "2019-09-01 06:05:52  /* مئلہ کشمیر پر اقوام متحدہ کی ثالثی */ Fixed...  2019   \n",
       "2019-08-22 12:42:15                                                     2019   \n",
       "2019-08-14 12:02:55                          1971 کی جنگ کا زکر نہ تھا  2019   \n",
       "\n",
       "                     month        day  \n",
       "timestamp                              \n",
       "2019-09-01 06:05:52      9     Sunday  \n",
       "2019-08-22 12:42:15      8   Thursday  \n",
       "2019-08-14 12:02:55      8  Wednesday  "
      ]
     },
     "execution_count": 5,
     "metadata": {},
     "output_type": "execute_result"
    }
   ],
   "source": [
    "# df = df.set_index('timestamp')\n",
    "df['year'] = df.index.year\n",
    "df['month'] = df.index.month\n",
    "df['day'] = df.index.weekday_name\n",
    "df.dtypes\n",
    "df.head(3)"
   ]
  },
  {
   "cell_type": "code",
   "execution_count": 22,
   "metadata": {
    "scrolled": true
   },
   "outputs": [
    {
     "data": {
      "text/plain": [
       "<matplotlib.axes._subplots.AxesSubplot at 0x133199f90>"
      ]
     },
     "execution_count": 22,
     "metadata": {},
     "output_type": "execute_result"
    },
    {
     "data": {
      "image/png": "[encoded data removed]",
      "text/plain": [
       "<Figure size 936x432 with 1 Axes>"
      ]
     },
     "metadata": {},
     "output_type": "display_data"
    }
   ],
   "source": [
    "df['size'].plot(marker='o', linestyle='-', linewidth=1.5, color = 'blue')"
   ]
  },
  {
   "cell_type": "code",
   "execution_count": 20,
   "metadata": {},
   "outputs": [],
   "source": [
    "# df = df.drop(['user', 'anon', 'slots','comment'], axis=1)\n",
    "df.dtypes\n",
    "df.to_csv(r'kash_ur.csv')"
   ]
  }
 ],
 "metadata": {
  "kernelspec": {
   "display_name": "Python 3",
   "language": "python",
   "name": "python3"
  },
  "language_info": {
   "codemirror_mode": {
    "name": "ipython",
    "version": 3
   },
   "file_extension": ".py",
   "mimetype": "text/x-python",
   "name": "python",
   "nbconvert_exporter": "python",
   "pygments_lexer": "ipython3",
   "version": "3.7.4"
  }
 },
 "nbformat": 4,
 "nbformat_minor": 2
}
