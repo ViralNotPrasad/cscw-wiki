{
 "cells": [
  {
   "cell_type": "code",
   "execution_count": 12,
   "metadata": {},
   "outputs": [],
   "source": [
    "from os import listdir\n",
    "import io\n",
    "from os.path import isfile, join\n",
    "import json\n",
    "import pandas as pd\n",
    "import datetime\n",
    "import seaborn as sns\n",
    "sns.set(rc={'figure.figsize':(20,10)})\n",
    "import matplotlib.pyplot as plt"
   ]
  },
  {
   "cell_type": "code",
   "execution_count": 2,
   "metadata": {},
   "outputs": [],
   "source": [
    "df_en = pd.read_csv('kash_en.csv') \n",
    "df_hi = pd.read_csv('kash_hi.csv') \n",
    "df_ur = pd.read_csv('kash_ur.csv') \n",
    "df = pd.read_csv('kash_ur.csv')"
   ]
  },
  {
   "cell_type": "code",
   "execution_count": null,
   "metadata": {},
   "outputs": [],
   "source": [
    "df = "
   ]
  },
  {
   "cell_type": "code",
   "execution_count": 6,
   "metadata": {},
   "outputs": [],
   "source": [
    "df_hi['timestamp'] = pd.to_datetime(df_hi['timestamp'])\n",
    "df_hi['size_hi'] = pd.to_numeric(df_hi['size'])\n",
    "df.dtypes\n",
    "df_hi = df_hi.set_index('timestamp')"
   ]
  },
  {
   "cell_type": "code",
   "execution_count": 7,
   "metadata": {},
   "outputs": [],
   "source": [
    "df_ur['timestamp'] = pd.to_datetime(df_ur['timestamp'])\n",
    "df_ur['size_ur'] = pd.to_numeric(df_ur['size'])\n",
    "df.dtypes\n",
    "df_ur = df_ur.set_index('timestamp')"
   ]
  },
  {
   "cell_type": "code",
   "execution_count": 8,
   "metadata": {},
   "outputs": [],
   "source": [
    "df = pd.concat([df_hi, df_ur], axis=1, join='outer')"
   ]
  },
  {
   "cell_type": "code",
   "execution_count": 9,
   "metadata": {
    "scrolled": false
   },
   "outputs": [
    {
     "name": "stdout",
     "output_type": "stream",
     "text": [
      "                        size  year  month       day  size_hi       user anon  \\\n",
      "timestamp                                                                      \n",
      "2013-10-18 07:33:54      NaN  2013     10    Friday      NaN  امین اکبر  NaN   \n",
      "2013-10-18 07:48:15      NaN  2013     10    Friday      NaN  امین اکبر  NaN   \n",
      "2013-10-18 07:57:47      NaN  2013     10    Friday      NaN  امین اکبر  NaN   \n",
      "2013-10-18 08:18:34      NaN  2013     10    Friday      NaN   Tahir mq  NaN   \n",
      "2013-10-18 08:19:00      NaN  2013     10    Friday      NaN   Tahir mq  NaN   \n",
      "...                      ...   ...    ...       ...      ...        ...  ...   \n",
      "2019-09-16 16:17:56  41074.0  2019      9    Monday  41074.0        NaN  NaN   \n",
      "2019-09-16 18:24:58  41050.0  2019      9    Monday  41050.0        NaN  NaN   \n",
      "2019-10-10 09:12:44  41033.0  2019     10  Thursday  41033.0        NaN  NaN   \n",
      "2019-10-10 13:26:48  41050.0  2019     10  Thursday  41050.0        NaN  NaN   \n",
      "2019-10-13 07:02:18  41085.0  2019     10    Sunday  41085.0        NaN  NaN   \n",
      "\n",
      "                       size  \\\n",
      "timestamp                     \n",
      "2013-10-18 07:33:54  1441.0   \n",
      "2013-10-18 07:48:15  1614.0   \n",
      "2013-10-18 07:57:47  1639.0   \n",
      "2013-10-18 08:18:34  1696.0   \n",
      "2013-10-18 08:19:00  1740.0   \n",
      "...                     ...   \n",
      "2019-09-16 16:17:56     NaN   \n",
      "2019-09-16 18:24:58     NaN   \n",
      "2019-10-10 09:12:44     NaN   \n",
      "2019-10-10 13:26:48     NaN   \n",
      "2019-10-13 07:02:18     NaN   \n",
      "\n",
      "                                                               comment  year  \\\n",
      "timestamp                                                                      \n",
      "2013-10-18 07:33:54  نیا صفحہ:  مسئلہ کشمیر، پاکستان، ہندوستان اور ...  2013   \n",
      "2013-10-18 07:48:15                                                NaN  2013   \n",
      "2013-10-18 07:57:47  نے [[زمرہ:کشمیر]] کا اضافہ کیا [[ویکیپیڈیا:فور...  2013   \n",
      "2013-10-18 08:18:34  نے [[زمرہ:ایشیاء کے متنازعہ علاقے]] کا اضافہ ک...  2013   \n",
      "2013-10-18 08:19:00  نے [[زمرہ:تاریخ آزاد کشمیر]] کا اضافہ کیا [[وی...  2013   \n",
      "...                                                                ...   ...   \n",
      "2019-09-16 16:17:56                                                NaN  2019   \n",
      "2019-09-16 18:24:58                                                NaN  2019   \n",
      "2019-10-10 09:12:44                                                NaN  2019   \n",
      "2019-10-10 13:26:48                                                NaN  2019   \n",
      "2019-10-13 07:02:18                                                NaN  2019   \n",
      "\n",
      "                     month       day  size_ur  \n",
      "timestamp                                      \n",
      "2013-10-18 07:33:54     10    Friday   1441.0  \n",
      "2013-10-18 07:48:15     10    Friday   1614.0  \n",
      "2013-10-18 07:57:47     10    Friday   1639.0  \n",
      "2013-10-18 08:18:34     10    Friday   1696.0  \n",
      "2013-10-18 08:19:00     10    Friday   1740.0  \n",
      "...                    ...       ...      ...  \n",
      "2019-09-16 16:17:56      9    Monday      NaN  \n",
      "2019-09-16 18:24:58      9    Monday      NaN  \n",
      "2019-10-10 09:12:44     10  Thursday      NaN  \n",
      "2019-10-10 13:26:48     10  Thursday      NaN  \n",
      "2019-10-13 07:02:18     10    Sunday      NaN  \n",
      "\n",
      "[156 rows x 13 columns]\n"
     ]
    }
   ],
   "source": [
    "# df = df.set_index('timestamp')\n",
    "df['year'] = df.index.year\n",
    "df['month'] = df.index.month\n",
    "df['day'] = df.index.weekday_name\n",
    "df.dtypes\n",
    "print(df)"
   ]
  },
  {
   "cell_type": "code",
   "execution_count": 10,
   "metadata": {},
   "outputs": [],
   "source": [
    "df.to_csv(r'kash_hi_ur.csv')"
   ]
  },
  {
   "cell_type": "code",
   "execution_count": 13,
   "metadata": {},
   "outputs": [
    {
     "data": {
      "text/plain": [
       "<matplotlib.legend.Legend at 0x101dca950>"
      ]
     },
     "execution_count": 13,
     "metadata": {},
     "output_type": "execute_result"
    },
    {
     "data": {
      "image/png": "[encoded data removed]",
      "text/plain": [
       "<Figure size 1440x720 with 1 Axes>"
      ]
     },
     "metadata": {},
     "output_type": "display_data"
    }
   ],
   "source": [
    "fig, ax = plt.subplots()\n",
    "ax.plot(df['size'], marker='.', markersize=2, color='red',linestyle='None', label='English')\n",
    "ax.plot(df['size_hi'], marker='o', linestyle='-', linewidth=1.5, label='Hindi')\n",
    "ax.plot(df['size_ur'], marker='o', linestyle='-', linewidth=1.5, label='Urdu')\n",
    "ax.legend()\n",
    "\n"
   ]
  }
 ],
 "metadata": {
  "kernelspec": {
   "display_name": "Python 3",
   "language": "python",
   "name": "python3"
  },
  "language_info": {
   "codemirror_mode": {
    "name": "ipython",
    "version": 3
   },
   "file_extension": ".py",
   "mimetype": "text/x-python",
   "name": "python",
   "nbconvert_exporter": "python",
   "pygments_lexer": "ipython3",
   "version": "3.7.4"
  }
 },
 "nbformat": 4,
 "nbformat_minor": 2
}
