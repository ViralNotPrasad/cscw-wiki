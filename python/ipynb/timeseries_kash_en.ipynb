{
 "cells": [
  {
   "cell_type": "code",
   "execution_count": 8,
   "metadata": {},
   "outputs": [],
   "source": [
    "from os import listdir\n",
    "from os.path import isfile, join\n",
    "import json\n",
    "import pandas as pd\n",
    "import datetime\n",
    "import seaborn as sns\n",
    "sns.set(rc={'figure.figsize':(20,10)})"
   ]
  },
  {
   "cell_type": "code",
   "execution_count": 3,
   "metadata": {},
   "outputs": [],
   "source": [
    "mypath = \"../data/revisions/\"\n",
    "file = \"rev_kash_en_27-10-2019 21-52-24.json\"\n",
    "\n",
    "with open(mypath + file) as thefile:\n",
    "        data = json.load(thefile)\n",
    "        df = pd.DataFrame(data)"
   ]
  },
  {
   "cell_type": "code",
   "execution_count": 12,
   "metadata": {},
   "outputs": [
    {
     "data": {
      "text/plain": [
       "list"
      ]
     },
     "execution_count": 12,
     "metadata": {},
     "output_type": "execute_result"
    }
   ],
   "source": [
    "type(data)"
   ]
  },
  {
   "cell_type": "code",
   "execution_count": 4,
   "metadata": {},
   "outputs": [
    {
     "name": "stdout",
     "output_type": "stream",
     "text": [
      "         user            timestamp    size  \\\n",
      "0   Kautilya3  2019-10-23 16:37:44  365153   \n",
      "1  Montysumit  2019-10-23 16:31:47  365263   \n",
      "2  Montysumit  2019-10-23 16:22:07  365153   \n",
      "\n",
      "                                             comment anon  \n",
      "0  Reverted 2 edits by [[Special:Contributions/Mo...  NaN  \n",
      "1  Facts presented more properly. If this doesn't...  NaN  \n",
      "2  Those cites quoted are partially or fully fund...  NaN  \n"
     ]
    }
   ],
   "source": [
    "df['timestamp'] = df['timestamp'].astype(str)\n",
    "df.timestamp=df.timestamp.str.replace(\"T\",\" \")\n",
    "df.timestamp=df.timestamp.str.replace(\"Z\",\"\")\n",
    "# df.to_csv(r'kash_hi.csv')\n",
    "print(df[:3])"
   ]
  },
  {
   "cell_type": "code",
   "execution_count": 5,
   "metadata": {
    "scrolled": true
   },
   "outputs": [],
   "source": [
    "df['timestamp'] = pd.to_datetime(df['timestamp'])\n",
    "df['size'] = pd.to_numeric(df['size'])\n",
    "df.dtypes\n",
    "df = df.set_index('timestamp')"
   ]
  },
  {
   "cell_type": "code",
   "execution_count": 6,
   "metadata": {
    "scrolled": false
   },
   "outputs": [
    {
     "data": {
      "text/html": [
       "<div>\n",
       "<style scoped>\n",
       "    .dataframe tbody tr th:only-of-type {\n",
       "        vertical-align: middle;\n",
       "    }\n",
       "\n",
       "    .dataframe tbody tr th {\n",
       "        vertical-align: top;\n",
       "    }\n",
       "\n",
       "    .dataframe thead th {\n",
       "        text-align: right;\n",
       "    }\n",
       "</style>\n",
       "<table border=\"1\" class=\"dataframe\">\n",
       "  <thead>\n",
       "    <tr style=\"text-align: right;\">\n",
       "      <th></th>\n",
       "      <th>user</th>\n",
       "      <th>size</th>\n",
       "      <th>comment</th>\n",
       "      <th>anon</th>\n",
       "      <th>year</th>\n",
       "      <th>month</th>\n",
       "      <th>day</th>\n",
       "    </tr>\n",
       "    <tr>\n",
       "      <th>timestamp</th>\n",
       "      <th></th>\n",
       "      <th></th>\n",
       "      <th></th>\n",
       "      <th></th>\n",
       "      <th></th>\n",
       "      <th></th>\n",
       "      <th></th>\n",
       "    </tr>\n",
       "  </thead>\n",
       "  <tbody>\n",
       "    <tr>\n",
       "      <th>2019-10-23 16:37:44</th>\n",
       "      <td>Kautilya3</td>\n",
       "      <td>365153</td>\n",
       "      <td>Reverted 2 edits by [[Special:Contributions/Mo...</td>\n",
       "      <td>NaN</td>\n",
       "      <td>2019</td>\n",
       "      <td>10</td>\n",
       "      <td>Wednesday</td>\n",
       "    </tr>\n",
       "    <tr>\n",
       "      <th>2019-10-23 16:31:47</th>\n",
       "      <td>Montysumit</td>\n",
       "      <td>365263</td>\n",
       "      <td>Facts presented more properly. If this doesn't...</td>\n",
       "      <td>NaN</td>\n",
       "      <td>2019</td>\n",
       "      <td>10</td>\n",
       "      <td>Wednesday</td>\n",
       "    </tr>\n",
       "    <tr>\n",
       "      <th>2019-10-23 16:22:07</th>\n",
       "      <td>Montysumit</td>\n",
       "      <td>365153</td>\n",
       "      <td>Those cites quoted are partially or fully fund...</td>\n",
       "      <td>NaN</td>\n",
       "      <td>2019</td>\n",
       "      <td>10</td>\n",
       "      <td>Wednesday</td>\n",
       "    </tr>\n",
       "  </tbody>\n",
       "</table>\n",
       "</div>"
      ],
      "text/plain": [
       "                           user    size  \\\n",
       "timestamp                                 \n",
       "2019-10-23 16:37:44   Kautilya3  365153   \n",
       "2019-10-23 16:31:47  Montysumit  365263   \n",
       "2019-10-23 16:22:07  Montysumit  365153   \n",
       "\n",
       "                                                               comment anon  \\\n",
       "timestamp                                                                     \n",
       "2019-10-23 16:37:44  Reverted 2 edits by [[Special:Contributions/Mo...  NaN   \n",
       "2019-10-23 16:31:47  Facts presented more properly. If this doesn't...  NaN   \n",
       "2019-10-23 16:22:07  Those cites quoted are partially or fully fund...  NaN   \n",
       "\n",
       "                     year  month        day  \n",
       "timestamp                                    \n",
       "2019-10-23 16:37:44  2019     10  Wednesday  \n",
       "2019-10-23 16:31:47  2019     10  Wednesday  \n",
       "2019-10-23 16:22:07  2019     10  Wednesday  "
      ]
     },
     "execution_count": 6,
     "metadata": {},
     "output_type": "execute_result"
    }
   ],
   "source": [
    "# df = df.set_index('timestamp')\n",
    "df['year'] = df.index.year\n",
    "df['month'] = df.index.month\n",
    "df['day'] = df.index.weekday_name\n",
    "df.dtypes\n",
    "df.head(3)"
   ]
  },
  {
   "cell_type": "code",
   "execution_count": 9,
   "metadata": {
    "scrolled": true
   },
   "outputs": [
    {
     "data": {
      "text/plain": [
       "<matplotlib.axes._subplots.AxesSubplot at 0x12ce85750>"
      ]
     },
     "execution_count": 9,
     "metadata": {},
     "output_type": "execute_result"
    },
    {
     "data": {
      "image/png": "[encoded data removed]",
      "text/plain": [
       "<Figure size 1152x576 with 1 Axes>"
      ]
     },
     "metadata": {},
     "output_type": "display_data"
    }
   ],
   "source": [
    "df['size'].plot(marker='o', linestyle='-', linewidth=1.5, color = 'black')"
   ]
  },
  {
   "cell_type": "code",
   "execution_count": 12,
   "metadata": {},
   "outputs": [],
   "source": [
    "df = df.drop(['user','comment'], axis=1)\n",
    "df.dtypes\n",
    "df.to_csv(r'kash_en.csv')"
   ]
  }
 ],
 "metadata": {
  "kernelspec": {
   "display_name": "Python 3",
   "language": "python",
   "name": "python3"
  },
  "language_info": {
   "codemirror_mode": {
    "name": "ipython",
    "version": 3
   },
   "file_extension": ".py",
   "mimetype": "text/x-python",
   "name": "python",
   "nbconvert_exporter": "python",
   "pygments_lexer": "ipython3",
   "version": "3.7.4"
  }
 },
 "nbformat": 4,
 "nbformat_minor": 2
}
