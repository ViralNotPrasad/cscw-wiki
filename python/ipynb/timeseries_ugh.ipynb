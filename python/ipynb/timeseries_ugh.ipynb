{
 "cells": [
  {
   "cell_type": "code",
   "execution_count": 9,
   "metadata": {},
   "outputs": [],
   "source": [
    "from os import listdir\n",
    "from os.path import isfile, join\n",
    "import json\n",
    "import pandas as pd\n",
    "import datetime\n",
    "import seaborn as sns\n",
    "sns.set(rc={'figure.figsize':(20,10)})"
   ]
  },
  {
   "cell_type": "code",
   "execution_count": 2,
   "metadata": {},
   "outputs": [],
   "source": [
    "mypath = \"../data/revisions/\"\n",
    "file = \"rev_article_hi_27-10-2019 21-52-25.json\"\n",
    "\n",
    "with open(mypath + file) as thefile:\n",
    "        data = json.load(thefile)\n",
    "        df = pd.DataFrame(data)"
   ]
  },
  {
   "cell_type": "code",
   "execution_count": 3,
   "metadata": {},
   "outputs": [
    {
     "name": "stdout",
     "output_type": "stream",
     "text": [
      "           user            timestamp   size              comment anon\n",
      "0   SHIVAM VISH  2019-08-31 12:25:53  25886                       NaN\n",
      "1  Srajaltiwari  2019-08-26 06:35:15  25886                       NaN\n",
      "2   अनुनाद सिंह  2019-08-17 11:01:09  25902  /* बाहरी कड़ियाँ */  NaN\n"
     ]
    }
   ],
   "source": [
    "df['timestamp'] = df['timestamp'].astype(str)\n",
    "df.timestamp=df.timestamp.str.replace(\"T\",\" \")\n",
    "df.timestamp=df.timestamp.str.replace(\"Z\",\"\")\n",
    "# df.to_csv(r'kash_hi.csv')\n",
    "print(df[:3])"
   ]
  },
  {
   "cell_type": "code",
   "execution_count": 4,
   "metadata": {
    "scrolled": true
   },
   "outputs": [],
   "source": [
    "df['timestamp'] = pd.to_datetime(df['timestamp'])\n",
    "df['size'] = pd.to_numeric(df['size'])\n",
    "df.dtypes\n",
    "df = df.set_index('timestamp')"
   ]
  },
  {
   "cell_type": "code",
   "execution_count": 5,
   "metadata": {
    "scrolled": true
   },
   "outputs": [
    {
     "data": {
      "text/html": [
       "<div>\n",
       "<style scoped>\n",
       "    .dataframe tbody tr th:only-of-type {\n",
       "        vertical-align: middle;\n",
       "    }\n",
       "\n",
       "    .dataframe tbody tr th {\n",
       "        vertical-align: top;\n",
       "    }\n",
       "\n",
       "    .dataframe thead th {\n",
       "        text-align: right;\n",
       "    }\n",
       "</style>\n",
       "<table border=\"1\" class=\"dataframe\">\n",
       "  <thead>\n",
       "    <tr style=\"text-align: right;\">\n",
       "      <th></th>\n",
       "      <th>user</th>\n",
       "      <th>size</th>\n",
       "      <th>comment</th>\n",
       "      <th>anon</th>\n",
       "      <th>year</th>\n",
       "      <th>month</th>\n",
       "      <th>day</th>\n",
       "    </tr>\n",
       "    <tr>\n",
       "      <th>timestamp</th>\n",
       "      <th></th>\n",
       "      <th></th>\n",
       "      <th></th>\n",
       "      <th></th>\n",
       "      <th></th>\n",
       "      <th></th>\n",
       "      <th></th>\n",
       "    </tr>\n",
       "  </thead>\n",
       "  <tbody>\n",
       "    <tr>\n",
       "      <th>2019-08-31 12:25:53</th>\n",
       "      <td>SHIVAM VISH</td>\n",
       "      <td>25886</td>\n",
       "      <td></td>\n",
       "      <td>NaN</td>\n",
       "      <td>2019</td>\n",
       "      <td>8</td>\n",
       "      <td>Saturday</td>\n",
       "    </tr>\n",
       "    <tr>\n",
       "      <th>2019-08-26 06:35:15</th>\n",
       "      <td>Srajaltiwari</td>\n",
       "      <td>25886</td>\n",
       "      <td></td>\n",
       "      <td>NaN</td>\n",
       "      <td>2019</td>\n",
       "      <td>8</td>\n",
       "      <td>Monday</td>\n",
       "    </tr>\n",
       "    <tr>\n",
       "      <th>2019-08-17 11:01:09</th>\n",
       "      <td>अनुनाद सिंह</td>\n",
       "      <td>25902</td>\n",
       "      <td>/* बाहरी कड़ियाँ */</td>\n",
       "      <td>NaN</td>\n",
       "      <td>2019</td>\n",
       "      <td>8</td>\n",
       "      <td>Saturday</td>\n",
       "    </tr>\n",
       "    <tr>\n",
       "      <th>2019-08-17 06:32:12</th>\n",
       "      <td>अनुनाद सिंह</td>\n",
       "      <td>25426</td>\n",
       "      <td>/* इन्हें भी देखें */</td>\n",
       "      <td>NaN</td>\n",
       "      <td>2019</td>\n",
       "      <td>8</td>\n",
       "      <td>Saturday</td>\n",
       "    </tr>\n",
       "    <tr>\n",
       "      <th>2019-08-17 06:31:22</th>\n",
       "      <td>अनुनाद सिंह</td>\n",
       "      <td>25420</td>\n",
       "      <td>/* धारा ३७० का विरोध */</td>\n",
       "      <td>NaN</td>\n",
       "      <td>2019</td>\n",
       "      <td>8</td>\n",
       "      <td>Saturday</td>\n",
       "    </tr>\n",
       "  </tbody>\n",
       "</table>\n",
       "</div>"
      ],
      "text/plain": [
       "                             user   size                  comment anon  year  \\\n",
       "timestamp                                                                      \n",
       "2019-08-31 12:25:53   SHIVAM VISH  25886                           NaN  2019   \n",
       "2019-08-26 06:35:15  Srajaltiwari  25886                           NaN  2019   \n",
       "2019-08-17 11:01:09   अनुनाद सिंह  25902      /* बाहरी कड़ियाँ */  NaN  2019   \n",
       "2019-08-17 06:32:12   अनुनाद सिंह  25426    /* इन्हें भी देखें */  NaN  2019   \n",
       "2019-08-17 06:31:22   अनुनाद सिंह  25420  /* धारा ३७० का विरोध */  NaN  2019   \n",
       "\n",
       "                     month       day  \n",
       "timestamp                             \n",
       "2019-08-31 12:25:53      8  Saturday  \n",
       "2019-08-26 06:35:15      8    Monday  \n",
       "2019-08-17 11:01:09      8  Saturday  \n",
       "2019-08-17 06:32:12      8  Saturday  \n",
       "2019-08-17 06:31:22      8  Saturday  "
      ]
     },
     "execution_count": 5,
     "metadata": {},
     "output_type": "execute_result"
    }
   ],
   "source": [
    "# df = df.set_index('timestamp')\n",
    "df['year'] = df.index.year\n",
    "df['month'] = df.index.month\n",
    "df['day'] = df.index.weekday_name\n",
    "df.dtypes\n",
    "df.head()\n"
   ]
  },
  {
   "cell_type": "code",
   "execution_count": 11,
   "metadata": {},
   "outputs": [],
   "source": [
    "df = df[df.year != 2014]\n",
    "df = df[df.year != 2013]\n",
    "df = df[df.year != 2016]\n",
    "df = df[df.year != 2015]\n",
    "df = df[df.year != 2011]\n",
    "df = df[df.year != 2012]\n",
    "df = df[df.year != 2017]"
   ]
  },
  {
   "cell_type": "code",
   "execution_count": 12,
   "metadata": {
    "scrolled": true
   },
   "outputs": [
    {
     "data": {
      "text/plain": [
       "<matplotlib.axes._subplots.AxesSubplot at 0x12e3ca310>"
      ]
     },
     "execution_count": 12,
     "metadata": {},
     "output_type": "execute_result"
    },
    {
     "data": {
      "image/png": "[encoded data removed]",
      "text/plain": [
       "<Figure size 1440x720 with 1 Axes>"
      ]
     },
     "metadata": {},
     "output_type": "display_data"
    }
   ],
   "source": [
    "df['size'].plot(marker='o', linestyle='-', linewidth=1.5, color = 'blue')"
   ]
  },
  {
   "cell_type": "code",
   "execution_count": 8,
   "metadata": {},
   "outputs": [],
   "source": [
    "# df = df.drop(['user', 'anon', 'slots','comment'], axis=1)\n",
    "df.dtypes\n",
    "df.to_csv(r'kash_ur.csv')"
   ]
  }
 ],
 "metadata": {
  "kernelspec": {
   "display_name": "Python 3",
   "language": "python",
   "name": "python3"
  },
  "language_info": {
   "codemirror_mode": {
    "name": "ipython",
    "version": 3
   },
   "file_extension": ".py",
   "mimetype": "text/x-python",
   "name": "python",
   "nbconvert_exporter": "python",
   "pygments_lexer": "ipython3",
   "version": "3.7.4"
  }
 },
 "nbformat": 4,
 "nbformat_minor": 2
}
