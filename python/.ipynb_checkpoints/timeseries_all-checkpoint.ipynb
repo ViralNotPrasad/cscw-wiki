{
 "cells": [
  {
   "cell_type": "code",
   "execution_count": 99,
   "metadata": {},
   "outputs": [],
   "source": [
    "from os import listdir\n",
    "import io\n",
    "from os.path import isfile, join\n",
    "import json\n",
    "import pandas as pd\n",
    "import datetime\n",
    "import seaborn as sns\n",
    "sns.set(rc={'figure.figsize':(13, 6)})\n",
    "import matplotlib.pyplot as plt"
   ]
  },
  {
   "cell_type": "code",
   "execution_count": 105,
   "metadata": {},
   "outputs": [],
   "source": [
    "df_en = pd.read_csv('kash_en.csv') \n",
    "df_hi = pd.read_csv('kash_hi.csv') \n",
    "df_ur = pd.read_csv('kash_ur.csv') \n",
    "df = pd.read_csv('kash_ur.csv')"
   ]
  },
  {
   "cell_type": "code",
   "execution_count": 76,
   "metadata": {},
   "outputs": [],
   "source": [
    "# df_en['size_hi'] = pd.Series(df_hi['size'])\n",
    "# df_ur['size_ur'] = pd.Series(df_ur['size'])\n",
    "# df_ur['size_hi'] = pd.Series(df_hi['size'])"
   ]
  },
  {
   "cell_type": "code",
   "execution_count": 26,
   "metadata": {},
   "outputs": [],
   "source": [
    "# df = df_hi"
   ]
  },
  {
   "cell_type": "code",
   "execution_count": 78,
   "metadata": {
    "scrolled": true
   },
   "outputs": [],
   "source": [
    "# df['timestamp'] = pd.to_datetime(df['timestamp'])\n",
    "# df['size'] = pd.to_numeric(df['size'])\n",
    "# df.dtypes\n",
    "# df = df.set_index('timestamp')"
   ]
  },
  {
   "cell_type": "code",
   "execution_count": 106,
   "metadata": {},
   "outputs": [],
   "source": [
    "df_hi['timestamp'] = pd.to_datetime(df_hi['timestamp'])\n",
    "df_hi['size_hi'] = pd.to_numeric(df_hi['size'])\n",
    "df.dtypes\n",
    "df_hi = df_hi.set_index('timestamp')"
   ]
  },
  {
   "cell_type": "code",
   "execution_count": 107,
   "metadata": {},
   "outputs": [],
   "source": [
    "df_ur['timestamp'] = pd.to_datetime(df_ur['timestamp'])\n",
    "df_ur['size_ur'] = pd.to_numeric(df_ur['size'])\n",
    "df.dtypes\n",
    "df_ur = df_ur.set_index('timestamp')"
   ]
  },
  {
   "cell_type": "code",
   "execution_count": 108,
   "metadata": {},
   "outputs": [],
   "source": [
    "df = pd.concat([df_hi, df_ur], axis=1, join='outer')"
   ]
  },
  {
   "cell_type": "code",
   "execution_count": 114,
   "metadata": {
    "scrolled": false
   },
   "outputs": [
    {
     "name": "stdout",
     "output_type": "stream",
     "text": [
      "                        size  year  month       day  size_hi    size  year  \\\n",
      "timestamp                                                                    \n",
      "2015-03-29 21:27:12      NaN  2015      3    Sunday      NaN  6636.0  2015   \n",
      "2015-03-29 21:28:26      NaN  2015      3    Sunday      NaN  6651.0  2015   \n",
      "2015-03-29 21:28:30      NaN  2015      3    Sunday      NaN  6660.0  2015   \n",
      "2015-03-29 21:30:57      NaN  2015      3    Sunday      NaN  6668.0  2015   \n",
      "2015-03-29 21:36:25      NaN  2015      3    Sunday      NaN  6676.0  2015   \n",
      "...                      ...   ...    ...       ...      ...     ...   ...   \n",
      "2019-09-16 16:17:56  41074.0  2019      9    Monday  41074.0     NaN  2019   \n",
      "2019-09-16 18:24:58  41050.0  2019      9    Monday  41050.0     NaN  2019   \n",
      "2019-10-10 09:12:44  41033.0  2019     10  Thursday  41033.0     NaN  2019   \n",
      "2019-10-10 13:26:48  41050.0  2019     10  Thursday  41050.0     NaN  2019   \n",
      "2019-10-13 07:02:18  41085.0  2019     10    Sunday  41085.0     NaN  2019   \n",
      "\n",
      "                     month       day  size_ur  \n",
      "timestamp                                      \n",
      "2015-03-29 21:27:12      3    Sunday   6636.0  \n",
      "2015-03-29 21:28:26      3    Sunday   6651.0  \n",
      "2015-03-29 21:28:30      3    Sunday   6660.0  \n",
      "2015-03-29 21:30:57      3    Sunday   6668.0  \n",
      "2015-03-29 21:36:25      3    Sunday   6676.0  \n",
      "...                    ...       ...      ...  \n",
      "2019-09-16 16:17:56      9    Monday      NaN  \n",
      "2019-09-16 18:24:58      9    Monday      NaN  \n",
      "2019-10-10 09:12:44     10  Thursday      NaN  \n",
      "2019-10-10 13:26:48     10  Thursday      NaN  \n",
      "2019-10-13 07:02:18     10    Sunday      NaN  \n",
      "\n",
      "[100 rows x 10 columns]\n"
     ]
    }
   ],
   "source": [
    "# df = df.set_index('timestamp')\n",
    "df['year'] = df.index.year\n",
    "df['month'] = df.index.month\n",
    "df['day'] = df.index.weekday_name\n",
    "df.dtypes\n",
    "print(df)"
   ]
  },
  {
   "cell_type": "code",
   "execution_count": 112,
   "metadata": {},
   "outputs": [],
   "source": [
    "df.to_csv(r'kash_hi_ur.csv')"
   ]
  },
  {
   "cell_type": "code",
   "execution_count": 111,
   "metadata": {},
   "outputs": [
    {
     "data": {
      "text/plain": [
       "<matplotlib.legend.Legend at 0x1350e66d0>"
      ]
     },
     "execution_count": 111,
     "metadata": {},
     "output_type": "execute_result"
    },
    {
     "data": {
      "image/png": "[encoded data removed]",
      "text/plain": [
       "<Figure size 792x288 with 1 Axes>"
      ]
     },
     "metadata": {},
     "output_type": "display_data"
    }
   ],
   "source": [
    "fig, ax = plt.subplots()\n",
    "# ax.plot(df['size'], marker='.', markersize=2, color='red',linestyle='None', label='English')\n",
    "ax.plot(df['size_hi'], marker='o', linestyle='-', linewidth=1.5, label='Hindi')\n",
    "ax.plot(df['size_ur'], marker='o', linestyle='-', linewidth=1.5, label='Urdu')\n",
    "ax.legend()\n",
    "\n"
   ]
  }
 ],
 "metadata": {
  "kernelspec": {
   "display_name": "Python 3",
   "language": "python",
   "name": "python3"
  },
  "language_info": {
   "codemirror_mode": {
    "name": "ipython",
    "version": 3
   },
   "file_extension": ".py",
   "mimetype": "text/x-python",
   "name": "python",
   "nbconvert_exporter": "python",
   "pygments_lexer": "ipython3",
   "version": "3.7.4"
  }
 },
 "nbformat": 4,
 "nbformat_minor": 2
}
