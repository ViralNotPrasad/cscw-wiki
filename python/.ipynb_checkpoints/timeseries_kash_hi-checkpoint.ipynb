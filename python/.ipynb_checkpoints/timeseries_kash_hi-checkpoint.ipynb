{
 "cells": [
  {
   "cell_type": "code",
   "execution_count": 19,
   "metadata": {},
   "outputs": [],
   "source": [
    "from os import listdir\n",
    "from os.path import isfile, join\n",
    "import json\n",
    "import pandas as pd\n",
    "import datetime\n",
    "import seaborn as sns\n",
    "sns.set(rc={'figure.figsize':(11, 4)})"
   ]
  },
  {
   "cell_type": "code",
   "execution_count": 2,
   "metadata": {},
   "outputs": [],
   "source": [
    "mypath = \"../data/revisions/\"\n",
    "file = \"rev_kash_hi_21-10-2019 12-30-36.json\"\n",
    "\n",
    "with open(mypath + file) as thefile:\n",
    "        data = json.load(thefile)\n",
    "        df = pd.DataFrame(data)"
   ]
  },
  {
   "cell_type": "code",
   "execution_count": 11,
   "metadata": {},
   "outputs": [
    {
     "name": "stdout",
     "output_type": "stream",
     "text": [
      "                                    user            timestamp   size  \\\n",
      "0                           Srajaltiwari  2019-10-13 07:02:18  41085   \n",
      "1                               J ansari  2019-10-10 13:26:48  41050   \n",
      "2  2401:4900:B8C:C40:BD9C:57C4:9690:FDA5  2019-10-10 09:12:44  41033   \n",
      "\n",
      "                                               slots  \\\n",
      "0  {'main': {'contentmodel': 'wikitext', 'content...   \n",
      "1  {'main': {'contentmodel': 'wikitext', 'content...   \n",
      "2  {'main': {'contentmodel': 'wikitext', 'content...   \n",
      "\n",
      "                                             comment  anon  \n",
      "0                                    साँचा जोड़ा गया   NaN  \n",
      "1  [[Special:Contributions/2401:4900:B8C:C40:BD9C...   NaN  \n",
      "2                                                     True  \n"
     ]
    }
   ],
   "source": [
    "df['timestamp'] = df['timestamp'].astype(str)\n",
    "df.timestamp=df.timestamp.str.replace(\"T\",\" \")\n",
    "df.timestamp=df.timestamp.str.replace(\"Z\",\"\")\n",
    "# df.to_csv(r'kash_hi.csv')\n",
    "print(df[:3])"
   ]
  },
  {
   "cell_type": "code",
   "execution_count": 21,
   "metadata": {
    "scrolled": false
   },
   "outputs": [
    {
     "data": {
      "text/plain": [
       "user       object\n",
       "size        int64\n",
       "slots      object\n",
       "comment    object\n",
       "anon       object\n",
       "dtype: object"
      ]
     },
     "execution_count": 21,
     "metadata": {},
     "output_type": "execute_result"
    }
   ],
   "source": [
    "# df['timestamp'] = pd.to_datetime(df['timestamp'])\n",
    "df['size'] = pd.to_numeric(df['size'])\n",
    "df.dtypes"
   ]
  },
  {
   "cell_type": "code",
   "execution_count": 22,
   "metadata": {
    "scrolled": true
   },
   "outputs": [
    {
     "data": {
      "text/html": [
       "<div>\n",
       "<style scoped>\n",
       "    .dataframe tbody tr th:only-of-type {\n",
       "        vertical-align: middle;\n",
       "    }\n",
       "\n",
       "    .dataframe tbody tr th {\n",
       "        vertical-align: top;\n",
       "    }\n",
       "\n",
       "    .dataframe thead th {\n",
       "        text-align: right;\n",
       "    }\n",
       "</style>\n",
       "<table border=\"1\" class=\"dataframe\">\n",
       "  <thead>\n",
       "    <tr style=\"text-align: right;\">\n",
       "      <th></th>\n",
       "      <th>user</th>\n",
       "      <th>size</th>\n",
       "      <th>slots</th>\n",
       "      <th>comment</th>\n",
       "      <th>anon</th>\n",
       "    </tr>\n",
       "    <tr>\n",
       "      <th>timestamp</th>\n",
       "      <th></th>\n",
       "      <th></th>\n",
       "      <th></th>\n",
       "      <th></th>\n",
       "      <th></th>\n",
       "    </tr>\n",
       "  </thead>\n",
       "  <tbody>\n",
       "    <tr>\n",
       "      <th>2019-10-13 07:02:18</th>\n",
       "      <td>Srajaltiwari</td>\n",
       "      <td>41085</td>\n",
       "      <td>{'main': {'contentmodel': 'wikitext', 'content...</td>\n",
       "      <td>साँचा जोड़ा गया</td>\n",
       "      <td>NaN</td>\n",
       "    </tr>\n",
       "    <tr>\n",
       "      <th>2019-10-10 13:26:48</th>\n",
       "      <td>J ansari</td>\n",
       "      <td>41050</td>\n",
       "      <td>{'main': {'contentmodel': 'wikitext', 'content...</td>\n",
       "      <td>[[Special:Contributions/2401:4900:B8C:C40:BD9C...</td>\n",
       "      <td>NaN</td>\n",
       "    </tr>\n",
       "    <tr>\n",
       "      <th>2019-10-10 09:12:44</th>\n",
       "      <td>2401:4900:B8C:C40:BD9C:57C4:9690:FDA5</td>\n",
       "      <td>41033</td>\n",
       "      <td>{'main': {'contentmodel': 'wikitext', 'content...</td>\n",
       "      <td></td>\n",
       "      <td>True</td>\n",
       "    </tr>\n",
       "  </tbody>\n",
       "</table>\n",
       "</div>"
      ],
      "text/plain": [
       "                                                      user   size  \\\n",
       "timestamp                                                           \n",
       "2019-10-13 07:02:18                           Srajaltiwari  41085   \n",
       "2019-10-10 13:26:48                               J ansari  41050   \n",
       "2019-10-10 09:12:44  2401:4900:B8C:C40:BD9C:57C4:9690:FDA5  41033   \n",
       "\n",
       "                                                                 slots  \\\n",
       "timestamp                                                                \n",
       "2019-10-13 07:02:18  {'main': {'contentmodel': 'wikitext', 'content...   \n",
       "2019-10-10 13:26:48  {'main': {'contentmodel': 'wikitext', 'content...   \n",
       "2019-10-10 09:12:44  {'main': {'contentmodel': 'wikitext', 'content...   \n",
       "\n",
       "                                                               comment  anon  \n",
       "timestamp                                                                     \n",
       "2019-10-13 07:02:18                                    साँचा जोड़ा गया   NaN  \n",
       "2019-10-10 13:26:48  [[Special:Contributions/2401:4900:B8C:C40:BD9C...   NaN  \n",
       "2019-10-10 09:12:44                                                     True  "
      ]
     },
     "execution_count": 22,
     "metadata": {},
     "output_type": "execute_result"
    }
   ],
   "source": [
    "# df = df.set_index('timestamp')\n",
    "df.head(3)\n",
    "# df.index"
   ]
  },
  {
   "cell_type": "code",
   "execution_count": 30,
   "metadata": {},
   "outputs": [
    {
     "data": {
      "text/plain": [
       "<matplotlib.axes._subplots.AxesSubplot at 0x133f5bd10>"
      ]
     },
     "execution_count": 30,
     "metadata": {},
     "output_type": "execute_result"
    },
    {
     "data": {
      "image/png": "[encoded data removed]",
      "text/plain": [
       "<Figure size 432x288 with 1 Axes>"
      ]
     },
     "metadata": {
      "needs_background": "light"
     },
     "output_type": "display_data"
    }
   ],
   "source": [
    "df['size'].plot(marker='o', linestyle='-', linewidth=0.5)"
   ]
  }
 ],
 "metadata": {
  "kernelspec": {
   "display_name": "Python 3",
   "language": "python",
   "name": "python3"
  },
  "language_info": {
   "codemirror_mode": {
    "name": "ipython",
    "version": 3
   },
   "file_extension": ".py",
   "mimetype": "text/x-python",
   "name": "python",
   "nbconvert_exporter": "python",
   "pygments_lexer": "ipython3",
   "version": "3.7.4"
  }
 },
 "nbformat": 4,
 "nbformat_minor": 2
}
