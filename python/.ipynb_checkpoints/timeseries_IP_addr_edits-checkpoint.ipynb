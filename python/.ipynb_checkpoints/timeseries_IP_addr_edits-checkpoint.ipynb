{
 "cells": [
  {
   "cell_type": "code",
   "execution_count": 16,
   "metadata": {},
   "outputs": [],
   "source": [
    "from os import listdir\n",
    "from os.path import isfile, join\n",
    "import json\n",
    "import pandas as pd\n",
    "import datetime\n",
    "import seaborn as sns\n",
    "import regex as re\n",
    "import matplotlib as plt\n",
    "sns.set(rc={'figure.figsize':(13, 6)})"
   ]
  },
  {
   "cell_type": "code",
   "execution_count": 3,
   "metadata": {},
   "outputs": [],
   "source": [
    "mypath = \"../data/revisions/\"\n",
    "file = \"rev_kash_hi_29-10-2019 23-52-49.json\"\n",
    "\n",
    "with open(mypath + file) as thefile:\n",
    "        data = json.load(thefile)\n",
    "        df = pd.DataFrame(data)"
   ]
  },
  {
   "cell_type": "code",
   "execution_count": 5,
   "metadata": {},
   "outputs": [
    {
     "name": "stdout",
     "output_type": "stream",
     "text": [
      "                                     user  anon            timestamp   size  \\\n",
      "0  2409:4064:480:EC69:2C82:F006:8775:B657  True  2019-10-29 11:08:43  41233   \n",
      "1  2409:4064:480:EC69:2C82:F006:8775:B657  True  2019-10-29 11:08:30  41124   \n",
      "2                            Srajaltiwari   NaN  2019-10-13 07:02:18  41085   \n",
      "\n",
      "              comment  \n",
      "0  /* कश्मीर युद्ध */  \n",
      "1                      \n",
      "2     साँचा जोड़ा गया  \n"
     ]
    }
   ],
   "source": [
    "df['timestamp'] = df['timestamp'].astype(str)\n",
    "df.timestamp=df.timestamp.str.replace(\"T\",\" \")\n",
    "df.timestamp=df.timestamp.str.replace(\"Z\",\"\")\n",
    "print(df[:3])"
   ]
  },
  {
   "cell_type": "code",
   "execution_count": 7,
   "metadata": {
    "scrolled": true
   },
   "outputs": [],
   "source": [
    "df['timestamp'] = pd.to_datetime(df['timestamp'])\n",
    "df['size'] = pd.to_numeric(df['size'])\n",
    "df.dtypes\n",
    "df = df.set_index('timestamp')"
   ]
  },
  {
   "cell_type": "code",
   "execution_count": 8,
   "metadata": {
    "scrolled": false
   },
   "outputs": [
    {
     "data": {
      "text/html": [
       "<div>\n",
       "<style scoped>\n",
       "    .dataframe tbody tr th:only-of-type {\n",
       "        vertical-align: middle;\n",
       "    }\n",
       "\n",
       "    .dataframe tbody tr th {\n",
       "        vertical-align: top;\n",
       "    }\n",
       "\n",
       "    .dataframe thead th {\n",
       "        text-align: right;\n",
       "    }\n",
       "</style>\n",
       "<table border=\"1\" class=\"dataframe\">\n",
       "  <thead>\n",
       "    <tr style=\"text-align: right;\">\n",
       "      <th></th>\n",
       "      <th>user</th>\n",
       "      <th>anon</th>\n",
       "      <th>size</th>\n",
       "      <th>comment</th>\n",
       "      <th>year</th>\n",
       "      <th>month</th>\n",
       "      <th>day</th>\n",
       "    </tr>\n",
       "    <tr>\n",
       "      <th>timestamp</th>\n",
       "      <th></th>\n",
       "      <th></th>\n",
       "      <th></th>\n",
       "      <th></th>\n",
       "      <th></th>\n",
       "      <th></th>\n",
       "      <th></th>\n",
       "    </tr>\n",
       "  </thead>\n",
       "  <tbody>\n",
       "    <tr>\n",
       "      <th>2019-10-29 11:08:43</th>\n",
       "      <td>2409:4064:480:EC69:2C82:F006:8775:B657</td>\n",
       "      <td>True</td>\n",
       "      <td>41233</td>\n",
       "      <td>/* कश्मीर युद्ध */</td>\n",
       "      <td>2019</td>\n",
       "      <td>10</td>\n",
       "      <td>Tuesday</td>\n",
       "    </tr>\n",
       "    <tr>\n",
       "      <th>2019-10-29 11:08:30</th>\n",
       "      <td>2409:4064:480:EC69:2C82:F006:8775:B657</td>\n",
       "      <td>True</td>\n",
       "      <td>41124</td>\n",
       "      <td></td>\n",
       "      <td>2019</td>\n",
       "      <td>10</td>\n",
       "      <td>Tuesday</td>\n",
       "    </tr>\n",
       "    <tr>\n",
       "      <th>2019-10-13 07:02:18</th>\n",
       "      <td>Srajaltiwari</td>\n",
       "      <td>NaN</td>\n",
       "      <td>41085</td>\n",
       "      <td>साँचा जोड़ा गया</td>\n",
       "      <td>2019</td>\n",
       "      <td>10</td>\n",
       "      <td>Sunday</td>\n",
       "    </tr>\n",
       "  </tbody>\n",
       "</table>\n",
       "</div>"
      ],
      "text/plain": [
       "                                                       user  anon   size  \\\n",
       "timestamp                                                                  \n",
       "2019-10-29 11:08:43  2409:4064:480:EC69:2C82:F006:8775:B657  True  41233   \n",
       "2019-10-29 11:08:30  2409:4064:480:EC69:2C82:F006:8775:B657  True  41124   \n",
       "2019-10-13 07:02:18                            Srajaltiwari   NaN  41085   \n",
       "\n",
       "                                comment  year  month      day  \n",
       "timestamp                                                      \n",
       "2019-10-29 11:08:43  /* कश्मीर युद्ध */  2019     10  Tuesday  \n",
       "2019-10-29 11:08:30                      2019     10  Tuesday  \n",
       "2019-10-13 07:02:18     साँचा जोड़ा गया  2019     10   Sunday  "
      ]
     },
     "execution_count": 8,
     "metadata": {},
     "output_type": "execute_result"
    }
   ],
   "source": [
    "# df = df.set_index('timestamp')\n",
    "df['year'] = df.index.year\n",
    "df['month'] = df.index.month\n",
    "df['day'] = df.index.weekday_name\n",
    "df.dtypes\n",
    "df.head(3)"
   ]
  },
  {
   "cell_type": "code",
   "execution_count": 30,
   "metadata": {},
   "outputs": [
    {
     "data": {
      "text/html": [
       "<div>\n",
       "<style scoped>\n",
       "    .dataframe tbody tr th:only-of-type {\n",
       "        vertical-align: middle;\n",
       "    }\n",
       "\n",
       "    .dataframe tbody tr th {\n",
       "        vertical-align: top;\n",
       "    }\n",
       "\n",
       "    .dataframe thead th {\n",
       "        text-align: right;\n",
       "    }\n",
       "</style>\n",
       "<table border=\"1\" class=\"dataframe\">\n",
       "  <thead>\n",
       "    <tr style=\"text-align: right;\">\n",
       "      <th></th>\n",
       "      <th>user</th>\n",
       "      <th>anon</th>\n",
       "      <th>size</th>\n",
       "      <th>comment</th>\n",
       "      <th>year</th>\n",
       "      <th>month</th>\n",
       "      <th>day</th>\n",
       "    </tr>\n",
       "    <tr>\n",
       "      <th>timestamp</th>\n",
       "      <th></th>\n",
       "      <th></th>\n",
       "      <th></th>\n",
       "      <th></th>\n",
       "      <th></th>\n",
       "      <th></th>\n",
       "      <th></th>\n",
       "    </tr>\n",
       "  </thead>\n",
       "  <tbody>\n",
       "    <tr>\n",
       "      <th>2019-10-29 11:08:43</th>\n",
       "      <td>2409:4064:480:EC69:2C82:F006:8775:B657</td>\n",
       "      <td>True</td>\n",
       "      <td>41233</td>\n",
       "      <td>/* कश्मीर युद्ध */</td>\n",
       "      <td>2019</td>\n",
       "      <td>10</td>\n",
       "      <td>Tuesday</td>\n",
       "    </tr>\n",
       "    <tr>\n",
       "      <th>2019-10-29 11:08:30</th>\n",
       "      <td>2409:4064:480:EC69:2C82:F006:8775:B657</td>\n",
       "      <td>True</td>\n",
       "      <td>41124</td>\n",
       "      <td></td>\n",
       "      <td>2019</td>\n",
       "      <td>10</td>\n",
       "      <td>Tuesday</td>\n",
       "    </tr>\n",
       "    <tr>\n",
       "      <th>2019-10-10 09:12:44</th>\n",
       "      <td>2401:4900:B8C:C40:BD9C:57C4:9690:FDA5</td>\n",
       "      <td>True</td>\n",
       "      <td>41033</td>\n",
       "      <td></td>\n",
       "      <td>2019</td>\n",
       "      <td>10</td>\n",
       "      <td>Thursday</td>\n",
       "    </tr>\n",
       "    <tr>\n",
       "      <th>2019-09-16 16:17:56</th>\n",
       "      <td>2409:4053:811:63CA:0:0:B5F:28B1</td>\n",
       "      <td>True</td>\n",
       "      <td>41074</td>\n",
       "      <td>/* ब्रिटेन की ओर से विवाद शुरू करने की बात को ...</td>\n",
       "      <td>2019</td>\n",
       "      <td>9</td>\n",
       "      <td>Monday</td>\n",
       "    </tr>\n",
       "    <tr>\n",
       "      <th>2019-08-29 19:14:02</th>\n",
       "      <td>103.226.5.195</td>\n",
       "      <td>True</td>\n",
       "      <td>41189</td>\n",
       "      <td>/* भारत-पाकिस्तानी युद्धों */</td>\n",
       "      <td>2019</td>\n",
       "      <td>8</td>\n",
       "      <td>Thursday</td>\n",
       "    </tr>\n",
       "  </tbody>\n",
       "</table>\n",
       "</div>"
      ],
      "text/plain": [
       "                                                       user  anon   size  \\\n",
       "timestamp                                                                  \n",
       "2019-10-29 11:08:43  2409:4064:480:EC69:2C82:F006:8775:B657  True  41233   \n",
       "2019-10-29 11:08:30  2409:4064:480:EC69:2C82:F006:8775:B657  True  41124   \n",
       "2019-10-10 09:12:44   2401:4900:B8C:C40:BD9C:57C4:9690:FDA5  True  41033   \n",
       "2019-09-16 16:17:56         2409:4053:811:63CA:0:0:B5F:28B1  True  41074   \n",
       "2019-08-29 19:14:02                           103.226.5.195  True  41189   \n",
       "\n",
       "                                                               comment  year  \\\n",
       "timestamp                                                                      \n",
       "2019-10-29 11:08:43                                 /* कश्मीर युद्ध */  2019   \n",
       "2019-10-29 11:08:30                                                     2019   \n",
       "2019-10-10 09:12:44                                                     2019   \n",
       "2019-09-16 16:17:56  /* ब्रिटेन की ओर से विवाद शुरू करने की बात को ...  2019   \n",
       "2019-08-29 19:14:02                      /* भारत-पाकिस्तानी युद्धों */  2019   \n",
       "\n",
       "                     month       day  \n",
       "timestamp                             \n",
       "2019-10-29 11:08:43     10   Tuesday  \n",
       "2019-10-29 11:08:30     10   Tuesday  \n",
       "2019-10-10 09:12:44     10  Thursday  \n",
       "2019-09-16 16:17:56      9    Monday  \n",
       "2019-08-29 19:14:02      8  Thursday  "
      ]
     },
     "execution_count": 30,
     "metadata": {},
     "output_type": "execute_result"
    }
   ],
   "source": [
    "dfanon = df[df.anon==True]\n",
    "dfanon.head()"
   ]
  },
  {
   "cell_type": "code",
   "execution_count": 31,
   "metadata": {},
   "outputs": [
    {
     "data": {
      "text/html": [
       "<div>\n",
       "<style scoped>\n",
       "    .dataframe tbody tr th:only-of-type {\n",
       "        vertical-align: middle;\n",
       "    }\n",
       "\n",
       "    .dataframe tbody tr th {\n",
       "        vertical-align: top;\n",
       "    }\n",
       "\n",
       "    .dataframe thead th {\n",
       "        text-align: right;\n",
       "    }\n",
       "</style>\n",
       "<table border=\"1\" class=\"dataframe\">\n",
       "  <thead>\n",
       "    <tr style=\"text-align: right;\">\n",
       "      <th></th>\n",
       "      <th>user</th>\n",
       "      <th>anon</th>\n",
       "      <th>size</th>\n",
       "      <th>comment</th>\n",
       "      <th>year</th>\n",
       "      <th>month</th>\n",
       "      <th>day</th>\n",
       "    </tr>\n",
       "    <tr>\n",
       "      <th>timestamp</th>\n",
       "      <th></th>\n",
       "      <th></th>\n",
       "      <th></th>\n",
       "      <th></th>\n",
       "      <th></th>\n",
       "      <th></th>\n",
       "      <th></th>\n",
       "    </tr>\n",
       "  </thead>\n",
       "  <tbody>\n",
       "    <tr>\n",
       "      <th>2019-08-29 19:14:02</th>\n",
       "      <td>103.226.5.195</td>\n",
       "      <td>True</td>\n",
       "      <td>41189</td>\n",
       "      <td>/* भारत-पाकिस्तानी युद्धों */</td>\n",
       "      <td>2019</td>\n",
       "      <td>8</td>\n",
       "      <td>Thursday</td>\n",
       "    </tr>\n",
       "    <tr>\n",
       "      <th>2019-06-03 19:53:46</th>\n",
       "      <td>47.9.94.212</td>\n",
       "      <td>True</td>\n",
       "      <td>41052</td>\n",
       "      <td></td>\n",
       "      <td>2019</td>\n",
       "      <td>6</td>\n",
       "      <td>Monday</td>\n",
       "    </tr>\n",
       "    <tr>\n",
       "      <th>2019-02-15 10:23:08</th>\n",
       "      <td>27.56.254.177</td>\n",
       "      <td>True</td>\n",
       "      <td>37152</td>\n",
       "      <td>Hnxxbnm</td>\n",
       "      <td>2019</td>\n",
       "      <td>2</td>\n",
       "      <td>Friday</td>\n",
       "    </tr>\n",
       "    <tr>\n",
       "      <th>2018-05-26 08:22:24</th>\n",
       "      <td>223.187.173.175</td>\n",
       "      <td>True</td>\n",
       "      <td>37554</td>\n",
       "      <td></td>\n",
       "      <td>2018</td>\n",
       "      <td>5</td>\n",
       "      <td>Saturday</td>\n",
       "    </tr>\n",
       "    <tr>\n",
       "      <th>2018-05-12 12:20:00</th>\n",
       "      <td>103.74.145.205</td>\n",
       "      <td>True</td>\n",
       "      <td>37579</td>\n",
       "      <td>/* स्थिति के लिए नेहरू पर आरोप */</td>\n",
       "      <td>2018</td>\n",
       "      <td>5</td>\n",
       "      <td>Saturday</td>\n",
       "    </tr>\n",
       "  </tbody>\n",
       "</table>\n",
       "</div>"
      ],
      "text/plain": [
       "                                user  anon   size  \\\n",
       "timestamp                                           \n",
       "2019-08-29 19:14:02    103.226.5.195  True  41189   \n",
       "2019-06-03 19:53:46      47.9.94.212  True  41052   \n",
       "2019-02-15 10:23:08    27.56.254.177  True  37152   \n",
       "2018-05-26 08:22:24  223.187.173.175  True  37554   \n",
       "2018-05-12 12:20:00   103.74.145.205  True  37579   \n",
       "\n",
       "                                               comment  year  month       day  \n",
       "timestamp                                                                      \n",
       "2019-08-29 19:14:02      /* भारत-पाकिस्तानी युद्धों */  2019      8  Thursday  \n",
       "2019-06-03 19:53:46                                     2019      6    Monday  \n",
       "2019-02-15 10:23:08                            Hnxxbnm  2019      2    Friday  \n",
       "2018-05-26 08:22:24                                     2018      5  Saturday  \n",
       "2018-05-12 12:20:00  /* स्थिति के लिए नेहरू पर आरोप */  2018      5  Saturday  "
      ]
     },
     "execution_count": 31,
     "metadata": {},
     "output_type": "execute_result"
    }
   ],
   "source": [
    "#dfip = df[re.match(r\"^\\d{1,3}\\.\\d{1,3}\\.\\d{1,3}\\.\\d{1,3}$\", df.user) != None]\n",
    "dfip = df[df.user.str.contains(r\"^\\d{1,3}\\.\\d{1,3}\\.\\d{1,3}\\.\\d{1,3}$\")]\n",
    "dfip.head()"
   ]
  },
  {
   "cell_type": "code",
   "execution_count": 34,
   "metadata": {},
   "outputs": [
    {
     "data": {
      "text/plain": [
       "32"
      ]
     },
     "execution_count": 34,
     "metadata": {},
     "output_type": "execute_result"
    }
   ],
   "source": [
    "len(dfanon[\"user\"])"
   ]
  },
  {
   "cell_type": "code",
   "execution_count": 33,
   "metadata": {},
   "outputs": [
    {
     "data": {
      "text/plain": [
       "19"
      ]
     },
     "execution_count": 33,
     "metadata": {},
     "output_type": "execute_result"
    }
   ],
   "source": [
    "len(dfip[\"user\"])"
   ]
  },
  {
   "cell_type": "code",
   "execution_count": 37,
   "metadata": {},
   "outputs": [],
   "source": [
    "anonseries = dfanon.groupby(pd.Grouper(freq='D', level=0)).count()\n",
    "ipseries = dfip.groupby(pd.Grouper(freq='D', level=0)).count()"
   ]
  },
  {
   "cell_type": "code",
   "execution_count": 45,
   "metadata": {},
   "outputs": [
    {
     "data": {
      "text/plain": [
       "<matplotlib.axes._subplots.AxesSubplot at 0x7f71e292cb70>"
      ]
     },
     "execution_count": 45,
     "metadata": {},
     "output_type": "execute_result"
    },
    {
     "data": {
      "image/png": "[encoded data removed]",
      "text/plain": [
       "<Figure size 936x432 with 1 Axes>"
      ]
     },
     "metadata": {},
     "output_type": "display_data"
    }
   ],
   "source": [
    "# Hindi IP (blue) vs. anon (orange) edits per day\n",
    "\n",
    "anonseries['anon'].plot(marker='x', linestyle='', linewidth=1.5, color = 'orange') # doesn't matter which field\n",
    "ipseries['user'].plot(marker='+', linestyle='', linewidth=1.5, color = 'blue')"
   ]
  },
  {
   "cell_type": "code",
   "execution_count": 53,
   "metadata": {},
   "outputs": [
    {
     "ename": "NameError",
     "evalue": "name 'plt' is not defined",
     "output_type": "error",
     "traceback": [
      "\u001b[0;31m---------------------------------------------------------------------------\u001b[0m",
      "\u001b[0;31mNameError\u001b[0m                                 Traceback (most recent call last)",
      "\u001b[0;32m<ipython-input-53-291ab7c698d4>\u001b[0m in \u001b[0;36m<module>\u001b[0;34m\u001b[0m\n\u001b[1;32m     32\u001b[0m     \u001b[0mipseries\u001b[0m\u001b[0;34m[\u001b[0m\u001b[0;34m'user'\u001b[0m\u001b[0;34m]\u001b[0m\u001b[0;34m.\u001b[0m\u001b[0mplot\u001b[0m\u001b[0;34m(\u001b[0m\u001b[0mmarker\u001b[0m\u001b[0;34m=\u001b[0m\u001b[0;34m'+'\u001b[0m\u001b[0;34m,\u001b[0m \u001b[0mlinestyle\u001b[0m\u001b[0;34m=\u001b[0m\u001b[0;34m''\u001b[0m\u001b[0;34m,\u001b[0m \u001b[0mlinewidth\u001b[0m\u001b[0;34m=\u001b[0m\u001b[0;36m1.5\u001b[0m\u001b[0;34m,\u001b[0m \u001b[0mcolor\u001b[0m \u001b[0;34m=\u001b[0m \u001b[0;34m'blue'\u001b[0m\u001b[0;34m)\u001b[0m\u001b[0;34m\u001b[0m\u001b[0;34m\u001b[0m\u001b[0m\n\u001b[1;32m     33\u001b[0m \u001b[0;34m\u001b[0m\u001b[0m\n\u001b[0;32m---> 34\u001b[0;31m     \u001b[0mplt\u001b[0m\u001b[0;34m.\u001b[0m\u001b[0msavefig\u001b[0m\u001b[0;34m(\u001b[0m\u001b[0mfile\u001b[0m \u001b[0;34m+\u001b[0m \u001b[0;34m\"_ip_vs_anon.png\"\u001b[0m\u001b[0;34m)\u001b[0m\u001b[0;34m\u001b[0m\u001b[0;34m\u001b[0m\u001b[0m\n\u001b[0m",
      "\u001b[0;31mNameError\u001b[0m: name 'plt' is not defined"
     ]
    },
    {
     "data": {
      "image/png": "[encoded data removed]",
      "text/plain": [
       "<Figure size 936x432 with 1 Axes>"
      ]
     },
     "metadata": {},
     "output_type": "display_data"
    }
   ],
   "source": [
    "mypath = \"../data/revisions/\"\n",
    "\n",
    "#, \"rev_kash_ur_29-10-2019 23-52-50.json\"\n",
    "#\"rev_kash_en_29-10-2019 23-52-47.json\"\n",
    "\n",
    "for file in [\"rev_kash_hi_29-10-2019 23-52-49.json\", \"rev_kash_ur_29-10-2019 23-52-50.json\"]:\n",
    "    with open(mypath + file) as thefile:\n",
    "            data = json.load(thefile)\n",
    "            df = pd.DataFrame(data)\n",
    "\n",
    "    df['timestamp'] = df['timestamp'].astype(str)\n",
    "    df.timestamp=df.timestamp.str.replace(\"T\",\" \")\n",
    "    df.timestamp=df.timestamp.str.replace(\"Z\",\"\")\n",
    "\n",
    "    df['timestamp'] = pd.to_datetime(df['timestamp'])\n",
    "    df['size'] = pd.to_numeric(df['size'])\n",
    "    df.dtypes\n",
    "    df = df.set_index('timestamp')\n",
    "\n",
    "    df['year'] = df.index.year\n",
    "    df['month'] = df.index.month\n",
    "    df['day'] = df.index.weekday_name\n",
    "\n",
    "    dfanon = df[df.anon==True]\n",
    "\n",
    "    dfip = df[df.user.str.contains(r\"^\\d{1,3}\\.\\d{1,3}\\.\\d{1,3}\\.\\d{1,3}$\")]\n",
    "\n",
    "    anonseries = dfanon.groupby(pd.Grouper(freq='D', level=0)).count()\n",
    "    ipseries = dfip.groupby(pd.Grouper(freq='D', level=0)).count()\n",
    "\n",
    "    anonseries['anon'].plot(marker='x', linestyle='', linewidth=1.5, color = 'orange') # doesn't matter which field\n",
    "    ipseries['user'].plot(marker='+', linestyle='', linewidth=1.5, color = 'blue')\n",
    "    \n",
    "    plt.savefig(file + \"_ip_vs_anon.png\")\n"
   ]
  },
  {
   "cell_type": "code",
   "execution_count": null,
   "metadata": {},
   "outputs": [],
   "source": []
  }
 ],
 "metadata": {
  "kernelspec": {
   "display_name": "Python 3",
   "language": "python",
   "name": "python3"
  },
  "language_info": {
   "codemirror_mode": {
    "name": "ipython",
    "version": 3
   },
   "file_extension": ".py",
   "mimetype": "text/x-python",
   "name": "python",
   "nbconvert_exporter": "python",
   "pygments_lexer": "ipython3",
   "version": "3.6.8"
  }
 },
 "nbformat": 4,
 "nbformat_minor": 2
}
