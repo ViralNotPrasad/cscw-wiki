{
 "cells": [
  {
   "cell_type": "code",
   "execution_count": 21,
   "metadata": {},
   "outputs": [],
   "source": [
    "from os import listdir\n",
    "from os.path import isfile, join\n",
    "import json\n",
    "import pandas as pd\n",
    "import datetime\n",
    "import seaborn as sns\n",
    "sns.set(rc={'figure.figsize':(13, 6)})"
   ]
  },
  {
   "cell_type": "code",
   "execution_count": 2,
   "metadata": {},
   "outputs": [],
   "source": [
    "mypath = \"../data/revisions/\"\n",
    "file = \"rev_kash_en_21-10-2019 12-30-34.json\"\n",
    "\n",
    "with open(mypath + file) as thefile:\n",
    "        data = json.load(thefile)\n",
    "        df = pd.DataFrame(data)"
   ]
  },
  {
   "cell_type": "code",
   "execution_count": 12,
   "metadata": {},
   "outputs": [
    {
     "data": {
      "text/plain": [
       "list"
      ]
     },
     "execution_count": 12,
     "metadata": {},
     "output_type": "execute_result"
    }
   ],
   "source": [
    "type(data)"
   ]
  },
  {
   "cell_type": "code",
   "execution_count": 3,
   "metadata": {},
   "outputs": [
    {
     "name": "stdout",
     "output_type": "stream",
     "text": [
      "                 user            timestamp    size  \\\n",
      "0             MarkH21  2019-10-20 22:45:36  365153   \n",
      "1         Noamaster88  2019-10-20 17:51:10  365156   \n",
      "2  InternetArchiveBot  2019-10-14 19:14:01  365153   \n",
      "\n",
      "                                               slots  \\\n",
      "0  {'main': {'contentmodel': 'wikitext', 'content...   \n",
      "1  {'main': {'contentmodel': 'wikitext', 'content...   \n",
      "2  {'main': {'contentmodel': 'wikitext', 'content...   \n",
      "\n",
      "                                             comment  \n",
      "0  Undid revision 922208355 by [[Special:Contribu...  \n",
      "1                                                     \n",
      "2  Bluelinking 1 books for [[WP:V|verifiability]]...  \n"
     ]
    }
   ],
   "source": [
    "df['timestamp'] = df['timestamp'].astype(str)\n",
    "df.timestamp=df.timestamp.str.replace(\"T\",\" \")\n",
    "df.timestamp=df.timestamp.str.replace(\"Z\",\"\")\n",
    "# df.to_csv(r'kash_hi.csv')\n",
    "print(df[:3])"
   ]
  },
  {
   "cell_type": "code",
   "execution_count": 4,
   "metadata": {
    "scrolled": true
   },
   "outputs": [],
   "source": [
    "df['timestamp'] = pd.to_datetime(df['timestamp'])\n",
    "df['size'] = pd.to_numeric(df['size'])\n",
    "df.dtypes\n",
    "df = df.set_index('timestamp')"
   ]
  },
  {
   "cell_type": "code",
   "execution_count": 5,
   "metadata": {
    "scrolled": false
   },
   "outputs": [
    {
     "data": {
      "text/html": [
       "<div>\n",
       "<style scoped>\n",
       "    .dataframe tbody tr th:only-of-type {\n",
       "        vertical-align: middle;\n",
       "    }\n",
       "\n",
       "    .dataframe tbody tr th {\n",
       "        vertical-align: top;\n",
       "    }\n",
       "\n",
       "    .dataframe thead th {\n",
       "        text-align: right;\n",
       "    }\n",
       "</style>\n",
       "<table border=\"1\" class=\"dataframe\">\n",
       "  <thead>\n",
       "    <tr style=\"text-align: right;\">\n",
       "      <th></th>\n",
       "      <th>user</th>\n",
       "      <th>size</th>\n",
       "      <th>slots</th>\n",
       "      <th>comment</th>\n",
       "      <th>year</th>\n",
       "      <th>month</th>\n",
       "      <th>day</th>\n",
       "    </tr>\n",
       "    <tr>\n",
       "      <th>timestamp</th>\n",
       "      <th></th>\n",
       "      <th></th>\n",
       "      <th></th>\n",
       "      <th></th>\n",
       "      <th></th>\n",
       "      <th></th>\n",
       "      <th></th>\n",
       "    </tr>\n",
       "  </thead>\n",
       "  <tbody>\n",
       "    <tr>\n",
       "      <th>2019-10-20 22:45:36</th>\n",
       "      <td>MarkH21</td>\n",
       "      <td>365153</td>\n",
       "      <td>{'main': {'contentmodel': 'wikitext', 'content...</td>\n",
       "      <td>Undid revision 922208355 by [[Special:Contribu...</td>\n",
       "      <td>2019</td>\n",
       "      <td>10</td>\n",
       "      <td>Sunday</td>\n",
       "    </tr>\n",
       "    <tr>\n",
       "      <th>2019-10-20 17:51:10</th>\n",
       "      <td>Noamaster88</td>\n",
       "      <td>365156</td>\n",
       "      <td>{'main': {'contentmodel': 'wikitext', 'content...</td>\n",
       "      <td></td>\n",
       "      <td>2019</td>\n",
       "      <td>10</td>\n",
       "      <td>Sunday</td>\n",
       "    </tr>\n",
       "    <tr>\n",
       "      <th>2019-10-14 19:14:01</th>\n",
       "      <td>InternetArchiveBot</td>\n",
       "      <td>365153</td>\n",
       "      <td>{'main': {'contentmodel': 'wikitext', 'content...</td>\n",
       "      <td>Bluelinking 1 books for [[WP:V|verifiability]]...</td>\n",
       "      <td>2019</td>\n",
       "      <td>10</td>\n",
       "      <td>Monday</td>\n",
       "    </tr>\n",
       "  </tbody>\n",
       "</table>\n",
       "</div>"
      ],
      "text/plain": [
       "                                   user    size  \\\n",
       "timestamp                                         \n",
       "2019-10-20 22:45:36             MarkH21  365153   \n",
       "2019-10-20 17:51:10         Noamaster88  365156   \n",
       "2019-10-14 19:14:01  InternetArchiveBot  365153   \n",
       "\n",
       "                                                                 slots  \\\n",
       "timestamp                                                                \n",
       "2019-10-20 22:45:36  {'main': {'contentmodel': 'wikitext', 'content...   \n",
       "2019-10-20 17:51:10  {'main': {'contentmodel': 'wikitext', 'content...   \n",
       "2019-10-14 19:14:01  {'main': {'contentmodel': 'wikitext', 'content...   \n",
       "\n",
       "                                                               comment  year  \\\n",
       "timestamp                                                                      \n",
       "2019-10-20 22:45:36  Undid revision 922208355 by [[Special:Contribu...  2019   \n",
       "2019-10-20 17:51:10                                                     2019   \n",
       "2019-10-14 19:14:01  Bluelinking 1 books for [[WP:V|verifiability]]...  2019   \n",
       "\n",
       "                     month     day  \n",
       "timestamp                           \n",
       "2019-10-20 22:45:36     10  Sunday  \n",
       "2019-10-20 17:51:10     10  Sunday  \n",
       "2019-10-14 19:14:01     10  Monday  "
      ]
     },
     "execution_count": 5,
     "metadata": {},
     "output_type": "execute_result"
    }
   ],
   "source": [
    "# df = df.set_index('timestamp')\n",
    "df['year'] = df.index.year\n",
    "df['month'] = df.index.month\n",
    "df['day'] = df.index.weekday_name\n",
    "df.dtypes\n",
    "df.head(3)"
   ]
  },
  {
   "cell_type": "code",
   "execution_count": 22,
   "metadata": {
    "scrolled": true
   },
   "outputs": [
    {
     "data": {
      "text/plain": [
       "<matplotlib.axes._subplots.AxesSubplot at 0x12bb98c50>"
      ]
     },
     "execution_count": 22,
     "metadata": {},
     "output_type": "execute_result"
    },
    {
     "data": {
      "image/png": "[encoded data removed]",
      "text/plain": [
       "<Figure size 936x432 with 1 Axes>"
      ]
     },
     "metadata": {},
     "output_type": "display_data"
    }
   ],
   "source": [
    "df['size'].plot(marker='o', linestyle='-', linewidth=1.5, color = 'black')"
   ]
  },
  {
   "cell_type": "code",
   "execution_count": 18,
   "metadata": {},
   "outputs": [],
   "source": [
    "df = df.drop(['user', 'slots','comment'], axis=1)\n",
    "df.dtypes\n",
    "df.to_csv(r'kash_en.csv')"
   ]
  }
 ],
 "metadata": {
  "kernelspec": {
   "display_name": "Python 3",
   "language": "python",
   "name": "python3"
  },
  "language_info": {
   "codemirror_mode": {
    "name": "ipython",
    "version": 3
   },
   "file_extension": ".py",
   "mimetype": "text/x-python",
   "name": "python",
   "nbconvert_exporter": "python",
   "pygments_lexer": "ipython3",
   "version": "3.7.4"
  }
 },
 "nbformat": 4,
 "nbformat_minor": 2
}
