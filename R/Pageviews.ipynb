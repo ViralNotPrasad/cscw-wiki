{
 "cells": [
  {
   "cell_type": "code",
   "execution_count": 46,
   "metadata": {},
   "outputs": [
    {
     "data": {
      "text/html": [
       "<div>\n",
       "<style scoped>\n",
       "    .dataframe tbody tr th:only-of-type {\n",
       "        vertical-align: middle;\n",
       "    }\n",
       "\n",
       "    .dataframe tbody tr th {\n",
       "        vertical-align: top;\n",
       "    }\n",
       "\n",
       "    .dataframe thead th {\n",
       "        text-align: right;\n",
       "    }\n",
       "</style>\n",
       "<table border=\"1\" class=\"dataframe\">\n",
       "  <thead>\n",
       "    <tr style=\"text-align: right;\">\n",
       "      <th></th>\n",
       "      <th>Unnamed: 0</th>\n",
       "      <th>project</th>\n",
       "      <th>language</th>\n",
       "      <th>article</th>\n",
       "      <th>access</th>\n",
       "      <th>agent</th>\n",
       "      <th>granularity</th>\n",
       "      <th>date</th>\n",
       "      <th>views</th>\n",
       "    </tr>\n",
       "  </thead>\n",
       "  <tbody>\n",
       "    <tr>\n",
       "      <th>0</th>\n",
       "      <td>1</td>\n",
       "      <td>wikipedia</td>\n",
       "      <td>hi</td>\n",
       "      <td>Kashmir conflict</td>\n",
       "      <td>all-access</td>\n",
       "      <td>all-agents</td>\n",
       "      <td>daily</td>\n",
       "      <td>2015-07-01</td>\n",
       "      <td>15</td>\n",
       "    </tr>\n",
       "    <tr>\n",
       "      <th>1</th>\n",
       "      <td>2</td>\n",
       "      <td>wikipedia</td>\n",
       "      <td>hi</td>\n",
       "      <td>Kashmir conflict</td>\n",
       "      <td>all-access</td>\n",
       "      <td>all-agents</td>\n",
       "      <td>daily</td>\n",
       "      <td>2015-07-02</td>\n",
       "      <td>10</td>\n",
       "    </tr>\n",
       "    <tr>\n",
       "      <th>2</th>\n",
       "      <td>3</td>\n",
       "      <td>wikipedia</td>\n",
       "      <td>hi</td>\n",
       "      <td>Kashmir conflict</td>\n",
       "      <td>all-access</td>\n",
       "      <td>all-agents</td>\n",
       "      <td>daily</td>\n",
       "      <td>2015-07-03</td>\n",
       "      <td>19</td>\n",
       "    </tr>\n",
       "    <tr>\n",
       "      <th>3</th>\n",
       "      <td>4</td>\n",
       "      <td>wikipedia</td>\n",
       "      <td>hi</td>\n",
       "      <td>Kashmir conflict</td>\n",
       "      <td>all-access</td>\n",
       "      <td>all-agents</td>\n",
       "      <td>daily</td>\n",
       "      <td>2015-07-04</td>\n",
       "      <td>10</td>\n",
       "    </tr>\n",
       "    <tr>\n",
       "      <th>4</th>\n",
       "      <td>5</td>\n",
       "      <td>wikipedia</td>\n",
       "      <td>hi</td>\n",
       "      <td>Kashmir conflict</td>\n",
       "      <td>all-access</td>\n",
       "      <td>all-agents</td>\n",
       "      <td>daily</td>\n",
       "      <td>2015-07-05</td>\n",
       "      <td>11</td>\n",
       "    </tr>\n",
       "  </tbody>\n",
       "</table>\n",
       "</div>"
      ],
      "text/plain": [
       "   Unnamed: 0    project language           article      access       agent  \\\n",
       "0           1  wikipedia       hi  Kashmir conflict  all-access  all-agents   \n",
       "1           2  wikipedia       hi  Kashmir conflict  all-access  all-agents   \n",
       "2           3  wikipedia       hi  Kashmir conflict  all-access  all-agents   \n",
       "3           4  wikipedia       hi  Kashmir conflict  all-access  all-agents   \n",
       "4           5  wikipedia       hi  Kashmir conflict  all-access  all-agents   \n",
       "\n",
       "  granularity        date  views  \n",
       "0       daily  2015-07-01     15  \n",
       "1       daily  2015-07-02     10  \n",
       "2       daily  2015-07-03     19  \n",
       "3       daily  2015-07-04     10  \n",
       "4       daily  2015-07-05     11  "
      ]
     },
     "execution_count": 46,
     "metadata": {},
     "output_type": "execute_result"
    }
   ],
   "source": [
    "import pandas as pd\n",
    "import matplotlib.pyplot as plt\n",
    "import json\n",
    "import datetime as dt\n",
    "import numpy as np\n",
    "\n",
    "df = pd.read_csv(\"wiki_hindi_pageviews_2000_thru_Sep2019.csv\")\n",
    "df.head()"
   ]
  },
  {
   "cell_type": "code",
   "execution_count": 2,
   "metadata": {},
   "outputs": [
    {
     "data": {
      "text/html": [
       "<div>\n",
       "<style scoped>\n",
       "    .dataframe tbody tr th:only-of-type {\n",
       "        vertical-align: middle;\n",
       "    }\n",
       "\n",
       "    .dataframe tbody tr th {\n",
       "        vertical-align: top;\n",
       "    }\n",
       "\n",
       "    .dataframe thead th {\n",
       "        text-align: right;\n",
       "    }\n",
       "</style>\n",
       "<table border=\"1\" class=\"dataframe\">\n",
       "  <thead>\n",
       "    <tr style=\"text-align: right;\">\n",
       "      <th></th>\n",
       "      <th>Unnamed: 0</th>\n",
       "      <th>project</th>\n",
       "      <th>language</th>\n",
       "      <th>article</th>\n",
       "      <th>access</th>\n",
       "      <th>agent</th>\n",
       "      <th>granularity</th>\n",
       "      <th>views</th>\n",
       "      <th>ts</th>\n",
       "    </tr>\n",
       "  </thead>\n",
       "  <tbody>\n",
       "    <tr>\n",
       "      <th>1554</th>\n",
       "      <td>1555</td>\n",
       "      <td>wikipedia</td>\n",
       "      <td>hi</td>\n",
       "      <td>Article 370 of the Constitution of India</td>\n",
       "      <td>all-access</td>\n",
       "      <td>all-agents</td>\n",
       "      <td>daily</td>\n",
       "      <td>14</td>\n",
       "      <td>2016-10-17</td>\n",
       "    </tr>\n",
       "    <tr>\n",
       "      <th>1555</th>\n",
       "      <td>1556</td>\n",
       "      <td>wikipedia</td>\n",
       "      <td>hi</td>\n",
       "      <td>Article 370 of the Constitution of India</td>\n",
       "      <td>all-access</td>\n",
       "      <td>all-agents</td>\n",
       "      <td>daily</td>\n",
       "      <td>97</td>\n",
       "      <td>2016-10-18</td>\n",
       "    </tr>\n",
       "    <tr>\n",
       "      <th>1556</th>\n",
       "      <td>1557</td>\n",
       "      <td>wikipedia</td>\n",
       "      <td>hi</td>\n",
       "      <td>Article 370 of the Constitution of India</td>\n",
       "      <td>all-access</td>\n",
       "      <td>all-agents</td>\n",
       "      <td>daily</td>\n",
       "      <td>109</td>\n",
       "      <td>2016-10-19</td>\n",
       "    </tr>\n",
       "    <tr>\n",
       "      <th>1557</th>\n",
       "      <td>1558</td>\n",
       "      <td>wikipedia</td>\n",
       "      <td>hi</td>\n",
       "      <td>Article 370 of the Constitution of India</td>\n",
       "      <td>all-access</td>\n",
       "      <td>all-agents</td>\n",
       "      <td>daily</td>\n",
       "      <td>108</td>\n",
       "      <td>2016-10-20</td>\n",
       "    </tr>\n",
       "    <tr>\n",
       "      <th>1558</th>\n",
       "      <td>1559</td>\n",
       "      <td>wikipedia</td>\n",
       "      <td>hi</td>\n",
       "      <td>Article 370 of the Constitution of India</td>\n",
       "      <td>all-access</td>\n",
       "      <td>all-agents</td>\n",
       "      <td>daily</td>\n",
       "      <td>157</td>\n",
       "      <td>2016-10-21</td>\n",
       "    </tr>\n",
       "  </tbody>\n",
       "</table>\n",
       "</div>"
      ],
      "text/plain": [
       "      Unnamed: 0    project language  \\\n",
       "1554        1555  wikipedia       hi   \n",
       "1555        1556  wikipedia       hi   \n",
       "1556        1557  wikipedia       hi   \n",
       "1557        1558  wikipedia       hi   \n",
       "1558        1559  wikipedia       hi   \n",
       "\n",
       "                                       article      access       agent  \\\n",
       "1554  Article 370 of the Constitution of India  all-access  all-agents   \n",
       "1555  Article 370 of the Constitution of India  all-access  all-agents   \n",
       "1556  Article 370 of the Constitution of India  all-access  all-agents   \n",
       "1557  Article 370 of the Constitution of India  all-access  all-agents   \n",
       "1558  Article 370 of the Constitution of India  all-access  all-agents   \n",
       "\n",
       "     granularity  views         ts  \n",
       "1554       daily     14 2016-10-17  \n",
       "1555       daily     97 2016-10-18  \n",
       "1556       daily    109 2016-10-19  \n",
       "1557       daily    108 2016-10-20  \n",
       "1558       daily    157 2016-10-21  "
      ]
     },
     "execution_count": 2,
     "metadata": {},
     "output_type": "execute_result"
    }
   ],
   "source": [
    "df = df[df['article'] == \"Article 370 of the Constitution of India\"]\n",
    "\n",
    "df['ts'] = pd.to_datetime(df['date'])\n",
    "df = df.drop('date', axis=1)\n",
    "\n",
    "df.head()"
   ]
  },
  {
   "cell_type": "code",
   "execution_count": 3,
   "metadata": {},
   "outputs": [
    {
     "data": {
      "text/plain": [
       "Text(0.5, 1.0, 'Hindi Article 370 Pageviews per day')"
      ]
     },
     "execution_count": 3,
     "metadata": {},
     "output_type": "execute_result"
    },
    {
     "data": {
      "image/png": "[encoded data removed]",
      "text/plain": [
       "<Figure size 432x288 with 1 Axes>"
      ]
     },
     "metadata": {
      "needs_background": "light"
     },
     "output_type": "display_data"
    }
   ],
   "source": [
    "df = df.set_index('ts')\n",
    "\n",
    "df['views'].plot(linestyle='-', linewidth=1.5, color = 'pink')\n",
    "\n",
    "plt.title('Hindi Article 370 Pageviews per day')"
   ]
  },
  {
   "cell_type": "code",
   "execution_count": 4,
   "metadata": {},
   "outputs": [
    {
     "data": {
      "text/plain": [
       "Text(0.5, 1.0, 'Hindi Article 370 Pageviews per day log scale')"
      ]
     },
     "execution_count": 4,
     "metadata": {},
     "output_type": "execute_result"
    },
    {
     "data": {
      "image/png": "[encoded data removed]",
      "text/plain": [
       "<Figure size 432x288 with 1 Axes>"
      ]
     },
     "metadata": {
      "needs_background": "light"
     },
     "output_type": "display_data"
    }
   ],
   "source": [
    "df['views'].plot(linestyle='-', linewidth=1.5, color = 'orange')\n",
    "plt.yscale('log')\n",
    "plt.title('Hindi Article 370 Pageviews per day log scale')"
   ]
  },
  {
   "cell_type": "code",
   "execution_count": 32,
   "metadata": {
    "scrolled": true
   },
   "outputs": [
    {
     "data": {
      "text/html": [
       "<div>\n",
       "<style scoped>\n",
       "    .dataframe tbody tr th:only-of-type {\n",
       "        vertical-align: middle;\n",
       "    }\n",
       "\n",
       "    .dataframe tbody tr th {\n",
       "        vertical-align: top;\n",
       "    }\n",
       "\n",
       "    .dataframe thead th {\n",
       "        text-align: right;\n",
       "    }\n",
       "</style>\n",
       "<table border=\"1\" class=\"dataframe\">\n",
       "  <thead>\n",
       "    <tr style=\"text-align: right;\">\n",
       "      <th></th>\n",
       "      <th>Unnamed: 0</th>\n",
       "      <th>project</th>\n",
       "      <th>language</th>\n",
       "      <th>article</th>\n",
       "      <th>access</th>\n",
       "      <th>agent</th>\n",
       "      <th>granularity</th>\n",
       "      <th>views</th>\n",
       "      <th>ts</th>\n",
       "    </tr>\n",
       "  </thead>\n",
       "  <tbody>\n",
       "    <tr>\n",
       "      <th>1554</th>\n",
       "      <td>1555</td>\n",
       "      <td>wikipedia</td>\n",
       "      <td>en</td>\n",
       "      <td>Article_370_of_the_Constitution_of_India</td>\n",
       "      <td>all-access</td>\n",
       "      <td>all-agents</td>\n",
       "      <td>daily</td>\n",
       "      <td>4</td>\n",
       "      <td>2015-07-01</td>\n",
       "    </tr>\n",
       "    <tr>\n",
       "      <th>1555</th>\n",
       "      <td>1556</td>\n",
       "      <td>wikipedia</td>\n",
       "      <td>en</td>\n",
       "      <td>Article_370_of_the_Constitution_of_India</td>\n",
       "      <td>all-access</td>\n",
       "      <td>all-agents</td>\n",
       "      <td>daily</td>\n",
       "      <td>1</td>\n",
       "      <td>2015-07-02</td>\n",
       "    </tr>\n",
       "    <tr>\n",
       "      <th>1556</th>\n",
       "      <td>1557</td>\n",
       "      <td>wikipedia</td>\n",
       "      <td>en</td>\n",
       "      <td>Article_370_of_the_Constitution_of_India</td>\n",
       "      <td>all-access</td>\n",
       "      <td>all-agents</td>\n",
       "      <td>daily</td>\n",
       "      <td>2</td>\n",
       "      <td>2015-07-03</td>\n",
       "    </tr>\n",
       "    <tr>\n",
       "      <th>1557</th>\n",
       "      <td>1558</td>\n",
       "      <td>wikipedia</td>\n",
       "      <td>en</td>\n",
       "      <td>Article_370_of_the_Constitution_of_India</td>\n",
       "      <td>all-access</td>\n",
       "      <td>all-agents</td>\n",
       "      <td>daily</td>\n",
       "      <td>4</td>\n",
       "      <td>2015-07-04</td>\n",
       "    </tr>\n",
       "    <tr>\n",
       "      <th>1558</th>\n",
       "      <td>1559</td>\n",
       "      <td>wikipedia</td>\n",
       "      <td>en</td>\n",
       "      <td>Article_370_of_the_Constitution_of_India</td>\n",
       "      <td>all-access</td>\n",
       "      <td>all-agents</td>\n",
       "      <td>daily</td>\n",
       "      <td>1</td>\n",
       "      <td>2015-07-05</td>\n",
       "    </tr>\n",
       "  </tbody>\n",
       "</table>\n",
       "</div>"
      ],
      "text/plain": [
       "      Unnamed: 0    project language  \\\n",
       "1554        1555  wikipedia       en   \n",
       "1555        1556  wikipedia       en   \n",
       "1556        1557  wikipedia       en   \n",
       "1557        1558  wikipedia       en   \n",
       "1558        1559  wikipedia       en   \n",
       "\n",
       "                                       article      access       agent  \\\n",
       "1554  Article_370_of_the_Constitution_of_India  all-access  all-agents   \n",
       "1555  Article_370_of_the_Constitution_of_India  all-access  all-agents   \n",
       "1556  Article_370_of_the_Constitution_of_India  all-access  all-agents   \n",
       "1557  Article_370_of_the_Constitution_of_India  all-access  all-agents   \n",
       "1558  Article_370_of_the_Constitution_of_India  all-access  all-agents   \n",
       "\n",
       "     granularity  views         ts  \n",
       "1554       daily      4 2015-07-01  \n",
       "1555       daily      1 2015-07-02  \n",
       "1556       daily      2 2015-07-03  \n",
       "1557       daily      4 2015-07-04  \n",
       "1558       daily      1 2015-07-05  "
      ]
     },
     "execution_count": 32,
     "metadata": {},
     "output_type": "execute_result"
    }
   ],
   "source": [
    "df2 = pd.read_csv(\"wiki_english_pageviews_2000_thru_Sep2019.csv\")\n",
    "df2 = df2[df2['article'] == 'Article_370_of_the_Constitution_of_India']\n",
    "\n",
    "df2['ts'] = pd.to_datetime(df2['date'])\n",
    "df2 = df2.drop('date', axis=1)\n",
    "\n",
    "df2.head()"
   ]
  },
  {
   "cell_type": "code",
   "execution_count": 33,
   "metadata": {},
   "outputs": [
    {
     "data": {
      "text/plain": [
       "Text(0.5, 1.0, 'English Article 370 Pageviews per day')"
      ]
     },
     "execution_count": 33,
     "metadata": {},
     "output_type": "execute_result"
    },
    {
     "data": {
      "image/png": "[encoded data removed]",
      "text/plain": [
       "<Figure size 432x288 with 1 Axes>"
      ]
     },
     "metadata": {
      "needs_background": "light"
     },
     "output_type": "display_data"
    }
   ],
   "source": [
    "df2 = df2.set_index('ts')\n",
    "\n",
    "df2['views'].plot(linestyle='-', linewidth=1.5, color = 'pink') \n",
    "\n",
    "plt.title('English Article 370 Pageviews per day')"
   ]
  },
  {
   "cell_type": "code",
   "execution_count": 34,
   "metadata": {},
   "outputs": [
    {
     "data": {
      "text/plain": [
       "Text(0.5, 1.0, 'English Article 370 Pageviews per day log scale')"
      ]
     },
     "execution_count": 34,
     "metadata": {},
     "output_type": "execute_result"
    },
    {
     "data": {
      "image/png": "[encoded data removed]",
      "text/plain": [
       "<Figure size 432x288 with 1 Axes>"
      ]
     },
     "metadata": {
      "needs_background": "light"
     },
     "output_type": "display_data"
    }
   ],
   "source": [
    "df2['views'].plot(linestyle='-', linewidth=1.5, color = 'orange')\n",
    "plt.yscale('log')\n",
    "\n",
    "plt.title('English Article 370 Pageviews per day log scale')"
   ]
  },
  {
   "cell_type": "code",
   "execution_count": 8,
   "metadata": {},
   "outputs": [
    {
     "data": {
      "text/html": [
       "<div>\n",
       "<style scoped>\n",
       "    .dataframe tbody tr th:only-of-type {\n",
       "        vertical-align: middle;\n",
       "    }\n",
       "\n",
       "    .dataframe tbody tr th {\n",
       "        vertical-align: top;\n",
       "    }\n",
       "\n",
       "    .dataframe thead th {\n",
       "        text-align: right;\n",
       "    }\n",
       "</style>\n",
       "<table border=\"1\" class=\"dataframe\">\n",
       "  <thead>\n",
       "    <tr style=\"text-align: right;\">\n",
       "      <th></th>\n",
       "      <th>Unnamed: 0</th>\n",
       "      <th>project</th>\n",
       "      <th>language</th>\n",
       "      <th>article</th>\n",
       "      <th>access</th>\n",
       "      <th>agent</th>\n",
       "      <th>granularity</th>\n",
       "      <th>views</th>\n",
       "      <th>ts</th>\n",
       "    </tr>\n",
       "  </thead>\n",
       "  <tbody>\n",
       "    <tr>\n",
       "      <th>58</th>\n",
       "      <td>59</td>\n",
       "      <td>wikipedia</td>\n",
       "      <td>ur</td>\n",
       "      <td>Article 370 of the Constitution of India</td>\n",
       "      <td>all-access</td>\n",
       "      <td>all-agents</td>\n",
       "      <td>daily</td>\n",
       "      <td>2</td>\n",
       "      <td>2015-07-01</td>\n",
       "    </tr>\n",
       "    <tr>\n",
       "      <th>59</th>\n",
       "      <td>60</td>\n",
       "      <td>wikipedia</td>\n",
       "      <td>ur</td>\n",
       "      <td>Article 370 of the Constitution of India</td>\n",
       "      <td>all-access</td>\n",
       "      <td>all-agents</td>\n",
       "      <td>daily</td>\n",
       "      <td>11</td>\n",
       "      <td>2015-07-02</td>\n",
       "    </tr>\n",
       "    <tr>\n",
       "      <th>60</th>\n",
       "      <td>61</td>\n",
       "      <td>wikipedia</td>\n",
       "      <td>ur</td>\n",
       "      <td>Article 370 of the Constitution of India</td>\n",
       "      <td>all-access</td>\n",
       "      <td>all-agents</td>\n",
       "      <td>daily</td>\n",
       "      <td>11</td>\n",
       "      <td>2015-07-03</td>\n",
       "    </tr>\n",
       "    <tr>\n",
       "      <th>61</th>\n",
       "      <td>62</td>\n",
       "      <td>wikipedia</td>\n",
       "      <td>ur</td>\n",
       "      <td>Article 370 of the Constitution of India</td>\n",
       "      <td>all-access</td>\n",
       "      <td>all-agents</td>\n",
       "      <td>daily</td>\n",
       "      <td>6</td>\n",
       "      <td>2015-07-04</td>\n",
       "    </tr>\n",
       "    <tr>\n",
       "      <th>62</th>\n",
       "      <td>63</td>\n",
       "      <td>wikipedia</td>\n",
       "      <td>ur</td>\n",
       "      <td>Article 370 of the Constitution of India</td>\n",
       "      <td>all-access</td>\n",
       "      <td>all-agents</td>\n",
       "      <td>daily</td>\n",
       "      <td>2</td>\n",
       "      <td>2015-07-05</td>\n",
       "    </tr>\n",
       "  </tbody>\n",
       "</table>\n",
       "</div>"
      ],
      "text/plain": [
       "    Unnamed: 0    project language                                   article  \\\n",
       "58          59  wikipedia       ur  Article 370 of the Constitution of India   \n",
       "59          60  wikipedia       ur  Article 370 of the Constitution of India   \n",
       "60          61  wikipedia       ur  Article 370 of the Constitution of India   \n",
       "61          62  wikipedia       ur  Article 370 of the Constitution of India   \n",
       "62          63  wikipedia       ur  Article 370 of the Constitution of India   \n",
       "\n",
       "        access       agent granularity  views         ts  \n",
       "58  all-access  all-agents       daily      2 2015-07-01  \n",
       "59  all-access  all-agents       daily     11 2015-07-02  \n",
       "60  all-access  all-agents       daily     11 2015-07-03  \n",
       "61  all-access  all-agents       daily      6 2015-07-04  \n",
       "62  all-access  all-agents       daily      2 2015-07-05  "
      ]
     },
     "execution_count": 8,
     "metadata": {},
     "output_type": "execute_result"
    }
   ],
   "source": [
    "df3 = pd.read_csv(\"wiki_urdu_pageviews_2000_thru_Sep2019.csv\")\n",
    "df3 = df3[df3['article'] == \"Article 370 of the Constitution of India\"]\n",
    "\n",
    "df3['ts'] = pd.to_datetime(df3['date'])\n",
    "df3 = df3.drop('date', axis=1)\n",
    "\n",
    "df3.head()"
   ]
  },
  {
   "cell_type": "code",
   "execution_count": 9,
   "metadata": {},
   "outputs": [
    {
     "data": {
      "text/plain": [
       "Text(0.5, 1.0, 'Urdu Article 370 Pageviews per day')"
      ]
     },
     "execution_count": 9,
     "metadata": {},
     "output_type": "execute_result"
    },
    {
     "data": {
      "image/png": "[encoded data removed]",
      "text/plain": [
       "<Figure size 432x288 with 1 Axes>"
      ]
     },
     "metadata": {
      "needs_background": "light"
     },
     "output_type": "display_data"
    }
   ],
   "source": [
    "df3 = df3.set_index('ts')\n",
    "\n",
    "df3['views'].plot(linestyle='-', linewidth=1.5, color = 'pink')\n",
    "\n",
    "plt.title('Urdu Article 370 Pageviews per day')"
   ]
  },
  {
   "cell_type": "code",
   "execution_count": 10,
   "metadata": {},
   "outputs": [
    {
     "data": {
      "text/plain": [
       "Text(0.5, 1.0, 'Urdu Article 370 Pageviews per day log scale')"
      ]
     },
     "execution_count": 10,
     "metadata": {},
     "output_type": "execute_result"
    },
    {
     "data": {
      "image/png": "[encoded data removed]",
      "text/plain": [
       "<Figure size 432x288 with 1 Axes>"
      ]
     },
     "metadata": {
      "needs_background": "light"
     },
     "output_type": "display_data"
    }
   ],
   "source": [
    "df3['views'].plot(linestyle='-', linewidth=1.5, color = 'orange')\n",
    "plt.yscale('log')\n",
    "plt.title('Urdu Article 370 Pageviews per day log scale')"
   ]
  },
  {
   "cell_type": "code",
   "execution_count": 11,
   "metadata": {
    "scrolled": true
   },
   "outputs": [
    {
     "name": "stderr",
     "output_type": "stream",
     "text": [
      "/home/molly/.local/lib/python3.6/site-packages/ipykernel_launcher.py:19: SettingWithCopyWarning: \n",
      "A value is trying to be set on a copy of a slice from a DataFrame.\n",
      "Try using .loc[row_indexer,col_indexer] = value instead\n",
      "\n",
      "See the caveats in the documentation: http://pandas.pydata.org/pandas-docs/stable/user_guide/indexing.html#returning-a-view-versus-a-copy\n",
      "/home/molly/.local/lib/python3.6/site-packages/ipykernel_launcher.py:19: SettingWithCopyWarning: \n",
      "A value is trying to be set on a copy of a slice from a DataFrame.\n",
      "Try using .loc[row_indexer,col_indexer] = value instead\n",
      "\n",
      "See the caveats in the documentation: http://pandas.pydata.org/pandas-docs/stable/user_guide/indexing.html#returning-a-view-versus-a-copy\n",
      "/home/molly/.local/lib/python3.6/site-packages/ipykernel_launcher.py:19: SettingWithCopyWarning: \n",
      "A value is trying to be set on a copy of a slice from a DataFrame.\n",
      "Try using .loc[row_indexer,col_indexer] = value instead\n",
      "\n",
      "See the caveats in the documentation: http://pandas.pydata.org/pandas-docs/stable/user_guide/indexing.html#returning-a-view-versus-a-copy\n",
      "/home/molly/.local/lib/python3.6/site-packages/ipykernel_launcher.py:19: SettingWithCopyWarning: \n",
      "A value is trying to be set on a copy of a slice from a DataFrame.\n",
      "Try using .loc[row_indexer,col_indexer] = value instead\n",
      "\n",
      "See the caveats in the documentation: http://pandas.pydata.org/pandas-docs/stable/user_guide/indexing.html#returning-a-view-versus-a-copy\n",
      "/home/molly/.local/lib/python3.6/site-packages/ipykernel_launcher.py:19: SettingWithCopyWarning: \n",
      "A value is trying to be set on a copy of a slice from a DataFrame.\n",
      "Try using .loc[row_indexer,col_indexer] = value instead\n",
      "\n",
      "See the caveats in the documentation: http://pandas.pydata.org/pandas-docs/stable/user_guide/indexing.html#returning-a-view-versus-a-copy\n"
     ]
    },
    {
     "name": "stdout",
     "output_type": "stream",
     "text": [
      "exception\n"
     ]
    },
    {
     "name": "stderr",
     "output_type": "stream",
     "text": [
      "/home/molly/.local/lib/python3.6/site-packages/ipykernel_launcher.py:19: SettingWithCopyWarning: \n",
      "A value is trying to be set on a copy of a slice from a DataFrame.\n",
      "Try using .loc[row_indexer,col_indexer] = value instead\n",
      "\n",
      "See the caveats in the documentation: http://pandas.pydata.org/pandas-docs/stable/user_guide/indexing.html#returning-a-view-versus-a-copy\n",
      "/home/molly/.local/lib/python3.6/site-packages/ipykernel_launcher.py:19: SettingWithCopyWarning: \n",
      "A value is trying to be set on a copy of a slice from a DataFrame.\n",
      "Try using .loc[row_indexer,col_indexer] = value instead\n",
      "\n",
      "See the caveats in the documentation: http://pandas.pydata.org/pandas-docs/stable/user_guide/indexing.html#returning-a-view-versus-a-copy\n",
      "/home/molly/.local/lib/python3.6/site-packages/ipykernel_launcher.py:19: SettingWithCopyWarning: \n",
      "A value is trying to be set on a copy of a slice from a DataFrame.\n",
      "Try using .loc[row_indexer,col_indexer] = value instead\n",
      "\n",
      "See the caveats in the documentation: http://pandas.pydata.org/pandas-docs/stable/user_guide/indexing.html#returning-a-view-versus-a-copy\n"
     ]
    },
    {
     "data": {
      "text/plain": [
       "<Figure size 432x288 with 0 Axes>"
      ]
     },
     "metadata": {},
     "output_type": "display_data"
    }
   ],
   "source": [
    "# all at once, save\n",
    "# IDK why there are errors here - the files get made, it seems to work fine\n",
    "'''\n",
    "for file in [ \"wiki_hindi_pageviews_2000_thru_Sep2019.csv\", \"wiki_urdu_pageviews_2000_thru_Sep2019.csv\", \"wiki_english_pageviews_2000_thru_Sep2019.csv\"]:\n",
    "\n",
    "    df0 = pd.read_csv(file)\n",
    "    \n",
    "    if \"hindi\" in file:\n",
    "        lang = \"hindi\"\n",
    "    elif \"english\" in file:\n",
    "        lang = \"english\"\n",
    "    else:\n",
    "        lang = \"urdu\"\n",
    "\n",
    "    for article in [\"Article 370 of the Constitution of India\", \"Kashmir conflict\", \"Insurgency in Jammu and Kashmir\"]:\n",
    "        try:\n",
    "            df = df0[(df0['article'] == article) | (df0['article'] == article.replace(' ', '_'))]\n",
    "\n",
    "            df['ts'] = pd.to_datetime(df['date'])\n",
    "            df = df.drop('date', axis=1)\n",
    "\n",
    "            df = df.set_index('ts')\n",
    "\n",
    "            df['views'].plot(linestyle='-', linewidth=1.5, color = 'orange')\n",
    "            plt.title(lang + ' ' + article + ' Pageviews per day')\n",
    "                \n",
    "            plt.savefig(lang + \" \" + article + \"_pageviews_linear.png\")\n",
    "\n",
    "            plt.clf()\n",
    "\n",
    "            df['views'].plot(linestyle='-', linewidth=1.5, color = 'orange')\n",
    "            plt.yscale('log')\n",
    "            plt.title(lang + ' ' + article + ' Pageviews per day log scale')\n",
    "            plt.savefig(lang + \" \" + article + \"_pageviews_log.png\")\n",
    "\n",
    "            plt.clf()\n",
    "\n",
    "        except:\n",
    "            print('exception')\n",
    "            # do nothing - this will happen with Urdu on Insurgency article because there is no such article\n",
    "'''"
   ]
  },
  {
   "cell_type": "code",
   "execution_count": 38,
   "metadata": {},
   "outputs": [
    {
     "data": {
      "image/png": "[encoded data removed]",
      "text/plain": [
       "<Figure size 432x288 with 2 Axes>"
      ]
     },
     "metadata": {
      "needs_background": "light"
     },
     "output_type": "display_data"
    }
   ],
   "source": [
    "# English pageviews and edits plot\n",
    "\n",
    "fig, ax1 = plt.subplots()\n",
    "\n",
    "color = 'tab:orange'\n",
    "ax1.set_xlabel('time (days)')\n",
    "ax1.set_ylabel('pageviews', color=color)\n",
    "ax1.plot(df2['views'], color=color)\n",
    "plt.yscale('log')\n",
    "#ax1.tick_params(axis='y', labelcolor=color)\n",
    "\n",
    "ax2 = ax1.twinx()  # instantiate a second axes that shares the same x-axis\n",
    "\n",
    "mypath = \"../data/revisions/\"\n",
    "file = \"rev_article_en_29-10-2019 23-52-48.json\"\n",
    "\n",
    "with open(mypath + file) as thefile:\n",
    "        data = json.load(thefile)\n",
    "        dfEdits = pd.DataFrame(data)\n",
    "        \n",
    "dfEdits['timestamp'] = pd.to_datetime(dfEdits['timestamp'])\n",
    "dfEdits = dfEdits.set_index('timestamp')\n",
    "dfEdits = dfEdits.groupby(pd.Grouper(freq='D', level=0)).count()\n",
    "\n",
    "color = 'tab:blue'\n",
    "ax2.set_ylabel('edits', color=color)  # we already handled the x-label with ax1\n",
    "ax2.plot(dfEdits, marker='x', linestyle='', color=color)\n",
    "#ax2.tick_params(axis='y', labelcolor=color)\n",
    "\n",
    "fig.tight_layout()  # otherwise the right y-label is slightly clipped\n"
   ]
  },
  {
   "cell_type": "code",
   "execution_count": 41,
   "metadata": {},
   "outputs": [
    {
     "name": "stdout",
     "output_type": "stream",
     "text": [
      "Index([2005-11-22, 2005-11-23, 2005-11-24, 2005-11-25, 2005-11-26, 2005-11-27,\n",
      "       2005-11-28, 2005-11-29, 2005-11-30, 2005-12-01,\n",
      "       ...\n",
      "       2019-10-19, 2019-10-20, 2019-10-21, 2019-10-22, 2019-10-23, 2019-10-24,\n",
      "       2019-10-25, 2019-10-26, 2019-10-27, 2019-10-28],\n",
      "      dtype='object', length=5089)\n"
     ]
    }
   ],
   "source": [
    "# Correlation\n",
    "\n",
    "def crosscorr(datax, datay, lag=0):\n",
    "    \"\"\" Lag-N cross correlation. \n",
    "    Shifted data filled with NaNs \n",
    "    \n",
    "    Parameters\n",
    "    ----------\n",
    "    lag : int, default 0\n",
    "    datax, datay : pandas.Series objects of equal length\n",
    "    Returns\n",
    "    ----------\n",
    "    crosscorr : float\n",
    "    \"\"\" \n",
    "    return datax.corr(datay.shift(lag))\n",
    "\n",
    "# pandas timezone weirdness requires?\n",
    "#df2.index.tz_convert(None)\n",
    "dfEdits.index = dfEdits.index.date\n",
    "\n",
    "print(dfEdits.index)\n",
    "\n"
   ]
  },
  {
   "cell_type": "code",
   "execution_count": 44,
   "metadata": {},
   "outputs": [
    {
     "data": {
      "text/html": [
       "<div>\n",
       "<style scoped>\n",
       "    .dataframe tbody tr th:only-of-type {\n",
       "        vertical-align: middle;\n",
       "    }\n",
       "\n",
       "    .dataframe tbody tr th {\n",
       "        vertical-align: top;\n",
       "    }\n",
       "\n",
       "    .dataframe thead th {\n",
       "        text-align: right;\n",
       "    }\n",
       "</style>\n",
       "<table border=\"1\" class=\"dataframe\">\n",
       "  <thead>\n",
       "    <tr style=\"text-align: right;\">\n",
       "      <th></th>\n",
       "      <th>user</th>\n",
       "      <th>size</th>\n",
       "      <th>comment</th>\n",
       "      <th>anon</th>\n",
       "    </tr>\n",
       "  </thead>\n",
       "  <tbody>\n",
       "    <tr>\n",
       "      <th>2005-11-22</th>\n",
       "      <td>1</td>\n",
       "      <td>1</td>\n",
       "      <td>1</td>\n",
       "      <td>0</td>\n",
       "    </tr>\n",
       "    <tr>\n",
       "      <th>2005-11-23</th>\n",
       "      <td>0</td>\n",
       "      <td>0</td>\n",
       "      <td>0</td>\n",
       "      <td>0</td>\n",
       "    </tr>\n",
       "    <tr>\n",
       "      <th>2005-11-24</th>\n",
       "      <td>0</td>\n",
       "      <td>0</td>\n",
       "      <td>0</td>\n",
       "      <td>0</td>\n",
       "    </tr>\n",
       "    <tr>\n",
       "      <th>2005-11-25</th>\n",
       "      <td>0</td>\n",
       "      <td>0</td>\n",
       "      <td>0</td>\n",
       "      <td>0</td>\n",
       "    </tr>\n",
       "    <tr>\n",
       "      <th>2005-11-26</th>\n",
       "      <td>0</td>\n",
       "      <td>0</td>\n",
       "      <td>0</td>\n",
       "      <td>0</td>\n",
       "    </tr>\n",
       "  </tbody>\n",
       "</table>\n",
       "</div>"
      ],
      "text/plain": [
       "            user  size  comment  anon\n",
       "2005-11-22     1     1        1     0\n",
       "2005-11-23     0     0        0     0\n",
       "2005-11-24     0     0        0     0\n",
       "2005-11-25     0     0        0     0\n",
       "2005-11-26     0     0        0     0"
      ]
     },
     "execution_count": 44,
     "metadata": {},
     "output_type": "execute_result"
    }
   ],
   "source": [
    "dfEdits.head()"
   ]
  },
  {
   "cell_type": "code",
   "execution_count": 49,
   "metadata": {},
   "outputs": [
    {
     "data": {
      "text/plain": [
       "<matplotlib.legend.Legend at 0x7fc4a4216a58>"
      ]
     },
     "execution_count": 49,
     "metadata": {},
     "output_type": "execute_result"
    },
    {
     "data": {
      "image/png": "[encoded data removed]",
      "text/plain": [
       "<Figure size 1008x216 with 1 Axes>"
      ]
     },
     "metadata": {
      "needs_background": "light"
     },
     "output_type": "display_data"
    }
   ],
   "source": [
    "# -2 week to 2 week lag?\n",
    "# We \"know\" that edits don't lead pageviews but...\n",
    "# TODO right now this excluded \"anon\" users' edits\n",
    "\n",
    "rs = [crosscorr(df2['views'], dfEdits['user'], lag) for lag in range(int(-14),int(14))]\n",
    "offset = np.ceil(len(rs)/2)-np.argmax(rs)\n",
    "f,ax=plt.subplots(figsize=(14,3))\n",
    "ax.plot(rs)\n",
    "ax.axvline(np.ceil(len(rs)/2),color='k',linestyle='--',label='Center')\n",
    "ax.axvline(np.argmax(rs),color='r',linestyle='--',label='Peak synchrony')\n",
    "ax.set(title=f'Offset = {offset} days\\nviews leads <> edits leads',ylim=[.1,.31],xlim=[0,301], xlabel='Offset',ylabel='Pearson r')\n",
    "ax.set_xticks([0, 50, 100, 151, 201, 251, 301])\n",
    "ax.set_xticklabels([-150, -100, -50, 0, 50, 100, 150]);\n",
    "plt.legend()"
   ]
  },
  {
   "cell_type": "code",
   "execution_count": null,
   "metadata": {},
   "outputs": [],
   "source": []
  }
 ],
 "metadata": {
  "kernelspec": {
   "display_name": "Python 3",
   "language": "python",
   "name": "python3"
  },
  "language_info": {
   "codemirror_mode": {
    "name": "ipython",
    "version": 3
   },
   "file_extension": ".py",
   "mimetype": "text/x-python",
   "name": "python",
   "nbconvert_exporter": "python",
   "pygments_lexer": "ipython3",
   "version": "3.6.8"
  }
 },
 "nbformat": 4,
 "nbformat_minor": 2
}
