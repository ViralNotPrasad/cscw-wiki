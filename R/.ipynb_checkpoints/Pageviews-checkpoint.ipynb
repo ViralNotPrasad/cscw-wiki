{
 "cells": [
  {
   "cell_type": "code",
   "execution_count": 1,
   "metadata": {},
   "outputs": [
    {
     "ename": "FileNotFoundError",
     "evalue": "[Errno 2] File b'wiki_hindi_pageviews_2000_thru_Sep2019.csv' does not exist: b'wiki_hindi_pageviews_2000_thru_Sep2019.csv'",
     "output_type": "error",
     "traceback": [
      "\u001b[1;31m---------------------------------------------------------------------------\u001b[0m",
      "\u001b[1;31mFileNotFoundError\u001b[0m                         Traceback (most recent call last)",
      "\u001b[1;32m<ipython-input-1-dc42483ea27b>\u001b[0m in \u001b[0;36m<module>\u001b[1;34m\u001b[0m\n\u001b[0;32m      7\u001b[0m \u001b[1;32mimport\u001b[0m \u001b[0mos\u001b[0m\u001b[1;33m\u001b[0m\u001b[1;33m\u001b[0m\u001b[0m\n\u001b[0;32m      8\u001b[0m \u001b[1;33m\u001b[0m\u001b[0m\n\u001b[1;32m----> 9\u001b[1;33m \u001b[0mdf\u001b[0m \u001b[1;33m=\u001b[0m \u001b[0mpd\u001b[0m\u001b[1;33m.\u001b[0m\u001b[0mread_csv\u001b[0m\u001b[1;33m(\u001b[0m\u001b[1;34m\"wiki_hindi_pageviews_2000_thru_Sep2019.csv\"\u001b[0m\u001b[1;33m)\u001b[0m\u001b[1;33m\u001b[0m\u001b[1;33m\u001b[0m\u001b[0m\n\u001b[0m\u001b[0;32m     10\u001b[0m \u001b[0mdf\u001b[0m\u001b[1;33m.\u001b[0m\u001b[0mhead\u001b[0m\u001b[1;33m(\u001b[0m\u001b[1;33m)\u001b[0m\u001b[1;33m\u001b[0m\u001b[1;33m\u001b[0m\u001b[0m\n",
      "\u001b[1;32m~\\Anaconda3\\lib\\site-packages\\pandas\\io\\parsers.py\u001b[0m in \u001b[0;36mparser_f\u001b[1;34m(filepath_or_buffer, sep, delimiter, header, names, index_col, usecols, squeeze, prefix, mangle_dupe_cols, dtype, engine, converters, true_values, false_values, skipinitialspace, skiprows, skipfooter, nrows, na_values, keep_default_na, na_filter, verbose, skip_blank_lines, parse_dates, infer_datetime_format, keep_date_col, date_parser, dayfirst, cache_dates, iterator, chunksize, compression, thousands, decimal, lineterminator, quotechar, quoting, doublequote, escapechar, comment, encoding, dialect, error_bad_lines, warn_bad_lines, delim_whitespace, low_memory, memory_map, float_precision)\u001b[0m\n\u001b[0;32m    683\u001b[0m         )\n\u001b[0;32m    684\u001b[0m \u001b[1;33m\u001b[0m\u001b[0m\n\u001b[1;32m--> 685\u001b[1;33m         \u001b[1;32mreturn\u001b[0m \u001b[0m_read\u001b[0m\u001b[1;33m(\u001b[0m\u001b[0mfilepath_or_buffer\u001b[0m\u001b[1;33m,\u001b[0m \u001b[0mkwds\u001b[0m\u001b[1;33m)\u001b[0m\u001b[1;33m\u001b[0m\u001b[1;33m\u001b[0m\u001b[0m\n\u001b[0m\u001b[0;32m    686\u001b[0m \u001b[1;33m\u001b[0m\u001b[0m\n\u001b[0;32m    687\u001b[0m     \u001b[0mparser_f\u001b[0m\u001b[1;33m.\u001b[0m\u001b[0m__name__\u001b[0m \u001b[1;33m=\u001b[0m \u001b[0mname\u001b[0m\u001b[1;33m\u001b[0m\u001b[1;33m\u001b[0m\u001b[0m\n",
      "\u001b[1;32m~\\Anaconda3\\lib\\site-packages\\pandas\\io\\parsers.py\u001b[0m in \u001b[0;36m_read\u001b[1;34m(filepath_or_buffer, kwds)\u001b[0m\n\u001b[0;32m    455\u001b[0m \u001b[1;33m\u001b[0m\u001b[0m\n\u001b[0;32m    456\u001b[0m     \u001b[1;31m# Create the parser.\u001b[0m\u001b[1;33m\u001b[0m\u001b[1;33m\u001b[0m\u001b[1;33m\u001b[0m\u001b[0m\n\u001b[1;32m--> 457\u001b[1;33m     \u001b[0mparser\u001b[0m \u001b[1;33m=\u001b[0m \u001b[0mTextFileReader\u001b[0m\u001b[1;33m(\u001b[0m\u001b[0mfp_or_buf\u001b[0m\u001b[1;33m,\u001b[0m \u001b[1;33m**\u001b[0m\u001b[0mkwds\u001b[0m\u001b[1;33m)\u001b[0m\u001b[1;33m\u001b[0m\u001b[1;33m\u001b[0m\u001b[0m\n\u001b[0m\u001b[0;32m    458\u001b[0m \u001b[1;33m\u001b[0m\u001b[0m\n\u001b[0;32m    459\u001b[0m     \u001b[1;32mif\u001b[0m \u001b[0mchunksize\u001b[0m \u001b[1;32mor\u001b[0m \u001b[0miterator\u001b[0m\u001b[1;33m:\u001b[0m\u001b[1;33m\u001b[0m\u001b[1;33m\u001b[0m\u001b[0m\n",
      "\u001b[1;32m~\\Anaconda3\\lib\\site-packages\\pandas\\io\\parsers.py\u001b[0m in \u001b[0;36m__init__\u001b[1;34m(self, f, engine, **kwds)\u001b[0m\n\u001b[0;32m    893\u001b[0m             \u001b[0mself\u001b[0m\u001b[1;33m.\u001b[0m\u001b[0moptions\u001b[0m\u001b[1;33m[\u001b[0m\u001b[1;34m\"has_index_names\"\u001b[0m\u001b[1;33m]\u001b[0m \u001b[1;33m=\u001b[0m \u001b[0mkwds\u001b[0m\u001b[1;33m[\u001b[0m\u001b[1;34m\"has_index_names\"\u001b[0m\u001b[1;33m]\u001b[0m\u001b[1;33m\u001b[0m\u001b[1;33m\u001b[0m\u001b[0m\n\u001b[0;32m    894\u001b[0m \u001b[1;33m\u001b[0m\u001b[0m\n\u001b[1;32m--> 895\u001b[1;33m         \u001b[0mself\u001b[0m\u001b[1;33m.\u001b[0m\u001b[0m_make_engine\u001b[0m\u001b[1;33m(\u001b[0m\u001b[0mself\u001b[0m\u001b[1;33m.\u001b[0m\u001b[0mengine\u001b[0m\u001b[1;33m)\u001b[0m\u001b[1;33m\u001b[0m\u001b[1;33m\u001b[0m\u001b[0m\n\u001b[0m\u001b[0;32m    896\u001b[0m \u001b[1;33m\u001b[0m\u001b[0m\n\u001b[0;32m    897\u001b[0m     \u001b[1;32mdef\u001b[0m \u001b[0mclose\u001b[0m\u001b[1;33m(\u001b[0m\u001b[0mself\u001b[0m\u001b[1;33m)\u001b[0m\u001b[1;33m:\u001b[0m\u001b[1;33m\u001b[0m\u001b[1;33m\u001b[0m\u001b[0m\n",
      "\u001b[1;32m~\\Anaconda3\\lib\\site-packages\\pandas\\io\\parsers.py\u001b[0m in \u001b[0;36m_make_engine\u001b[1;34m(self, engine)\u001b[0m\n\u001b[0;32m   1133\u001b[0m     \u001b[1;32mdef\u001b[0m \u001b[0m_make_engine\u001b[0m\u001b[1;33m(\u001b[0m\u001b[0mself\u001b[0m\u001b[1;33m,\u001b[0m \u001b[0mengine\u001b[0m\u001b[1;33m=\u001b[0m\u001b[1;34m\"c\"\u001b[0m\u001b[1;33m)\u001b[0m\u001b[1;33m:\u001b[0m\u001b[1;33m\u001b[0m\u001b[1;33m\u001b[0m\u001b[0m\n\u001b[0;32m   1134\u001b[0m         \u001b[1;32mif\u001b[0m \u001b[0mengine\u001b[0m \u001b[1;33m==\u001b[0m \u001b[1;34m\"c\"\u001b[0m\u001b[1;33m:\u001b[0m\u001b[1;33m\u001b[0m\u001b[1;33m\u001b[0m\u001b[0m\n\u001b[1;32m-> 1135\u001b[1;33m             \u001b[0mself\u001b[0m\u001b[1;33m.\u001b[0m\u001b[0m_engine\u001b[0m \u001b[1;33m=\u001b[0m \u001b[0mCParserWrapper\u001b[0m\u001b[1;33m(\u001b[0m\u001b[0mself\u001b[0m\u001b[1;33m.\u001b[0m\u001b[0mf\u001b[0m\u001b[1;33m,\u001b[0m \u001b[1;33m**\u001b[0m\u001b[0mself\u001b[0m\u001b[1;33m.\u001b[0m\u001b[0moptions\u001b[0m\u001b[1;33m)\u001b[0m\u001b[1;33m\u001b[0m\u001b[1;33m\u001b[0m\u001b[0m\n\u001b[0m\u001b[0;32m   1136\u001b[0m         \u001b[1;32melse\u001b[0m\u001b[1;33m:\u001b[0m\u001b[1;33m\u001b[0m\u001b[1;33m\u001b[0m\u001b[0m\n\u001b[0;32m   1137\u001b[0m             \u001b[1;32mif\u001b[0m \u001b[0mengine\u001b[0m \u001b[1;33m==\u001b[0m \u001b[1;34m\"python\"\u001b[0m\u001b[1;33m:\u001b[0m\u001b[1;33m\u001b[0m\u001b[1;33m\u001b[0m\u001b[0m\n",
      "\u001b[1;32m~\\Anaconda3\\lib\\site-packages\\pandas\\io\\parsers.py\u001b[0m in \u001b[0;36m__init__\u001b[1;34m(self, src, **kwds)\u001b[0m\n\u001b[0;32m   1915\u001b[0m         \u001b[0mkwds\u001b[0m\u001b[1;33m[\u001b[0m\u001b[1;34m\"usecols\"\u001b[0m\u001b[1;33m]\u001b[0m \u001b[1;33m=\u001b[0m \u001b[0mself\u001b[0m\u001b[1;33m.\u001b[0m\u001b[0musecols\u001b[0m\u001b[1;33m\u001b[0m\u001b[1;33m\u001b[0m\u001b[0m\n\u001b[0;32m   1916\u001b[0m \u001b[1;33m\u001b[0m\u001b[0m\n\u001b[1;32m-> 1917\u001b[1;33m         \u001b[0mself\u001b[0m\u001b[1;33m.\u001b[0m\u001b[0m_reader\u001b[0m \u001b[1;33m=\u001b[0m \u001b[0mparsers\u001b[0m\u001b[1;33m.\u001b[0m\u001b[0mTextReader\u001b[0m\u001b[1;33m(\u001b[0m\u001b[0msrc\u001b[0m\u001b[1;33m,\u001b[0m \u001b[1;33m**\u001b[0m\u001b[0mkwds\u001b[0m\u001b[1;33m)\u001b[0m\u001b[1;33m\u001b[0m\u001b[1;33m\u001b[0m\u001b[0m\n\u001b[0m\u001b[0;32m   1918\u001b[0m         \u001b[0mself\u001b[0m\u001b[1;33m.\u001b[0m\u001b[0munnamed_cols\u001b[0m \u001b[1;33m=\u001b[0m \u001b[0mself\u001b[0m\u001b[1;33m.\u001b[0m\u001b[0m_reader\u001b[0m\u001b[1;33m.\u001b[0m\u001b[0munnamed_cols\u001b[0m\u001b[1;33m\u001b[0m\u001b[1;33m\u001b[0m\u001b[0m\n\u001b[0;32m   1919\u001b[0m \u001b[1;33m\u001b[0m\u001b[0m\n",
      "\u001b[1;32mpandas\\_libs\\parsers.pyx\u001b[0m in \u001b[0;36mpandas._libs.parsers.TextReader.__cinit__\u001b[1;34m()\u001b[0m\n",
      "\u001b[1;32mpandas\\_libs\\parsers.pyx\u001b[0m in \u001b[0;36mpandas._libs.parsers.TextReader._setup_parser_source\u001b[1;34m()\u001b[0m\n",
      "\u001b[1;31mFileNotFoundError\u001b[0m: [Errno 2] File b'wiki_hindi_pageviews_2000_thru_Sep2019.csv' does not exist: b'wiki_hindi_pageviews_2000_thru_Sep2019.csv'"
     ]
    }
   ],
   "source": [
    "import pandas as pd\n",
    "import matplotlib.pyplot as plt\n",
    "import json\n",
    "import datetime as dt\n",
    "import numpy as np\n",
    "import fnmatch\n",
    "import os\n",
    "\n",
    "df = pd.read_csv(\"wiki_hindi_pageviews_2000_thru_Dec2019.csv\")\n",
    "df.head()"
   ]
  },
  {
   "cell_type": "code",
   "execution_count": null,
   "metadata": {},
   "outputs": [],
   "source": [
    "df = df[df['article'] == \"Article 370 of the Constitution of India\"]\n",
    "\n",
    "df['ts'] = pd.to_datetime(df['date'])\n",
    "df = df.drop('date', axis=1)\n",
    "\n",
    "df.head()"
   ]
  },
  {
   "cell_type": "code",
   "execution_count": null,
   "metadata": {},
   "outputs": [],
   "source": [
    "df = df.set_index('ts')\n",
    "\n",
    "df['views'].plot(linestyle='-', linewidth=1.5, color = 'pink')\n",
    "\n",
    "plt.title('Hindi Article 370 Pageviews per day')"
   ]
  },
  {
   "cell_type": "code",
   "execution_count": null,
   "metadata": {},
   "outputs": [],
   "source": [
    "df['views'].plot(linestyle='-', linewidth=1.5, color = 'orange')\n",
    "plt.yscale('log')\n",
    "plt.title('Hindi Article 370 Pageviews per day log scale')"
   ]
  },
  {
   "cell_type": "code",
   "execution_count": null,
   "metadata": {
    "scrolled": true
   },
   "outputs": [],
   "source": [
    "df2 = pd.read_csv(\"wiki_english_pageviews_2000_thru_Dec2019.csv\")\n",
    "df2 = df2[df2['article'] == 'Article_370_of_the_Constitution_of_India']\n",
    "\n",
    "df2['ts'] = pd.to_datetime(df2['date'])\n",
    "df2 = df2.drop('date', axis=1)\n",
    "\n",
    "df2.head()"
   ]
  },
  {
   "cell_type": "code",
   "execution_count": null,
   "metadata": {},
   "outputs": [],
   "source": [
    "df2 = df2.set_index('ts')\n",
    "\n",
    "df2['views'].plot(linestyle='-', linewidth=1.5, color = 'pink') \n",
    "\n",
    "plt.title('English Article 370 Pageviews per day')"
   ]
  },
  {
   "cell_type": "code",
   "execution_count": null,
   "metadata": {},
   "outputs": [],
   "source": [
    "df2['views'].plot(linestyle='-', linewidth=1.5, color = 'orange')\n",
    "plt.yscale('log')\n",
    "\n",
    "plt.title('English Article 370 Pageviews per day log scale')"
   ]
  },
  {
   "cell_type": "code",
   "execution_count": null,
   "metadata": {},
   "outputs": [],
   "source": [
    "df3 = pd.read_csv(\"wiki_urdu_pageviews_2000_thru_Dec2019.csv\")\n",
    "df3 = df3[df3['article'] == \"Article 370 of the Constitution of India\"]\n",
    "\n",
    "df3['ts'] = pd.to_datetime(df3['date'])\n",
    "df3 = df3.drop('date', axis=1)\n",
    "\n",
    "df3.head()"
   ]
  },
  {
   "cell_type": "code",
   "execution_count": null,
   "metadata": {},
   "outputs": [],
   "source": [
    "df3 = df3.set_index('ts')\n",
    "\n",
    "df3['views'].plot(linestyle='-', linewidth=1.5, color = 'pink')\n",
    "\n",
    "plt.title('Urdu Article 370 Pageviews per day')"
   ]
  },
  {
   "cell_type": "code",
   "execution_count": null,
   "metadata": {},
   "outputs": [],
   "source": [
    "df3['views'].plot(linestyle='-', linewidth=1.5, color = 'orange')\n",
    "plt.yscale('log')\n",
    "plt.title('Urdu Article 370 Pageviews per day log scale')"
   ]
  },
  {
   "cell_type": "code",
   "execution_count": null,
   "metadata": {
    "scrolled": true
   },
   "outputs": [],
   "source": [
    "# all at once, save\n",
    "# IDK why there are errors here - the files get made, it seems to work fine\n",
    "'''\n",
    "for file in [ \"wiki_hindi_pageviews_2000_thru_Dec2019.csv\", \"wiki_urdu_pageviews_2000_thru_Dec2019.csv\", \"wiki_english_pageviews_2000_thru_Dec2019.csv\"]:\n",
    "\n",
    "    df0 = pd.read_csv(file)\n",
    "    \n",
    "    if \"hindi\" in file:\n",
    "        lang = \"hindi\"\n",
    "    elif \"english\" in file:\n",
    "        lang = \"english\"\n",
    "    else:\n",
    "        lang = \"urdu\"\n",
    "\n",
    "    for article in [\"Article 370 of the Constitution of India\", \"Kashmir conflict\", \"Insurgency in Jammu and Kashmir\"]:\n",
    "        try:\n",
    "            df = df0[(df0['article'] == article) | (df0['article'] == article.replace(' ', '_'))]\n",
    "\n",
    "            df['ts'] = pd.to_datetime(df['date'])\n",
    "            df = df.drop('date', axis=1)\n",
    "\n",
    "            df = df.set_index('ts')\n",
    "\n",
    "            df['views'].plot(linestyle='-', linewidth=1.5, color = 'orange')\n",
    "            plt.title(lang + ' ' + article + ' Pageviews per day')\n",
    "                \n",
    "            plt.savefig(lang + \" \" + article + \"_pageviews_linear.png\")\n",
    "\n",
    "            plt.clf()\n",
    "\n",
    "            df['views'].plot(linestyle='-', linewidth=1.5, color = 'orange')\n",
    "            plt.yscale('log')\n",
    "            plt.title(lang + ' ' + article + ' Pageviews per day log scale')\n",
    "            plt.savefig(lang + \" \" + article + \"_pageviews_log.png\")\n",
    "\n",
    "            plt.clf()\n",
    "\n",
    "        except:\n",
    "            print('exception')\n",
    "            # do nothing - this will happen with Urdu on Insurgency article because there is no such article\n",
    "'''"
   ]
  },
  {
   "cell_type": "code",
   "execution_count": null,
   "metadata": {},
   "outputs": [],
   "source": [
    "# English pageviews and edits plot....not super illuminating\n",
    "# TODO would be nice if blue x were translucent\n",
    "\n",
    "fig, ax1 = plt.subplots()\n",
    "\n",
    "color = 'tab:orange'\n",
    "ax1.set_xlabel('time (days)')\n",
    "ax1.set_ylabel('pageviews', color=color)\n",
    "ax1.plot(df2['views'], color=color)\n",
    "plt.yscale('log')\n",
    "#ax1.tick_params(axis='y', labelcolor=color)\n",
    "\n",
    "ax2 = ax1.twinx()  # instantiate a second axes that shares the same x-axis\n",
    "\n",
    "mypath = \"../data/revisions/\"\n",
    "for f in os.listdir(mypath):\n",
    "    if fnmatch.fnmatch(f, 'rev_article_en_*.json'):\n",
    "        file = f\n",
    "\n",
    "#file = \"rev_article_en_29-10-2019 23-52-48.json\"\n",
    "\n",
    "with open(mypath + file) as thefile:\n",
    "        data = json.load(thefile)\n",
    "        dfEdits = pd.DataFrame(data)\n",
    "        \n",
    "dfEdits['timestamp'] = pd.to_datetime(dfEdits['timestamp'])\n",
    "dfEdits = dfEdits.set_index('timestamp')\n",
    "dfEdits = dfEdits.groupby(pd.Grouper(freq='D', level=0)).count()\n",
    "\n",
    "color = 'tab:blue'\n",
    "ax2.set_ylabel('edits', color=color)  # we already handled the x-label with ax1\n",
    "ax2.plot(dfEdits['user'], marker='x', linestyle='', color=color)\n",
    "#ax2.tick_params(axis='y', labelcolor=color)\n",
    "\n",
    "fig.tight_layout()  # otherwise the right y-label is slightly clipped\n"
   ]
  },
  {
   "cell_type": "code",
   "execution_count": null,
   "metadata": {},
   "outputs": [],
   "source": [
    "# Correlation\n",
    "\n",
    "def crosscorr(datax, datay, lag=0):\n",
    "    \"\"\" Lag-N cross correlation. \n",
    "    Shifted data filled with NaNs \n",
    "    \n",
    "    Parameters\n",
    "    ----------\n",
    "    lag : int, default 0\n",
    "    datax, datay : pandas.Series objects of equal length\n",
    "    Returns\n",
    "    ----------\n",
    "    crosscorr : float\n",
    "    \"\"\" \n",
    "    return datax.corr(datay.shift(lag))\n",
    "\n",
    "# pandas timezone weirdness requires:\n",
    "dfEdits.index = dfEdits.index.date\n",
    "\n",
    "print(dfEdits.index)\n",
    "\n"
   ]
  },
  {
   "cell_type": "code",
   "execution_count": null,
   "metadata": {},
   "outputs": [],
   "source": [
    "dfEdits.head()"
   ]
  },
  {
   "cell_type": "code",
   "execution_count": null,
   "metadata": {},
   "outputs": [],
   "source": [
    "def findfile(prefix):\n",
    "    '''\n",
    "    This is for finding the file you want, no matter the date in the filename\n",
    "    Assumes the folder has only the most recent files in it\n",
    "    '''\n",
    "    for f in os.listdir(mypath):\n",
    "        if fnmatch.fnmatch(f, prefix + '_*.json'):\n",
    "            return f"
   ]
  },
  {
   "cell_type": "code",
   "execution_count": null,
   "metadata": {},
   "outputs": [],
   "source": [
    "def corrPlot(views, edits, what):\n",
    "    '''\n",
    "    TIME-LAGGED CROSS-CORRELATION\n",
    "    -2 week to 2 week lag\n",
    "    Correlation computed between views per day and edits per day\n",
    "    We \"know\" that edits don't lead pageviews, so in a perfect world there would be no correlation to the right of\n",
    "    center. Interesting results to follow!\n",
    "    '''\n",
    "    rs = [crosscorr(views, edits, lag) for lag in range(int(-14),int(15))]\n",
    "    # Offset tells what lag yielded peak synchrony (positive = views led; negative = edits led)\n",
    "    offset = np.floor(len(rs)/2)-np.argmax(rs)\n",
    "    f,ax=plt.subplots(figsize=(14,3))\n",
    "    ax.plot(rs)\n",
    "    ax.axvline(np.floor(len(rs)/2),color='k',linestyle='--',label='Center')\n",
    "    ax.axvline(np.argmax(rs),color='r',linestyle='--',label='Peak synchrony')\n",
    "    ax.set(title=f'Offset = {offset} days\\nviews leads <> edits leads',ylim=[0,1],xlim=[0,28], xlabel='Offset',ylabel='Pearson r')\n",
    "    # TICKS are -14 to 14: the offsets we set\n",
    "    ax.set_xticks([0, 7, 14, 21, 28])\n",
    "    ax.set_xticklabels([-14, -7, 0, 7, 14]);\n",
    "    plt.suptitle(what + \" correlation between pageviews and edits\", y=1.1)\n",
    "    plt.legend()\n",
    "    \n",
    "\n",
    "def getEdits(filepath):\n",
    "    '''\n",
    "    Get edits dataframe given filepath. File must be json.\n",
    "    '''\n",
    "    with open(filepath) as thefile:\n",
    "            data = json.load(thefile)\n",
    "            dfEdits = pd.DataFrame(data)\n",
    "\n",
    "    dfEdits['timestamp'] = pd.to_datetime(dfEdits['timestamp'])\n",
    "    dfEdits = dfEdits.set_index('timestamp')\n",
    "    dfEdits = dfEdits.groupby(pd.Grouper(freq='D', level=0)).count()\n",
    "\n",
    "    # pandas timezone weirdness requires that we do this\n",
    "    dfEdits.index = dfEdits.index.date\n",
    "\n",
    "    # total edits = edits by registered users + \"anonymous\" edits (IP addresses and people who wish to remain anon)\n",
    "    if 'anon' in dfEdits.columns:\n",
    "        dfEdits['total'] = dfEdits['user'] + dfEdits['anon']\n",
    "    else: # Pulwama Urdu (and maybe others) don't have the anon field\n",
    "        dfEdits['total'] = dfEdits['user']\n",
    "    \n",
    "    return dfEdits\n",
    "\n",
    "\n",
    "def getViews(filepath, article):\n",
    "    '''\n",
    "    Get pageviews dataframe given filepath. File must be csv.\n",
    "    '''\n",
    "    df = pd.read_csv(filepath)\n",
    "    df = df[df['article'] == article]\n",
    "\n",
    "    df['ts'] = pd.to_datetime(df['date'])\n",
    "    df = df.drop('date', axis=1)\n",
    "    df = df.set_index('ts')\n",
    "    \n",
    "    return df\n",
    "\n"
   ]
  },
  {
   "cell_type": "code",
   "execution_count": null,
   "metadata": {},
   "outputs": [],
   "source": [
    "# PULWAMA EDITS\n",
    "\n",
    "mypath = \"../data/revisions/\"\n",
    "for file in [findfile(\"rev_pulwama_en\"), findfile(\"rev_pulwama_hi\"),\n",
    "             findfile(\"rev_pulwama_ur\")]:\n",
    "        edits = getEdits(mypath + file)\n",
    "        print(edits.head())\n",
    "        edits['total'].plot(linestyle='-', linewidth=1.5, title=file)\n",
    "        plt.show()"
   ]
  },
  {
   "cell_type": "code",
   "execution_count": null,
   "metadata": {},
   "outputs": [],
   "source": [
    "# REORGANISATION EDITS\n",
    "\n",
    "mypath = \"../data/revisions/\"\n",
    "for file in [findfile(\"rev_reorg_en\"), findfile(\"rev_reorg_ur\")]:\n",
    "        edits = getEdits(mypath + file)\n",
    "        print(edits.head())\n",
    "        edits['total'].plot(linestyle='-', linewidth=1.5, title=file)\n",
    "        plt.show()"
   ]
  },
  {
   "cell_type": "code",
   "execution_count": null,
   "metadata": {},
   "outputs": [],
   "source": [
    "# THE OG ARTICLES\n",
    "\n",
    "for file in [findfile(\"rev_kash_en\"), findfile(\"rev_kash_hi\"), findfile(\"rev_kash_ur\")]:\n",
    "        edits = getEdits(mypath + file)\n",
    "        edits['total'].plot(linestyle='-', linewidth=1.5, title=file, color=\"gray\")\n",
    "        plt.show()\n",
    "        \n",
    "for file in [findfile(\"rev_article_en\"), findfile(\"rev_article_hi\"), findfile(\"rev_article_ur\")]:\n",
    "        edits = getEdits(mypath + file)\n",
    "        edits['total'].plot(linestyle='-', linewidth=1.5, title=file, color=\"green\")\n",
    "        plt.show()\n",
    "        \n",
    "for file in [findfile(\"rev_insurg_en\"), findfile(\"rev_insurg_hi\")]:\n",
    "        edits = getEdits(mypath + file)\n",
    "        print(edits.head())\n",
    "        edits['total'].plot(linestyle='-', linewidth=1.5, title=file, color=\"purple\")\n",
    "        plt.show()"
   ]
  },
  {
   "cell_type": "code",
   "execution_count": null,
   "metadata": {},
   "outputs": [],
   "source": [
    "for f in os.listdir(mypath):\n",
    "    if fnmatch.fnmatch(f, 'rev_article_en_*.json'):\n",
    "        file = f\n",
    "\n",
    "mypath = \"../data/revisions/\" + file\n",
    "    \n",
    "dfEdits = getEdits(mypath)"
   ]
  },
  {
   "cell_type": "code",
   "execution_count": null,
   "metadata": {},
   "outputs": [],
   "source": [
    "dfEdits.tail()"
   ]
  },
  {
   "cell_type": "code",
   "execution_count": null,
   "metadata": {},
   "outputs": [],
   "source": [
    "corrPlot(df2['views'], dfEdits['total'], \"English Article 370\")"
   ]
  },
  {
   "cell_type": "code",
   "execution_count": null,
   "metadata": {},
   "outputs": [],
   "source": [
    "# Hindi\n",
    "\n",
    "mypath = \"../data/revisions/\"\n",
    "\n",
    "for f in os.listdir(mypath):\n",
    "    if fnmatch.fnmatch(f, 'rev_article_hi_*.json'):\n",
    "        file = f\n",
    "\n",
    "edits = getEdits(\"../data/revisions/\" + file)\n",
    "\n",
    "corrPlot(df['views'], edits['total'], \"Hindi Article 370\")"
   ]
  },
  {
   "cell_type": "code",
   "execution_count": null,
   "metadata": {},
   "outputs": [],
   "source": [
    "# Urdu\n",
    "\n",
    "for f in os.listdir(mypath):\n",
    "    if fnmatch.fnmatch(f, 'rev_article_ur_*.json'):\n",
    "        file = f\n",
    "\n",
    "edits = getEdits(\"../data/revisions/\" + file)\n",
    "\n",
    "corrPlot(df3['views'], edits['total'], \"Urdu Article 370\")"
   ]
  },
  {
   "cell_type": "code",
   "execution_count": null,
   "metadata": {},
   "outputs": [],
   "source": [
    "# Kashmir Conflict\n",
    "\n",
    "# English\n",
    "\n",
    "for f in os.listdir(mypath):\n",
    "    if fnmatch.fnmatch(f, 'rev_kash_en_*.json'):\n",
    "        file = f\n",
    "\n",
    "views = getViews(\"wiki_english_pageviews_2000_thru_Dec2019.csv\", \"Kashmir_conflict\")\n",
    "edits = getEdits(\"../data/revisions/\" + file)\n",
    "\n",
    "views.head()"
   ]
  },
  {
   "cell_type": "code",
   "execution_count": null,
   "metadata": {},
   "outputs": [],
   "source": [
    "corrPlot(views['views'], edits['total'], \"English Kashmir Conflict\")"
   ]
  },
  {
   "cell_type": "code",
   "execution_count": null,
   "metadata": {},
   "outputs": [],
   "source": [
    "# Hindi\n",
    "\n",
    "for f in os.listdir(mypath):\n",
    "    if fnmatch.fnmatch(f, 'rev_kash_hi_*.json'):\n",
    "        file = f\n",
    "\n",
    "views = getViews(\"wiki_hindi_pageviews_2000_thru_Dec2019.csv\", \"Kashmir conflict\")\n",
    "edits = getEdits(\"../data/revisions/\" + file)\n",
    "corrPlot(views['views'], edits['total'], \"Hindi Kashmir Conflict\")"
   ]
  },
  {
   "cell_type": "code",
   "execution_count": null,
   "metadata": {},
   "outputs": [],
   "source": [
    "# Urdu\n",
    "\n",
    "for f in os.listdir(mypath):\n",
    "    if fnmatch.fnmatch(f, 'rev_kash_ur_*.json'):\n",
    "        file = f\n",
    "\n",
    "views = getViews(\"wiki_urdu_pageviews_2000_thru_Dec2019.csv\", \"Kashmir conflict\")\n",
    "edits = getEdits(\"../data/revisions/\" + file)\n",
    "corrPlot(views['views'], edits['total'], \"Urdu Kashmir Conflict\")"
   ]
  },
  {
   "cell_type": "code",
   "execution_count": null,
   "metadata": {},
   "outputs": [],
   "source": [
    "del edits\n",
    "del views"
   ]
  },
  {
   "cell_type": "code",
   "execution_count": null,
   "metadata": {
    "scrolled": true
   },
   "outputs": [],
   "source": [
    "def corrPlotOverlay(views, edits, viewsH, editsH, viewsU, editsU):\n",
    "    '''\n",
    "    TIME-LAGGED CROSS-CORRELATION\n",
    "    -2 week to 2 week lag\n",
    "    Correlation computed between views per day and edits per day\n",
    "    We \"know\" that edits don't lead pageviews, so in a perfect world there would be no correlation to the right of\n",
    "    center. Interesting results to follow!\n",
    "    '''\n",
    "    color = 'orangered'\n",
    "    rs = [crosscorr(views, edits, lag) for lag in range(int(-14),int(15))]\n",
    "    f,ax=plt.subplots(figsize=(14,3))\n",
    "    \n",
    "    # Offset tells what lag yielded peak synchrony (positive = views led; negative = edits led)\n",
    "    ax.plot(rs, color=color, label='English')\n",
    "    ax.axvline(np.argmax(rs),color=color,linestyle='--',label='Peak synchrony')\n",
    "    ax.set(title='views leads <> edits leads',ylim=[0,1],xlim=[0,28], xlabel='Offset',ylabel='Pearson r')\n",
    "    # TICKS are -14 to 14: the offsets we set\n",
    "    ax.set_xticks([0, 7, 14, 21, 28])\n",
    "    ax.set_xticklabels([-14, -7, 0, 7, 14]);\n",
    "    \n",
    "    # Second set\n",
    "    color = 'maroon'\n",
    "    rs = [crosscorr(viewsH, editsH, lag) for lag in range(int(-14),int(15))]\n",
    "    # Offset tells what lag yielded peak synchrony (positive = views led; negative = edits led)\n",
    "    offset = np.floor(len(rs)/2)-np.argmax(rs)\n",
    "    ax.plot(rs, color=color, label='Hindi')\n",
    "    ax.axvline(np.argmax(rs),color=color,linestyle='--',label='Peak synchrony')\n",
    "    \n",
    "    # Third set\n",
    "    color = 'darkturquoise'\n",
    "    rs = [crosscorr(viewsU, editsU, lag) for lag in range(int(-14),int(15))]\n",
    "    # Offset tells what lag yielded peak synchrony (positive = views led; negative = edits led)\n",
    "    offset = np.floor(len(rs)/2)-np.argmax(rs)\n",
    "    ax.plot(rs, color=color, label='Urdu')\n",
    "    ax.axvline(np.argmax(rs),color=color,linestyle='--',label='Peak synchrony')\n",
    "    \n",
    "    plt.suptitle(\"Article 370 correlation between pageviews and edits\", y=1.02)\n",
    "    plt.legend()\n",
    "        \n",
    "viewsEn = getViews(\"wiki_english_pageviews_2000_thru_Dec2019.csv\", \"Article_370_of_the_Constitution_of_India\")\n",
    "editsEn = getEdits(\"../data/revisions/\" + findfile(\"rev_article_en\"))\n",
    "\n",
    "viewsHi = getViews(\"wiki_hindi_pageviews_2000_thru_Dec2019.csv\", \"Article 370 of the Constitution of India\")\n",
    "editsHi = getEdits(\"../data/revisions/\" + findfile(\"rev_article_hi\"))\n",
    "\n",
    "viewsUr = getViews(\"wiki_urdu_pageviews_2000_thru_Dec2019.csv\", \"Article 370 of the Constitution of India\")\n",
    "editsUr = getEdits(\"../data/revisions/\" + findfile(\"rev_article_ur\"))\n",
    "\n",
    "corrPlotOverlay(viewsEn['views'], editsEn['total'], viewsHi['views'], editsHi['total'], viewsUr['views'], editsUr['total'])\n",
    "\n",
    "plt.savefig(\"views_edits_article370_corr.eps\")"
   ]
  },
  {
   "cell_type": "code",
   "execution_count": null,
   "metadata": {},
   "outputs": [],
   "source": [
    "def tsViewsEdits(views, edits, lang):\n",
    "    '''\n",
    "    Just want plot with two time series: edits and views. One call to this fun per language\n",
    "    '''\n",
    "    views = views[dt.date(2019,8,5):dt.date(2019,10,1)]# temporary...\n",
    "    edits = edits[dt.date(2019,8,5):dt.date(2019,10,1)]# temporary...\n",
    "    # Views\n",
    "    fig,ax = plt.subplots()\n",
    "    plt.yscale('log')\n",
    "    ax.plot(views.index, views.views, color=\"red\")\n",
    "    ax.set_ylabel(\"Page views per day\")\n",
    "    # Edits    \n",
    "    ax2 = ax.twinx()\n",
    "    ax2.plot(edits.index, edits.total)\n",
    "    ax2.set_ylabel(\"Edits per day\")\n",
    "    plt.show()\n",
    "\n",
    "editsEn2 = editsEn\n",
    "\n",
    "editsEn2.set_index(pd.to_datetime(editsEn2.index))\n",
    "\n",
    "tsViewsEdits(viewsEn, editsEn2, \"english\")"
   ]
  },
  {
   "cell_type": "code",
   "execution_count": null,
   "metadata": {},
   "outputs": [],
   "source": [
    "editsEn2[dt.date(2019,8,6):dt.date(2019,8,7)]"
   ]
  },
  {
   "cell_type": "code",
   "execution_count": null,
   "metadata": {},
   "outputs": [],
   "source": [
    "editsEn.head"
   ]
  },
  {
   "cell_type": "code",
   "execution_count": null,
   "metadata": {},
   "outputs": [],
   "source": []
  }
 ],
 "metadata": {
  "kernelspec": {
   "display_name": "Python 3",
   "language": "python",
   "name": "python3"
  },
  "language_info": {
   "codemirror_mode": {
    "name": "ipython",
    "version": 3
   },
   "file_extension": ".py",
   "mimetype": "text/x-python",
   "name": "python",
   "nbconvert_exporter": "python",
   "pygments_lexer": "ipython3",
   "version": "3.7.4"
  }
 },
 "nbformat": 4,
 "nbformat_minor": 2
}
