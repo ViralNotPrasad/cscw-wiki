{
 "cells": [
  {
   "cell_type": "code",
   "execution_count": 29,
   "metadata": {},
   "outputs": [
    {
     "data": {
      "text/html": [
       "<div>\n",
       "<style scoped>\n",
       "    .dataframe tbody tr th:only-of-type {\n",
       "        vertical-align: middle;\n",
       "    }\n",
       "\n",
       "    .dataframe tbody tr th {\n",
       "        vertical-align: top;\n",
       "    }\n",
       "\n",
       "    .dataframe thead th {\n",
       "        text-align: right;\n",
       "    }\n",
       "</style>\n",
       "<table border=\"1\" class=\"dataframe\">\n",
       "  <thead>\n",
       "    <tr style=\"text-align: right;\">\n",
       "      <th></th>\n",
       "      <th>Unnamed: 0</th>\n",
       "      <th>project</th>\n",
       "      <th>language</th>\n",
       "      <th>article</th>\n",
       "      <th>access</th>\n",
       "      <th>agent</th>\n",
       "      <th>granularity</th>\n",
       "      <th>date</th>\n",
       "      <th>views</th>\n",
       "    </tr>\n",
       "  </thead>\n",
       "  <tbody>\n",
       "    <tr>\n",
       "      <td>0</td>\n",
       "      <td>1</td>\n",
       "      <td>wikipedia</td>\n",
       "      <td>hi</td>\n",
       "      <td>Kashmir conflict</td>\n",
       "      <td>all-access</td>\n",
       "      <td>all-agents</td>\n",
       "      <td>daily</td>\n",
       "      <td>2015-07-01</td>\n",
       "      <td>15</td>\n",
       "    </tr>\n",
       "    <tr>\n",
       "      <td>1</td>\n",
       "      <td>2</td>\n",
       "      <td>wikipedia</td>\n",
       "      <td>hi</td>\n",
       "      <td>Kashmir conflict</td>\n",
       "      <td>all-access</td>\n",
       "      <td>all-agents</td>\n",
       "      <td>daily</td>\n",
       "      <td>2015-07-02</td>\n",
       "      <td>10</td>\n",
       "    </tr>\n",
       "    <tr>\n",
       "      <td>2</td>\n",
       "      <td>3</td>\n",
       "      <td>wikipedia</td>\n",
       "      <td>hi</td>\n",
       "      <td>Kashmir conflict</td>\n",
       "      <td>all-access</td>\n",
       "      <td>all-agents</td>\n",
       "      <td>daily</td>\n",
       "      <td>2015-07-03</td>\n",
       "      <td>19</td>\n",
       "    </tr>\n",
       "    <tr>\n",
       "      <td>3</td>\n",
       "      <td>4</td>\n",
       "      <td>wikipedia</td>\n",
       "      <td>hi</td>\n",
       "      <td>Kashmir conflict</td>\n",
       "      <td>all-access</td>\n",
       "      <td>all-agents</td>\n",
       "      <td>daily</td>\n",
       "      <td>2015-07-04</td>\n",
       "      <td>10</td>\n",
       "    </tr>\n",
       "    <tr>\n",
       "      <td>4</td>\n",
       "      <td>5</td>\n",
       "      <td>wikipedia</td>\n",
       "      <td>hi</td>\n",
       "      <td>Kashmir conflict</td>\n",
       "      <td>all-access</td>\n",
       "      <td>all-agents</td>\n",
       "      <td>daily</td>\n",
       "      <td>2015-07-05</td>\n",
       "      <td>11</td>\n",
       "    </tr>\n",
       "  </tbody>\n",
       "</table>\n",
       "</div>"
      ],
      "text/plain": [
       "   Unnamed: 0    project language           article      access       agent  \\\n",
       "0           1  wikipedia       hi  Kashmir conflict  all-access  all-agents   \n",
       "1           2  wikipedia       hi  Kashmir conflict  all-access  all-agents   \n",
       "2           3  wikipedia       hi  Kashmir conflict  all-access  all-agents   \n",
       "3           4  wikipedia       hi  Kashmir conflict  all-access  all-agents   \n",
       "4           5  wikipedia       hi  Kashmir conflict  all-access  all-agents   \n",
       "\n",
       "  granularity        date  views  \n",
       "0       daily  2015-07-01     15  \n",
       "1       daily  2015-07-02     10  \n",
       "2       daily  2015-07-03     19  \n",
       "3       daily  2015-07-04     10  \n",
       "4       daily  2015-07-05     11  "
      ]
     },
     "execution_count": 29,
     "metadata": {},
     "output_type": "execute_result"
    }
   ],
   "source": [
    "import pandas as pd\n",
    "import matplotlib.pyplot as plt\n",
    "import json\n",
    "import datetime as dt\n",
    "import numpy as np\n",
    "import fnmatch\n",
    "import os\n",
    "\n",
    "df = pd.read_csv(\"wiki_hindi_pageviews_2000_thru_Sep2019.csv\")\n",
    "df.head()"
   ]
  },
  {
   "cell_type": "code",
   "execution_count": 30,
   "metadata": {},
   "outputs": [
    {
     "data": {
      "text/html": [
       "<div>\n",
       "<style scoped>\n",
       "    .dataframe tbody tr th:only-of-type {\n",
       "        vertical-align: middle;\n",
       "    }\n",
       "\n",
       "    .dataframe tbody tr th {\n",
       "        vertical-align: top;\n",
       "    }\n",
       "\n",
       "    .dataframe thead th {\n",
       "        text-align: right;\n",
       "    }\n",
       "</style>\n",
       "<table border=\"1\" class=\"dataframe\">\n",
       "  <thead>\n",
       "    <tr style=\"text-align: right;\">\n",
       "      <th></th>\n",
       "      <th>Unnamed: 0</th>\n",
       "      <th>project</th>\n",
       "      <th>language</th>\n",
       "      <th>article</th>\n",
       "      <th>access</th>\n",
       "      <th>agent</th>\n",
       "      <th>granularity</th>\n",
       "      <th>views</th>\n",
       "      <th>ts</th>\n",
       "    </tr>\n",
       "  </thead>\n",
       "  <tbody>\n",
       "    <tr>\n",
       "      <td>1554</td>\n",
       "      <td>1555</td>\n",
       "      <td>wikipedia</td>\n",
       "      <td>hi</td>\n",
       "      <td>Article 370 of the Constitution of India</td>\n",
       "      <td>all-access</td>\n",
       "      <td>all-agents</td>\n",
       "      <td>daily</td>\n",
       "      <td>14</td>\n",
       "      <td>2016-10-17</td>\n",
       "    </tr>\n",
       "    <tr>\n",
       "      <td>1555</td>\n",
       "      <td>1556</td>\n",
       "      <td>wikipedia</td>\n",
       "      <td>hi</td>\n",
       "      <td>Article 370 of the Constitution of India</td>\n",
       "      <td>all-access</td>\n",
       "      <td>all-agents</td>\n",
       "      <td>daily</td>\n",
       "      <td>97</td>\n",
       "      <td>2016-10-18</td>\n",
       "    </tr>\n",
       "    <tr>\n",
       "      <td>1556</td>\n",
       "      <td>1557</td>\n",
       "      <td>wikipedia</td>\n",
       "      <td>hi</td>\n",
       "      <td>Article 370 of the Constitution of India</td>\n",
       "      <td>all-access</td>\n",
       "      <td>all-agents</td>\n",
       "      <td>daily</td>\n",
       "      <td>109</td>\n",
       "      <td>2016-10-19</td>\n",
       "    </tr>\n",
       "    <tr>\n",
       "      <td>1557</td>\n",
       "      <td>1558</td>\n",
       "      <td>wikipedia</td>\n",
       "      <td>hi</td>\n",
       "      <td>Article 370 of the Constitution of India</td>\n",
       "      <td>all-access</td>\n",
       "      <td>all-agents</td>\n",
       "      <td>daily</td>\n",
       "      <td>108</td>\n",
       "      <td>2016-10-20</td>\n",
       "    </tr>\n",
       "    <tr>\n",
       "      <td>1558</td>\n",
       "      <td>1559</td>\n",
       "      <td>wikipedia</td>\n",
       "      <td>hi</td>\n",
       "      <td>Article 370 of the Constitution of India</td>\n",
       "      <td>all-access</td>\n",
       "      <td>all-agents</td>\n",
       "      <td>daily</td>\n",
       "      <td>157</td>\n",
       "      <td>2016-10-21</td>\n",
       "    </tr>\n",
       "  </tbody>\n",
       "</table>\n",
       "</div>"
      ],
      "text/plain": [
       "      Unnamed: 0    project language  \\\n",
       "1554        1555  wikipedia       hi   \n",
       "1555        1556  wikipedia       hi   \n",
       "1556        1557  wikipedia       hi   \n",
       "1557        1558  wikipedia       hi   \n",
       "1558        1559  wikipedia       hi   \n",
       "\n",
       "                                       article      access       agent  \\\n",
       "1554  Article 370 of the Constitution of India  all-access  all-agents   \n",
       "1555  Article 370 of the Constitution of India  all-access  all-agents   \n",
       "1556  Article 370 of the Constitution of India  all-access  all-agents   \n",
       "1557  Article 370 of the Constitution of India  all-access  all-agents   \n",
       "1558  Article 370 of the Constitution of India  all-access  all-agents   \n",
       "\n",
       "     granularity  views         ts  \n",
       "1554       daily     14 2016-10-17  \n",
       "1555       daily     97 2016-10-18  \n",
       "1556       daily    109 2016-10-19  \n",
       "1557       daily    108 2016-10-20  \n",
       "1558       daily    157 2016-10-21  "
      ]
     },
     "execution_count": 30,
     "metadata": {},
     "output_type": "execute_result"
    }
   ],
   "source": [
    "df = df[df['article'] == \"Article 370 of the Constitution of India\"]\n",
    "\n",
    "df['ts'] = pd.to_datetime(df['date'])\n",
    "df = df.drop('date', axis=1)\n",
    "\n",
    "df.head()"
   ]
  },
  {
   "cell_type": "code",
   "execution_count": 31,
   "metadata": {},
   "outputs": [
    {
     "data": {
      "text/plain": [
       "Text(0.5, 1.0, 'Hindi Article 370 Pageviews per day')"
      ]
     },
     "execution_count": 31,
     "metadata": {},
     "output_type": "execute_result"
    },
    {
     "data": {
      "image/png": "[encoded data removed]",
      "text/plain": [
       "<Figure size 432x288 with 1 Axes>"
      ]
     },
     "metadata": {
      "needs_background": "light"
     },
     "output_type": "display_data"
    }
   ],
   "source": [
    "df = df.set_index('ts')\n",
    "\n",
    "df['views'].plot(linestyle='-', linewidth=1.5, color = 'pink')\n",
    "\n",
    "plt.title('Hindi Article 370 Pageviews per day')"
   ]
  },
  {
   "cell_type": "code",
   "execution_count": 32,
   "metadata": {},
   "outputs": [
    {
     "data": {
      "text/plain": [
       "Text(0.5, 1.0, 'Hindi Article 370 Pageviews per day log scale')"
      ]
     },
     "execution_count": 32,
     "metadata": {},
     "output_type": "execute_result"
    },
    {
     "data": {
      "image/png": "[encoded data removed]",
      "text/plain": [
       "<Figure size 432x288 with 1 Axes>"
      ]
     },
     "metadata": {
      "needs_background": "light"
     },
     "output_type": "display_data"
    }
   ],
   "source": [
    "df['views'].plot(linestyle='-', linewidth=1.5, color = 'orange')\n",
    "plt.yscale('log')\n",
    "plt.title('Hindi Article 370 Pageviews per day log scale')"
   ]
  },
  {
   "cell_type": "code",
   "execution_count": 33,
   "metadata": {
    "scrolled": true
   },
   "outputs": [
    {
     "data": {
      "text/html": [
       "<div>\n",
       "<style scoped>\n",
       "    .dataframe tbody tr th:only-of-type {\n",
       "        vertical-align: middle;\n",
       "    }\n",
       "\n",
       "    .dataframe tbody tr th {\n",
       "        vertical-align: top;\n",
       "    }\n",
       "\n",
       "    .dataframe thead th {\n",
       "        text-align: right;\n",
       "    }\n",
       "</style>\n",
       "<table border=\"1\" class=\"dataframe\">\n",
       "  <thead>\n",
       "    <tr style=\"text-align: right;\">\n",
       "      <th></th>\n",
       "      <th>Unnamed: 0</th>\n",
       "      <th>project</th>\n",
       "      <th>language</th>\n",
       "      <th>article</th>\n",
       "      <th>access</th>\n",
       "      <th>agent</th>\n",
       "      <th>granularity</th>\n",
       "      <th>views</th>\n",
       "      <th>ts</th>\n",
       "    </tr>\n",
       "  </thead>\n",
       "  <tbody>\n",
       "    <tr>\n",
       "      <td>1554</td>\n",
       "      <td>1555</td>\n",
       "      <td>wikipedia</td>\n",
       "      <td>en</td>\n",
       "      <td>Article_370_of_the_Constitution_of_India</td>\n",
       "      <td>all-access</td>\n",
       "      <td>all-agents</td>\n",
       "      <td>daily</td>\n",
       "      <td>4</td>\n",
       "      <td>2015-07-01</td>\n",
       "    </tr>\n",
       "    <tr>\n",
       "      <td>1555</td>\n",
       "      <td>1556</td>\n",
       "      <td>wikipedia</td>\n",
       "      <td>en</td>\n",
       "      <td>Article_370_of_the_Constitution_of_India</td>\n",
       "      <td>all-access</td>\n",
       "      <td>all-agents</td>\n",
       "      <td>daily</td>\n",
       "      <td>1</td>\n",
       "      <td>2015-07-02</td>\n",
       "    </tr>\n",
       "    <tr>\n",
       "      <td>1556</td>\n",
       "      <td>1557</td>\n",
       "      <td>wikipedia</td>\n",
       "      <td>en</td>\n",
       "      <td>Article_370_of_the_Constitution_of_India</td>\n",
       "      <td>all-access</td>\n",
       "      <td>all-agents</td>\n",
       "      <td>daily</td>\n",
       "      <td>2</td>\n",
       "      <td>2015-07-03</td>\n",
       "    </tr>\n",
       "    <tr>\n",
       "      <td>1557</td>\n",
       "      <td>1558</td>\n",
       "      <td>wikipedia</td>\n",
       "      <td>en</td>\n",
       "      <td>Article_370_of_the_Constitution_of_India</td>\n",
       "      <td>all-access</td>\n",
       "      <td>all-agents</td>\n",
       "      <td>daily</td>\n",
       "      <td>4</td>\n",
       "      <td>2015-07-04</td>\n",
       "    </tr>\n",
       "    <tr>\n",
       "      <td>1558</td>\n",
       "      <td>1559</td>\n",
       "      <td>wikipedia</td>\n",
       "      <td>en</td>\n",
       "      <td>Article_370_of_the_Constitution_of_India</td>\n",
       "      <td>all-access</td>\n",
       "      <td>all-agents</td>\n",
       "      <td>daily</td>\n",
       "      <td>1</td>\n",
       "      <td>2015-07-05</td>\n",
       "    </tr>\n",
       "  </tbody>\n",
       "</table>\n",
       "</div>"
      ],
      "text/plain": [
       "      Unnamed: 0    project language  \\\n",
       "1554        1555  wikipedia       en   \n",
       "1555        1556  wikipedia       en   \n",
       "1556        1557  wikipedia       en   \n",
       "1557        1558  wikipedia       en   \n",
       "1558        1559  wikipedia       en   \n",
       "\n",
       "                                       article      access       agent  \\\n",
       "1554  Article_370_of_the_Constitution_of_India  all-access  all-agents   \n",
       "1555  Article_370_of_the_Constitution_of_India  all-access  all-agents   \n",
       "1556  Article_370_of_the_Constitution_of_India  all-access  all-agents   \n",
       "1557  Article_370_of_the_Constitution_of_India  all-access  all-agents   \n",
       "1558  Article_370_of_the_Constitution_of_India  all-access  all-agents   \n",
       "\n",
       "     granularity  views         ts  \n",
       "1554       daily      4 2015-07-01  \n",
       "1555       daily      1 2015-07-02  \n",
       "1556       daily      2 2015-07-03  \n",
       "1557       daily      4 2015-07-04  \n",
       "1558       daily      1 2015-07-05  "
      ]
     },
     "execution_count": 33,
     "metadata": {},
     "output_type": "execute_result"
    }
   ],
   "source": [
    "df2 = pd.read_csv(\"wiki_english_pageviews_2000_thru_Sep2019.csv\")\n",
    "df2 = df2[df2['article'] == 'Article_370_of_the_Constitution_of_India']\n",
    "\n",
    "df2['ts'] = pd.to_datetime(df2['date'])\n",
    "df2 = df2.drop('date', axis=1)\n",
    "\n",
    "df2.head()"
   ]
  },
  {
   "cell_type": "code",
   "execution_count": 34,
   "metadata": {},
   "outputs": [
    {
     "data": {
      "text/plain": [
       "Text(0.5, 1.0, 'English Article 370 Pageviews per day')"
      ]
     },
     "execution_count": 34,
     "metadata": {},
     "output_type": "execute_result"
    },
    {
     "data": {
      "image/png": "[encoded data removed]",
      "text/plain": [
       "<Figure size 432x288 with 1 Axes>"
      ]
     },
     "metadata": {
      "needs_background": "light"
     },
     "output_type": "display_data"
    }
   ],
   "source": [
    "df2 = df2.set_index('ts')\n",
    "\n",
    "df2['views'].plot(linestyle='-', linewidth=1.5, color = 'pink') \n",
    "\n",
    "plt.title('English Article 370 Pageviews per day')"
   ]
  },
  {
   "cell_type": "code",
   "execution_count": 35,
   "metadata": {},
   "outputs": [
    {
     "data": {
      "text/plain": [
       "Text(0.5, 1.0, 'English Article 370 Pageviews per day log scale')"
      ]
     },
     "execution_count": 35,
     "metadata": {},
     "output_type": "execute_result"
    },
    {
     "data": {
      "image/png": "[encoded data removed]",
      "text/plain": [
       "<Figure size 432x288 with 1 Axes>"
      ]
     },
     "metadata": {
      "needs_background": "light"
     },
     "output_type": "display_data"
    }
   ],
   "source": [
    "df2['views'].plot(linestyle='-', linewidth=1.5, color = 'orange')\n",
    "plt.yscale('log')\n",
    "\n",
    "plt.title('English Article 370 Pageviews per day log scale')"
   ]
  },
  {
   "cell_type": "code",
   "execution_count": 36,
   "metadata": {},
   "outputs": [
    {
     "data": {
      "text/html": [
       "<div>\n",
       "<style scoped>\n",
       "    .dataframe tbody tr th:only-of-type {\n",
       "        vertical-align: middle;\n",
       "    }\n",
       "\n",
       "    .dataframe tbody tr th {\n",
       "        vertical-align: top;\n",
       "    }\n",
       "\n",
       "    .dataframe thead th {\n",
       "        text-align: right;\n",
       "    }\n",
       "</style>\n",
       "<table border=\"1\" class=\"dataframe\">\n",
       "  <thead>\n",
       "    <tr style=\"text-align: right;\">\n",
       "      <th></th>\n",
       "      <th>Unnamed: 0</th>\n",
       "      <th>project</th>\n",
       "      <th>language</th>\n",
       "      <th>article</th>\n",
       "      <th>access</th>\n",
       "      <th>agent</th>\n",
       "      <th>granularity</th>\n",
       "      <th>views</th>\n",
       "      <th>ts</th>\n",
       "    </tr>\n",
       "  </thead>\n",
       "  <tbody>\n",
       "    <tr>\n",
       "      <td>58</td>\n",
       "      <td>59</td>\n",
       "      <td>wikipedia</td>\n",
       "      <td>ur</td>\n",
       "      <td>Article 370 of the Constitution of India</td>\n",
       "      <td>all-access</td>\n",
       "      <td>all-agents</td>\n",
       "      <td>daily</td>\n",
       "      <td>2</td>\n",
       "      <td>2015-07-01</td>\n",
       "    </tr>\n",
       "    <tr>\n",
       "      <td>59</td>\n",
       "      <td>60</td>\n",
       "      <td>wikipedia</td>\n",
       "      <td>ur</td>\n",
       "      <td>Article 370 of the Constitution of India</td>\n",
       "      <td>all-access</td>\n",
       "      <td>all-agents</td>\n",
       "      <td>daily</td>\n",
       "      <td>11</td>\n",
       "      <td>2015-07-02</td>\n",
       "    </tr>\n",
       "    <tr>\n",
       "      <td>60</td>\n",
       "      <td>61</td>\n",
       "      <td>wikipedia</td>\n",
       "      <td>ur</td>\n",
       "      <td>Article 370 of the Constitution of India</td>\n",
       "      <td>all-access</td>\n",
       "      <td>all-agents</td>\n",
       "      <td>daily</td>\n",
       "      <td>11</td>\n",
       "      <td>2015-07-03</td>\n",
       "    </tr>\n",
       "    <tr>\n",
       "      <td>61</td>\n",
       "      <td>62</td>\n",
       "      <td>wikipedia</td>\n",
       "      <td>ur</td>\n",
       "      <td>Article 370 of the Constitution of India</td>\n",
       "      <td>all-access</td>\n",
       "      <td>all-agents</td>\n",
       "      <td>daily</td>\n",
       "      <td>6</td>\n",
       "      <td>2015-07-04</td>\n",
       "    </tr>\n",
       "    <tr>\n",
       "      <td>62</td>\n",
       "      <td>63</td>\n",
       "      <td>wikipedia</td>\n",
       "      <td>ur</td>\n",
       "      <td>Article 370 of the Constitution of India</td>\n",
       "      <td>all-access</td>\n",
       "      <td>all-agents</td>\n",
       "      <td>daily</td>\n",
       "      <td>2</td>\n",
       "      <td>2015-07-05</td>\n",
       "    </tr>\n",
       "  </tbody>\n",
       "</table>\n",
       "</div>"
      ],
      "text/plain": [
       "    Unnamed: 0    project language                                   article  \\\n",
       "58          59  wikipedia       ur  Article 370 of the Constitution of India   \n",
       "59          60  wikipedia       ur  Article 370 of the Constitution of India   \n",
       "60          61  wikipedia       ur  Article 370 of the Constitution of India   \n",
       "61          62  wikipedia       ur  Article 370 of the Constitution of India   \n",
       "62          63  wikipedia       ur  Article 370 of the Constitution of India   \n",
       "\n",
       "        access       agent granularity  views         ts  \n",
       "58  all-access  all-agents       daily      2 2015-07-01  \n",
       "59  all-access  all-agents       daily     11 2015-07-02  \n",
       "60  all-access  all-agents       daily     11 2015-07-03  \n",
       "61  all-access  all-agents       daily      6 2015-07-04  \n",
       "62  all-access  all-agents       daily      2 2015-07-05  "
      ]
     },
     "execution_count": 36,
     "metadata": {},
     "output_type": "execute_result"
    }
   ],
   "source": [
    "df3 = pd.read_csv(\"wiki_urdu_pageviews_2000_thru_Sep2019.csv\")\n",
    "df3 = df3[df3['article'] == \"Article 370 of the Constitution of India\"]\n",
    "\n",
    "df3['ts'] = pd.to_datetime(df3['date'])\n",
    "df3 = df3.drop('date', axis=1)\n",
    "\n",
    "df3.head()"
   ]
  },
  {
   "cell_type": "code",
   "execution_count": 37,
   "metadata": {},
   "outputs": [
    {
     "data": {
      "text/plain": [
       "Text(0.5, 1.0, 'Urdu Article 370 Pageviews per day')"
      ]
     },
     "execution_count": 37,
     "metadata": {},
     "output_type": "execute_result"
    },
    {
     "data": {
      "image/png": "[encoded data removed]",
      "text/plain": [
       "<Figure size 432x288 with 1 Axes>"
      ]
     },
     "metadata": {
      "needs_background": "light"
     },
     "output_type": "display_data"
    }
   ],
   "source": [
    "df3 = df3.set_index('ts')\n",
    "\n",
    "df3['views'].plot(linestyle='-', linewidth=1.5, color = 'pink')\n",
    "\n",
    "plt.title('Urdu Article 370 Pageviews per day')"
   ]
  },
  {
   "cell_type": "code",
   "execution_count": 38,
   "metadata": {},
   "outputs": [
    {
     "data": {
      "text/plain": [
       "Text(0.5, 1.0, 'Urdu Article 370 Pageviews per day log scale')"
      ]
     },
     "execution_count": 38,
     "metadata": {},
     "output_type": "execute_result"
    },
    {
     "data": {
      "image/png": "[encoded data removed]",
      "text/plain": [
       "<Figure size 432x288 with 1 Axes>"
      ]
     },
     "metadata": {
      "needs_background": "light"
     },
     "output_type": "display_data"
    }
   ],
   "source": [
    "df3['views'].plot(linestyle='-', linewidth=1.5, color = 'orange')\n",
    "plt.yscale('log')\n",
    "plt.title('Urdu Article 370 Pageviews per day log scale')"
   ]
  },
  {
   "cell_type": "code",
   "execution_count": 39,
   "metadata": {
    "scrolled": true
   },
   "outputs": [
    {
     "data": {
      "text/plain": [
       "'\\nfor file in [ \"wiki_hindi_pageviews_2000_thru_Sep2019.csv\", \"wiki_urdu_pageviews_2000_thru_Sep2019.csv\", \"wiki_english_pageviews_2000_thru_Sep2019.csv\"]:\\n\\n    df0 = pd.read_csv(file)\\n    \\n    if \"hindi\" in file:\\n        lang = \"hindi\"\\n    elif \"english\" in file:\\n        lang = \"english\"\\n    else:\\n        lang = \"urdu\"\\n\\n    for article in [\"Article 370 of the Constitution of India\", \"Kashmir conflict\", \"Insurgency in Jammu and Kashmir\"]:\\n        try:\\n            df = df0[(df0[\\'article\\'] == article) | (df0[\\'article\\'] == article.replace(\\' \\', \\'_\\'))]\\n\\n            df[\\'ts\\'] = pd.to_datetime(df[\\'date\\'])\\n            df = df.drop(\\'date\\', axis=1)\\n\\n            df = df.set_index(\\'ts\\')\\n\\n            df[\\'views\\'].plot(linestyle=\\'-\\', linewidth=1.5, color = \\'orange\\')\\n            plt.title(lang + \\' \\' + article + \\' Pageviews per day\\')\\n                \\n            plt.savefig(lang + \" \" + article + \"_pageviews_linear.png\")\\n\\n            plt.clf()\\n\\n            df[\\'views\\'].plot(linestyle=\\'-\\', linewidth=1.5, color = \\'orange\\')\\n            plt.yscale(\\'log\\')\\n            plt.title(lang + \\' \\' + article + \\' Pageviews per day log scale\\')\\n            plt.savefig(lang + \" \" + article + \"_pageviews_log.png\")\\n\\n            plt.clf()\\n\\n        except:\\n            print(\\'exception\\')\\n            # do nothing - this will happen with Urdu on Insurgency article because there is no such article\\n'"
      ]
     },
     "execution_count": 39,
     "metadata": {},
     "output_type": "execute_result"
    }
   ],
   "source": [
    "# all at once, save\n",
    "# IDK why there are errors here - the files get made, it seems to work fine\n",
    "'''\n",
    "for file in [ \"wiki_hindi_pageviews_2000_thru_Sep2019.csv\", \"wiki_urdu_pageviews_2000_thru_Sep2019.csv\", \"wiki_english_pageviews_2000_thru_Sep2019.csv\"]:\n",
    "\n",
    "    df0 = pd.read_csv(file)\n",
    "    \n",
    "    if \"hindi\" in file:\n",
    "        lang = \"hindi\"\n",
    "    elif \"english\" in file:\n",
    "        lang = \"english\"\n",
    "    else:\n",
    "        lang = \"urdu\"\n",
    "\n",
    "    for article in [\"Article 370 of the Constitution of India\", \"Kashmir conflict\", \"Insurgency in Jammu and Kashmir\"]:\n",
    "        try:\n",
    "            df = df0[(df0['article'] == article) | (df0['article'] == article.replace(' ', '_'))]\n",
    "\n",
    "            df['ts'] = pd.to_datetime(df['date'])\n",
    "            df = df.drop('date', axis=1)\n",
    "\n",
    "            df = df.set_index('ts')\n",
    "\n",
    "            df['views'].plot(linestyle='-', linewidth=1.5, color = 'orange')\n",
    "            plt.title(lang + ' ' + article + ' Pageviews per day')\n",
    "                \n",
    "            plt.savefig(lang + \" \" + article + \"_pageviews_linear.png\")\n",
    "\n",
    "            plt.clf()\n",
    "\n",
    "            df['views'].plot(linestyle='-', linewidth=1.5, color = 'orange')\n",
    "            plt.yscale('log')\n",
    "            plt.title(lang + ' ' + article + ' Pageviews per day log scale')\n",
    "            plt.savefig(lang + \" \" + article + \"_pageviews_log.png\")\n",
    "\n",
    "            plt.clf()\n",
    "\n",
    "        except:\n",
    "            print('exception')\n",
    "            # do nothing - this will happen with Urdu on Insurgency article because there is no such article\n",
    "'''"
   ]
  },
  {
   "cell_type": "code",
   "execution_count": 40,
   "metadata": {},
   "outputs": [
    {
     "data": {
      "image/png": "[encoded data removed]",
      "text/plain": [
       "<Figure size 432x288 with 2 Axes>"
      ]
     },
     "metadata": {
      "needs_background": "light"
     },
     "output_type": "display_data"
    }
   ],
   "source": [
    "# English pageviews and edits plot....not super illuminating\n",
    "# TODO would be nice if blue x were translucent\n",
    "\n",
    "fig, ax1 = plt.subplots()\n",
    "\n",
    "color = 'tab:orange'\n",
    "ax1.set_xlabel('time (days)')\n",
    "ax1.set_ylabel('pageviews', color=color)\n",
    "ax1.plot(df2['views'], color=color)\n",
    "plt.yscale('log')\n",
    "#ax1.tick_params(axis='y', labelcolor=color)\n",
    "\n",
    "ax2 = ax1.twinx()  # instantiate a second axes that shares the same x-axis\n",
    "\n",
    "mypath = \"../data/revisions/\"\n",
    "for f in os.listdir(mypath):\n",
    "    if fnmatch.fnmatch(f, 'rev_article_en_*.json'):\n",
    "        file = f\n",
    "\n",
    "#file = \"rev_article_en_29-10-2019 23-52-48.json\"\n",
    "\n",
    "with open(mypath + file) as thefile:\n",
    "        data = json.load(thefile)\n",
    "        dfEdits = pd.DataFrame(data)\n",
    "        \n",
    "dfEdits['timestamp'] = pd.to_datetime(dfEdits['timestamp'])\n",
    "dfEdits = dfEdits.set_index('timestamp')\n",
    "dfEdits = dfEdits.groupby(pd.Grouper(freq='D', level=0)).count()\n",
    "\n",
    "color = 'tab:blue'\n",
    "ax2.set_ylabel('edits', color=color)  # we already handled the x-label with ax1\n",
    "ax2.plot(dfEdits['user'], marker='x', linestyle='', color=color)\n",
    "#ax2.tick_params(axis='y', labelcolor=color)\n",
    "\n",
    "fig.tight_layout()  # otherwise the right y-label is slightly clipped\n"
   ]
  },
  {
   "cell_type": "code",
   "execution_count": 41,
   "metadata": {},
   "outputs": [
    {
     "name": "stdout",
     "output_type": "stream",
     "text": [
      "Index([2019-08-05, 2019-08-06, 2019-08-07, 2019-08-08, 2019-08-09, 2019-08-10,\n",
      "       2019-08-11, 2019-08-12, 2019-08-13, 2019-08-14,\n",
      "       ...\n",
      "       2020-01-30, 2020-01-31, 2020-02-01, 2020-02-02, 2020-02-03, 2020-02-04,\n",
      "       2020-02-05, 2020-02-06, 2020-02-07, 2020-02-08],\n",
      "      dtype='object', length=188)\n"
     ]
    }
   ],
   "source": [
    "# Correlation\n",
    "\n",
    "def crosscorr(datax, datay, lag=0):\n",
    "    \"\"\" Lag-N cross correlation. \n",
    "    Shifted data filled with NaNs \n",
    "    \n",
    "    Parameters\n",
    "    ----------\n",
    "    lag : int, default 0\n",
    "    datax, datay : pandas.Series objects of equal length\n",
    "    Returns\n",
    "    ----------\n",
    "    crosscorr : float\n",
    "    \"\"\" \n",
    "    return datax.corr(datay.shift(lag))\n",
    "\n",
    "# pandas timezone weirdness requires:\n",
    "dfEdits.index = dfEdits.index.date\n",
    "\n",
    "print(dfEdits.index)\n",
    "\n"
   ]
  },
  {
   "cell_type": "code",
   "execution_count": 42,
   "metadata": {},
   "outputs": [
    {
     "data": {
      "text/html": [
       "<div>\n",
       "<style scoped>\n",
       "    .dataframe tbody tr th:only-of-type {\n",
       "        vertical-align: middle;\n",
       "    }\n",
       "\n",
       "    .dataframe tbody tr th {\n",
       "        vertical-align: top;\n",
       "    }\n",
       "\n",
       "    .dataframe thead th {\n",
       "        text-align: right;\n",
       "    }\n",
       "</style>\n",
       "<table border=\"1\" class=\"dataframe\">\n",
       "  <thead>\n",
       "    <tr style=\"text-align: right;\">\n",
       "      <th></th>\n",
       "      <th>user</th>\n",
       "      <th>size</th>\n",
       "      <th>comment</th>\n",
       "      <th>anon</th>\n",
       "    </tr>\n",
       "  </thead>\n",
       "  <tbody>\n",
       "    <tr>\n",
       "      <td>2019-08-05</td>\n",
       "      <td>27</td>\n",
       "      <td>27</td>\n",
       "      <td>27</td>\n",
       "      <td>0</td>\n",
       "    </tr>\n",
       "    <tr>\n",
       "      <td>2019-08-06</td>\n",
       "      <td>26</td>\n",
       "      <td>26</td>\n",
       "      <td>26</td>\n",
       "      <td>0</td>\n",
       "    </tr>\n",
       "    <tr>\n",
       "      <td>2019-08-07</td>\n",
       "      <td>28</td>\n",
       "      <td>28</td>\n",
       "      <td>28</td>\n",
       "      <td>0</td>\n",
       "    </tr>\n",
       "    <tr>\n",
       "      <td>2019-08-08</td>\n",
       "      <td>23</td>\n",
       "      <td>23</td>\n",
       "      <td>23</td>\n",
       "      <td>0</td>\n",
       "    </tr>\n",
       "    <tr>\n",
       "      <td>2019-08-09</td>\n",
       "      <td>15</td>\n",
       "      <td>15</td>\n",
       "      <td>15</td>\n",
       "      <td>0</td>\n",
       "    </tr>\n",
       "  </tbody>\n",
       "</table>\n",
       "</div>"
      ],
      "text/plain": [
       "            user  size  comment  anon\n",
       "2019-08-05    27    27       27     0\n",
       "2019-08-06    26    26       26     0\n",
       "2019-08-07    28    28       28     0\n",
       "2019-08-08    23    23       23     0\n",
       "2019-08-09    15    15       15     0"
      ]
     },
     "execution_count": 42,
     "metadata": {},
     "output_type": "execute_result"
    }
   ],
   "source": [
    "dfEdits.head()"
   ]
  },
  {
   "cell_type": "code",
   "execution_count": 58,
   "metadata": {},
   "outputs": [],
   "source": [
    "def corrPlot(views, edits, what):\n",
    "    '''\n",
    "    TIME-LAGGED CROSS-CORRELATION\n",
    "    -2 week to 2 week lag\n",
    "    Correlation computed between views per day and edits per day\n",
    "    We \"know\" that edits don't lead pageviews, so in a perfect world there would be no correlation to the right of\n",
    "    center. Interesting results to follow!\n",
    "    '''\n",
    "    rs = [crosscorr(views, edits, lag) for lag in range(int(-14),int(15))]\n",
    "    # Offset tells what lag yielded peak synchrony (positive = views led; negative = edits led)\n",
    "    offset = np.floor(len(rs)/2)-np.argmax(rs)\n",
    "    f,ax=plt.subplots(figsize=(14,3))\n",
    "    ax.plot(rs)\n",
    "    ax.axvline(np.floor(len(rs)/2),color='k',linestyle='--',label='Center')\n",
    "    ax.axvline(np.argmax(rs),color='r',linestyle='--',label='Peak synchrony')\n",
    "    ax.set(title=f'Offset = {offset} days\\nviews leads <> edits leads',ylim=[0,1],xlim=[0,28], xlabel='Offset',ylabel='Pearson r')\n",
    "    # TICKS are -14 to 14: the offsets we set\n",
    "    ax.set_xticks([0, 7, 14, 21, 28])\n",
    "    ax.set_xticklabels([-14, -7, 0, 7, 14]);\n",
    "    plt.suptitle(what + \" correlation between pageviews and edits\", y=1.1)\n",
    "    plt.legend()\n",
    "    \n",
    "\n",
    "def getEdits(filepath):\n",
    "    '''\n",
    "    Get edits dataframe given filepath. File must be json.\n",
    "    '''\n",
    "    with open(filepath) as thefile:\n",
    "            data = json.load(thefile)\n",
    "            dfEdits = pd.DataFrame(data)\n",
    "\n",
    "    dfEdits['timestamp'] = pd.to_datetime(dfEdits['timestamp'])\n",
    "    dfEdits = dfEdits.set_index('timestamp')\n",
    "    dfEdits = dfEdits.groupby(pd.Grouper(freq='D', level=0)).count()\n",
    "\n",
    "    # pandas timezone weirdness requires that we do this\n",
    "    dfEdits.index = dfEdits.index.date\n",
    "    print(dfEdits)\n",
    "    # total edits = edits by registered users + \"anonymous\" edits (IP addresses and people who wish to remain anon)\n",
    "    if 'anon' in dfEdits.columns:\n",
    "        dfEdits['total'] = dfEdits['user'] + dfEdits['anon']\n",
    "    else: # Pulwama Urdu (and maybe others) don't have the anon field\n",
    "        dfEdits['total'] = dfEdits['user']\n",
    "    \n",
    "    return dfEdits\n",
    "\n",
    "\n",
    "def getViews(filepath, article):\n",
    "    '''\n",
    "    Get pageviews dataframe given filepath. File must be csv.\n",
    "    '''\n",
    "    df = pd.read_csv(filepath)\n",
    "    df = df[df['article'] == article]\n",
    "\n",
    "    df['ts'] = pd.to_datetime(df['date'])\n",
    "    df = df.drop('date', axis=1)\n",
    "    df = df.set_index('ts')\n",
    "    \n",
    "    return df\n",
    "\n"
   ]
  },
  {
   "cell_type": "code",
   "execution_count": 57,
   "metadata": {},
   "outputs": [
    {
     "name": "stdout",
     "output_type": "stream",
     "text": [
      "            user  size  comment  anon\n",
      "2019-02-15    29    29       29     0\n",
      "2019-02-16    46    46       46     0\n",
      "2019-02-17   106   106      106     0\n",
      "2019-02-18    67    67       67    10\n",
      "2019-02-19    35    35       35     0\n",
      "...          ...   ...      ...   ...\n",
      "2020-02-10     0     0        0     0\n",
      "2020-02-11     0     0        0     0\n",
      "2020-02-12     0     0        0     0\n",
      "2020-02-13     1     1        1     0\n",
      "2020-02-14     1     1        1     0\n",
      "\n",
      "[365 rows x 4 columns]\n",
      "            user  anon  size  comment\n",
      "2019-02-15    27     0    27       27\n",
      "2019-02-16     5     0     5        5\n",
      "2019-02-17     7     3     7        7\n",
      "2019-02-18     1     0     1        1\n",
      "2019-02-19     0     0     0        0\n",
      "...          ...   ...   ...      ...\n",
      "2020-02-18     0     0     0        0\n",
      "2020-02-19     0     0     0        0\n",
      "2020-02-20     0     0     0        0\n",
      "2020-02-21     0     0     0        0\n",
      "2020-02-22     1     1     1        1\n",
      "\n",
      "[373 rows x 4 columns]\n"
     ]
    }
   ],
   "source": [
    "# PULWAMA\n",
    "mypath = \"../data/revisions/\"\n",
    "for file in [\"rev_pulwama_en_05-03-2020 17-32-25.json\", \"rev_pulwama_hi_05-03-2020 17-32-26.json\",\n",
    "             \"rev_pulwama_ur_05-03-2020 17-32-26.json\"]:\n",
    "        edits = getEdits(mypath + file)\n",
    "        edits.head()\n",
    "        '''edits['ts'] = pd.to_datetime(edits['date'])\n",
    "        edits = edits.set_index('ts')\n",
    "        edits['views'].plot(linestyle='-', linewidth=1.5, color = 'pink')'''"
   ]
  },
  {
   "cell_type": "code",
   "execution_count": null,
   "metadata": {},
   "outputs": [],
   "source": [
    "for f in os.listdir(mypath):\n",
    "    if fnmatch.fnmatch(f, 'rev_article_en_*.json'):\n",
    "        file = f\n",
    "\n",
    "mypath = \"../data/revisions/\" + file\n",
    "    \n",
    "dfEdits = getEdits(mypath)"
   ]
  },
  {
   "cell_type": "code",
   "execution_count": null,
   "metadata": {},
   "outputs": [],
   "source": [
    "dfEdits.tail()"
   ]
  },
  {
   "cell_type": "code",
   "execution_count": null,
   "metadata": {},
   "outputs": [],
   "source": [
    "corrPlot(df2['views'], dfEdits['total'], \"English Article 370\")"
   ]
  },
  {
   "cell_type": "code",
   "execution_count": null,
   "metadata": {},
   "outputs": [],
   "source": [
    "# Hindi\n",
    "\n",
    "for f in os.listdir(mypath):\n",
    "    if fnmatch.fnmatch(f, 'rev_article_hi_*.json'):\n",
    "        file = f\n",
    "\n",
    "edits = getEdits(\"../data/revisions/\" + file)\n",
    "\n",
    "corrPlot(df['views'], edits['total'], \"Hindi Article 370\")"
   ]
  },
  {
   "cell_type": "code",
   "execution_count": null,
   "metadata": {},
   "outputs": [],
   "source": [
    "# Urdu\n",
    "\n",
    "for f in os.listdir(mypath):\n",
    "    if fnmatch.fnmatch(f, 'rev_article_ur_*.json'):\n",
    "        file = f\n",
    "\n",
    "edits = getEdits(\"../data/revisions/\" + file)\n",
    "\n",
    "corrPlot(df3['views'], edits['total'], \"Urdu Article 370\")"
   ]
  },
  {
   "cell_type": "code",
   "execution_count": null,
   "metadata": {},
   "outputs": [],
   "source": [
    "# Kashmir Conflict\n",
    "\n",
    "# English\n",
    "\n",
    "for f in os.listdir(mypath):\n",
    "    if fnmatch.fnmatch(f, 'rev_kash_en_*.json'):\n",
    "        file = f\n",
    "\n",
    "views = getViews(\"wiki_english_pageviews_2000_thru_Sep2019.csv\", \"Kashmir_conflict\")\n",
    "edits = getEdits(\"../data/revisions/\" + file)\n",
    "\n",
    "views.head()"
   ]
  },
  {
   "cell_type": "code",
   "execution_count": null,
   "metadata": {},
   "outputs": [],
   "source": [
    "corrPlot(views['views'], edits['total'], \"English Kashmir Conflict\")"
   ]
  },
  {
   "cell_type": "code",
   "execution_count": null,
   "metadata": {},
   "outputs": [],
   "source": [
    "# Hindi\n",
    "\n",
    "for f in os.listdir(mypath):\n",
    "    if fnmatch.fnmatch(f, 'rev_kash_hi_*.json'):\n",
    "        file = f\n",
    "\n",
    "views = getViews(\"wiki_hindi_pageviews_2000_thru_Sep2019.csv\", \"Kashmir conflict\")\n",
    "edits = getEdits(\"../data/revisions/\" + file)\n",
    "corrPlot(views['views'], edits['total'], \"Hindi Kashmir Conflict\")"
   ]
  },
  {
   "cell_type": "code",
   "execution_count": null,
   "metadata": {},
   "outputs": [],
   "source": [
    "# Urdu\n",
    "\n",
    "for f in os.listdir(mypath):\n",
    "    if fnmatch.fnmatch(f, 'rev_kash_ur_*.json'):\n",
    "        file = f\n",
    "\n",
    "views = getViews(\"wiki_urdu_pageviews_2000_thru_Sep2019.csv\", \"Kashmir conflict\")\n",
    "edits = getEdits(\"../data/revisions/\" + file)\n",
    "corrPlot(views['views'], edits['total'], \"Urdu Kashmir Conflict\")"
   ]
  },
  {
   "cell_type": "code",
   "execution_count": 48,
   "metadata": {},
   "outputs": [
    {
     "name": "stderr",
     "output_type": "stream",
     "text": [
      "The PostScript backend does not support transparency; partially transparent artists will be rendered opaque.\n",
      "The PostScript backend does not support transparency; partially transparent artists will be rendered opaque.\n"
     ]
    },
    {
     "name": "stdout",
     "output_type": "stream",
     "text": [
      "            user  size  comment  anon\n",
      "2019-08-05    27    27       27     0\n",
      "2019-08-06    26    26       26     0\n",
      "2019-08-07    28    28       28     0\n",
      "2019-08-08    23    23       23     0\n",
      "2019-08-09    15    15       15     0\n",
      "...          ...   ...      ...   ...\n",
      "2020-02-04     0     0        0     0\n",
      "2020-02-05     0     0        0     0\n",
      "2020-02-06     1     1        1     0\n",
      "2020-02-07     0     0        0     0\n",
      "2020-02-08     3     3        3     0\n",
      "\n",
      "[188 rows x 4 columns]\n",
      "            user  size  comment  anon\n",
      "2011-03-12     4     4        4     0\n",
      "2011-03-13     0     0        0     0\n",
      "2011-03-14     0     0        0     0\n",
      "2011-03-15     0     0        0     0\n",
      "2011-03-16     0     0        0     0\n",
      "...          ...   ...      ...   ...\n",
      "2020-02-25     0     0        0     0\n",
      "2020-02-26     0     0        0     0\n",
      "2020-02-27     0     0        0     0\n",
      "2020-02-28     0     0        0     0\n",
      "2020-02-29     1     1        1     0\n",
      "\n",
      "[3277 rows x 4 columns]\n",
      "            user  size  comment  anon\n",
      "2018-09-27    13    13       13     1\n",
      "2018-09-28     0     0        0     0\n",
      "2018-09-29     0     0        0     0\n",
      "2018-09-30     0     0        0     0\n",
      "2018-10-01     1     1        1     0\n",
      "...          ...   ...      ...   ...\n",
      "2019-12-16     0     0        0     0\n",
      "2019-12-17     0     0        0     0\n",
      "2019-12-18     0     0        0     0\n",
      "2019-12-19     0     0        0     0\n",
      "2019-12-20     2     2        2     0\n",
      "\n",
      "[450 rows x 4 columns]\n"
     ]
    },
    {
     "data": {
      "image/png": "[encoded data removed]",
      "text/plain": [
       "<Figure size 1008x216 with 1 Axes>"
      ]
     },
     "metadata": {
      "needs_background": "light"
     },
     "output_type": "display_data"
    }
   ],
   "source": [
    "\n",
    "def corrPlotOverlay(views, edits, viewsH, editsH, viewsU, editsU):\n",
    "    '''\n",
    "    TIME-LAGGED CROSS-CORRELATION\n",
    "    -2 week to 2 week lag\n",
    "    Correlation computed between views per day and edits per day\n",
    "    We \"know\" that edits don't lead pageviews, so in a perfect world there would be no correlation to the right of\n",
    "    center. Interesting results to follow!\n",
    "    '''\n",
    "    color = 'orangered'\n",
    "    rs = [crosscorr(views, edits, lag) for lag in range(int(-14),int(15))]\n",
    "    f,ax=plt.subplots(figsize=(14,3))\n",
    "    \n",
    "    # Offset tells what lag yielded peak synchrony (positive = views led; negative = edits led)\n",
    "    ax.plot(rs, color=color, label='English')\n",
    "    ax.axvline(np.argmax(rs),color=color,linestyle='--',label='Peak synchrony')\n",
    "    ax.set(title='views leads <> edits leads',ylim=[0,1],xlim=[0,28], xlabel='Offset',ylabel='Pearson r')\n",
    "    # TICKS are -14 to 14: the offsets we set\n",
    "    ax.set_xticks([0, 7, 14, 21, 28])\n",
    "    ax.set_xticklabels([-14, -7, 0, 7, 14]);\n",
    "    \n",
    "    # Second set\n",
    "    color = 'maroon'\n",
    "    rs = [crosscorr(viewsH, editsH, lag) for lag in range(int(-14),int(15))]\n",
    "    # Offset tells what lag yielded peak synchrony (positive = views led; negative = edits led)\n",
    "    offset = np.floor(len(rs)/2)-np.argmax(rs)\n",
    "    ax.plot(rs, color=color, label='Hindi')\n",
    "    ax.axvline(np.argmax(rs),color=color,linestyle='--',label='Peak synchrony')\n",
    "    \n",
    "    # Third set\n",
    "    color = 'darkturquoise'\n",
    "    rs = [crosscorr(viewsU, editsU, lag) for lag in range(int(-14),int(15))]\n",
    "    # Offset tells what lag yielded peak synchrony (positive = views led; negative = edits led)\n",
    "    offset = np.floor(len(rs)/2)-np.argmax(rs)\n",
    "    ax.plot(rs, color=color, label='Urdu')\n",
    "    ax.axvline(np.argmax(rs),color=color,linestyle='--',label='Peak synchrony')\n",
    "    \n",
    "    plt.suptitle(\"Article 370 correlation between pageviews and edits\", y=1.02)\n",
    "    plt.legend()\n",
    "    \n",
    "def findfile(prefix):\n",
    "    for f in os.listdir(mypath):\n",
    "        if fnmatch.fnmatch(f, prefix + '_*.json'):\n",
    "            return f\n",
    "        \n",
    "viewsEn = getViews(\"wiki_english_pageviews_2000_thru_Sep2019.csv\", \"Article_370_of_the_Constitution_of_India\")\n",
    "editsEn = getEdits(\"../data/revisions/\" + findfile(\"rev_article_en\"))\n",
    "\n",
    "viewsHi = getViews(\"wiki_hindi_pageviews_2000_thru_Sep2019.csv\", \"Article 370 of the Constitution of India\")\n",
    "editsHi = getEdits(\"../data/revisions/\" + findfile(\"rev_article_hi\"))\n",
    "\n",
    "viewsUr = getViews(\"wiki_urdu_pageviews_2000_thru_Sep2019.csv\", \"Article 370 of the Constitution of India\")\n",
    "editsUr = getEdits(\"../data/revisions/\" + findfile(\"rev_article_ur\"))\n",
    "\n",
    "corrPlotOverlay(viewsEn['views'], editsEn['total'], viewsHi['views'], editsHi['total'], viewsUr['views'], editsUr['total'])\n",
    "\n",
    "plt.savefig(\"views_edits_article370_corr.eps\")"
   ]
  },
  {
   "cell_type": "code",
   "execution_count": null,
   "metadata": {},
   "outputs": [],
   "source": []
  },
  {
   "cell_type": "code",
   "execution_count": null,
   "metadata": {},
   "outputs": [],
   "source": []
  }
 ],
 "metadata": {
  "kernelspec": {
   "display_name": "Python 3",
   "language": "python",
   "name": "python3"
  },
  "language_info": {
   "codemirror_mode": {
    "name": "ipython",
    "version": 3
   },
   "file_extension": ".py",
   "mimetype": "text/x-python",
   "name": "python",
   "nbconvert_exporter": "python",
   "pygments_lexer": "ipython3",
   "version": "3.7.4"
  }
 },
 "nbformat": 4,
 "nbformat_minor": 2
}
